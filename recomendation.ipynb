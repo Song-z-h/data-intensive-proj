{
  "cells": [
    {
      "cell_type": "markdown",
      "metadata": {
        "id": "view-in-github",
        "colab_type": "text"
      },
      "source": [
        "<a href=\"https://colab.research.google.com/github/Song-z-h/data-intensive-proj/blob/master/recomendation.ipynb\" target=\"_parent\"><img src=\"https://colab.research.google.com/assets/colab-badge.svg\" alt=\"Open In Colab\"/></a>"
      ]
    },
    {
      "cell_type": "markdown",
      "metadata": {
        "id": "5DKJWz7tTqWk"
      },
      "source": [
        "# Progetto: Book Recommendation\n",
        "\n",
        "**Programmazione di Applicazioni Data Intensive**  \n",
        "Laurea in Ingegneria e Scienze Informatiche  \n",
        "DISI - Università di Bologna, Cesena\n",
        "\n",
        "zhaohui.song@studio.unibo.it  giuseppe.pintus2@studio.unibo.it\n"
      ]
    },
    {
      "cell_type": "code",
      "execution_count": 1,
      "metadata": {
        "id": "Wh8KkZf22-lH",
        "colab": {
          "base_uri": "https://localhost:8080/"
        },
        "outputId": "a694a176-83ab-4132-8678-d8e64c4ad9f6"
      },
      "outputs": [
        {
          "output_type": "stream",
          "name": "stdout",
          "text": [
            "Mounted at /content/drive\n"
          ]
        }
      ],
      "source": [
        "from google.colab import drive\n",
        "drive.mount('/content/drive')"
      ]
    },
    {
      "cell_type": "markdown",
      "metadata": {
        "id": "UZkIEzKqXi5u"
      },
      "source": [
        "dataset\n",
        "https://www.kaggle.com/code/sercanyesiloz/book-recommendation-system/input?select=Books+Data+with+Category+Language+and+Summary"
      ]
    },
    {
      "cell_type": "markdown",
      "metadata": {
        "id": "2CrymUYPOu-W"
      },
      "source": [
        "# Project objective"
      ]
    },
    {
      "cell_type": "markdown",
      "metadata": {
        "id": "rhVo-O3pO2Fh"
      },
      "source": [
        "## Import data"
      ]
    },
    {
      "cell_type": "code",
      "execution_count": 2,
      "metadata": {
        "id": "k2zDxjVW5q5E"
      },
      "outputs": [],
      "source": [
        "import os\n",
        "import numpy as np\n",
        "import pandas as pd\n",
        "\n",
        "import seaborn as sns\n",
        "import plotly.express as px\n",
        "import matplotlib.pyplot as plt\n",
        "%matplotlib inline\n",
        "import gc\n",
        "\n",
        "from sklearn.cluster import KMeans\n",
        "from sklearn.preprocessing import StandardScaler\n",
        "from sklearn.pipeline import Pipeline\n",
        "from sklearn.manifold import TSNE\n",
        "from sklearn.decomposition import PCA\n",
        "from sklearn.metrics import euclidean_distances\n",
        "from scipy.spatial.distance import cdist\n",
        "\n",
        "import warnings\n",
        "warnings.filterwarnings(\"ignore\")"
      ]
    },
    {
      "cell_type": "code",
      "execution_count": 3,
      "metadata": {
        "id": "MAsBLBx0O6gu"
      },
      "outputs": [],
      "source": [
        "import zipfile\n",
        "\n",
        "#substitute this path with the path in your drive, or just load the zip file\n",
        "with zipfile.ZipFile('drive/MyDrive/dataintensive/archive.zip', 'r') as zip_ref:\n",
        "    zip_ref.extractall('data')\n"
      ]
    },
    {
      "cell_type": "code",
      "execution_count": 4,
      "metadata": {
        "id": "DtUaqtj_QY3r"
      },
      "outputs": [],
      "source": [
        "import pandas as pd\n",
        "\n",
        "df = pd.read_csv('data/Preprocessed_data.csv')\n",
        "\n",
        "#dfuser = pd.read_csv('data/reviews/BX-Users.csv', encoding=\"latin-1\", sep=\";\" , on_bad_lines='skip')\n",
        "\n",
        "#dfrate = pd.read_csv('data/reviews/BX-Book-Ratings.csv', encoding=\"latin-1\", sep=\";\" , on_bad_lines='skip')\n",
        "\n",
        "#dfbook = pd.read_csv('data/reviews/BX-Books.csv', encoding=\"latin-1\", sep=\";\" , on_bad_lines='skip')\n",
        "\n"
      ]
    },
    {
      "cell_type": "markdown",
      "metadata": {
        "id": "lv2fkqs5KWRA"
      },
      "source": [
        "# Data Description"
      ]
    },
    {
      "cell_type": "code",
      "execution_count": 5,
      "metadata": {
        "id": "rS5QBxEhoO7L",
        "colab": {
          "base_uri": "https://localhost:8080/",
          "height": 206
        },
        "outputId": "71b378a6-5261-41ca-866e-e3650b95073e"
      },
      "outputs": [
        {
          "output_type": "execute_result",
          "data": {
            "text/plain": [
              "   user_id        isbn  rating\n",
              "0        2  0195153448       0\n",
              "1        8  0002005018       5\n",
              "2    11400  0002005018       0\n",
              "3    11676  0002005018       8\n",
              "4    41385  0002005018       0"
            ],
            "text/html": [
              "\n",
              "  <div id=\"df-40afce2e-c768-4ac9-bbba-ab13d5f21bf3\" class=\"colab-df-container\">\n",
              "    <div>\n",
              "<style scoped>\n",
              "    .dataframe tbody tr th:only-of-type {\n",
              "        vertical-align: middle;\n",
              "    }\n",
              "\n",
              "    .dataframe tbody tr th {\n",
              "        vertical-align: top;\n",
              "    }\n",
              "\n",
              "    .dataframe thead th {\n",
              "        text-align: right;\n",
              "    }\n",
              "</style>\n",
              "<table border=\"1\" class=\"dataframe\">\n",
              "  <thead>\n",
              "    <tr style=\"text-align: right;\">\n",
              "      <th></th>\n",
              "      <th>user_id</th>\n",
              "      <th>isbn</th>\n",
              "      <th>rating</th>\n",
              "    </tr>\n",
              "  </thead>\n",
              "  <tbody>\n",
              "    <tr>\n",
              "      <th>0</th>\n",
              "      <td>2</td>\n",
              "      <td>0195153448</td>\n",
              "      <td>0</td>\n",
              "    </tr>\n",
              "    <tr>\n",
              "      <th>1</th>\n",
              "      <td>8</td>\n",
              "      <td>0002005018</td>\n",
              "      <td>5</td>\n",
              "    </tr>\n",
              "    <tr>\n",
              "      <th>2</th>\n",
              "      <td>11400</td>\n",
              "      <td>0002005018</td>\n",
              "      <td>0</td>\n",
              "    </tr>\n",
              "    <tr>\n",
              "      <th>3</th>\n",
              "      <td>11676</td>\n",
              "      <td>0002005018</td>\n",
              "      <td>8</td>\n",
              "    </tr>\n",
              "    <tr>\n",
              "      <th>4</th>\n",
              "      <td>41385</td>\n",
              "      <td>0002005018</td>\n",
              "      <td>0</td>\n",
              "    </tr>\n",
              "  </tbody>\n",
              "</table>\n",
              "</div>\n",
              "    <div class=\"colab-df-buttons\">\n",
              "\n",
              "  <div class=\"colab-df-container\">\n",
              "    <button class=\"colab-df-convert\" onclick=\"convertToInteractive('df-40afce2e-c768-4ac9-bbba-ab13d5f21bf3')\"\n",
              "            title=\"Convert this dataframe to an interactive table.\"\n",
              "            style=\"display:none;\">\n",
              "\n",
              "  <svg xmlns=\"http://www.w3.org/2000/svg\" height=\"24px\" viewBox=\"0 -960 960 960\">\n",
              "    <path d=\"M120-120v-720h720v720H120Zm60-500h600v-160H180v160Zm220 220h160v-160H400v160Zm0 220h160v-160H400v160ZM180-400h160v-160H180v160Zm440 0h160v-160H620v160ZM180-180h160v-160H180v160Zm440 0h160v-160H620v160Z\"/>\n",
              "  </svg>\n",
              "    </button>\n",
              "\n",
              "  <style>\n",
              "    .colab-df-container {\n",
              "      display:flex;\n",
              "      gap: 12px;\n",
              "    }\n",
              "\n",
              "    .colab-df-convert {\n",
              "      background-color: #E8F0FE;\n",
              "      border: none;\n",
              "      border-radius: 50%;\n",
              "      cursor: pointer;\n",
              "      display: none;\n",
              "      fill: #1967D2;\n",
              "      height: 32px;\n",
              "      padding: 0 0 0 0;\n",
              "      width: 32px;\n",
              "    }\n",
              "\n",
              "    .colab-df-convert:hover {\n",
              "      background-color: #E2EBFA;\n",
              "      box-shadow: 0px 1px 2px rgba(60, 64, 67, 0.3), 0px 1px 3px 1px rgba(60, 64, 67, 0.15);\n",
              "      fill: #174EA6;\n",
              "    }\n",
              "\n",
              "    .colab-df-buttons div {\n",
              "      margin-bottom: 4px;\n",
              "    }\n",
              "\n",
              "    [theme=dark] .colab-df-convert {\n",
              "      background-color: #3B4455;\n",
              "      fill: #D2E3FC;\n",
              "    }\n",
              "\n",
              "    [theme=dark] .colab-df-convert:hover {\n",
              "      background-color: #434B5C;\n",
              "      box-shadow: 0px 1px 3px 1px rgba(0, 0, 0, 0.15);\n",
              "      filter: drop-shadow(0px 1px 2px rgba(0, 0, 0, 0.3));\n",
              "      fill: #FFFFFF;\n",
              "    }\n",
              "  </style>\n",
              "\n",
              "    <script>\n",
              "      const buttonEl =\n",
              "        document.querySelector('#df-40afce2e-c768-4ac9-bbba-ab13d5f21bf3 button.colab-df-convert');\n",
              "      buttonEl.style.display =\n",
              "        google.colab.kernel.accessAllowed ? 'block' : 'none';\n",
              "\n",
              "      async function convertToInteractive(key) {\n",
              "        const element = document.querySelector('#df-40afce2e-c768-4ac9-bbba-ab13d5f21bf3');\n",
              "        const dataTable =\n",
              "          await google.colab.kernel.invokeFunction('convertToInteractive',\n",
              "                                                    [key], {});\n",
              "        if (!dataTable) return;\n",
              "\n",
              "        const docLinkHtml = 'Like what you see? Visit the ' +\n",
              "          '<a target=\"_blank\" href=https://colab.research.google.com/notebooks/data_table.ipynb>data table notebook</a>'\n",
              "          + ' to learn more about interactive tables.';\n",
              "        element.innerHTML = '';\n",
              "        dataTable['output_type'] = 'display_data';\n",
              "        await google.colab.output.renderOutput(dataTable, element);\n",
              "        const docLink = document.createElement('div');\n",
              "        docLink.innerHTML = docLinkHtml;\n",
              "        element.appendChild(docLink);\n",
              "      }\n",
              "    </script>\n",
              "  </div>\n",
              "\n",
              "\n",
              "<div id=\"df-b52b572e-ee56-497c-9c1d-e0b0fff59e12\">\n",
              "  <button class=\"colab-df-quickchart\" onclick=\"quickchart('df-b52b572e-ee56-497c-9c1d-e0b0fff59e12')\"\n",
              "            title=\"Suggest charts.\"\n",
              "            style=\"display:none;\">\n",
              "\n",
              "<svg xmlns=\"http://www.w3.org/2000/svg\" height=\"24px\"viewBox=\"0 0 24 24\"\n",
              "     width=\"24px\">\n",
              "    <g>\n",
              "        <path d=\"M19 3H5c-1.1 0-2 .9-2 2v14c0 1.1.9 2 2 2h14c1.1 0 2-.9 2-2V5c0-1.1-.9-2-2-2zM9 17H7v-7h2v7zm4 0h-2V7h2v10zm4 0h-2v-4h2v4z\"/>\n",
              "    </g>\n",
              "</svg>\n",
              "  </button>\n",
              "\n",
              "<style>\n",
              "  .colab-df-quickchart {\n",
              "      --bg-color: #E8F0FE;\n",
              "      --fill-color: #1967D2;\n",
              "      --hover-bg-color: #E2EBFA;\n",
              "      --hover-fill-color: #174EA6;\n",
              "      --disabled-fill-color: #AAA;\n",
              "      --disabled-bg-color: #DDD;\n",
              "  }\n",
              "\n",
              "  [theme=dark] .colab-df-quickchart {\n",
              "      --bg-color: #3B4455;\n",
              "      --fill-color: #D2E3FC;\n",
              "      --hover-bg-color: #434B5C;\n",
              "      --hover-fill-color: #FFFFFF;\n",
              "      --disabled-bg-color: #3B4455;\n",
              "      --disabled-fill-color: #666;\n",
              "  }\n",
              "\n",
              "  .colab-df-quickchart {\n",
              "    background-color: var(--bg-color);\n",
              "    border: none;\n",
              "    border-radius: 50%;\n",
              "    cursor: pointer;\n",
              "    display: none;\n",
              "    fill: var(--fill-color);\n",
              "    height: 32px;\n",
              "    padding: 0;\n",
              "    width: 32px;\n",
              "  }\n",
              "\n",
              "  .colab-df-quickchart:hover {\n",
              "    background-color: var(--hover-bg-color);\n",
              "    box-shadow: 0 1px 2px rgba(60, 64, 67, 0.3), 0 1px 3px 1px rgba(60, 64, 67, 0.15);\n",
              "    fill: var(--button-hover-fill-color);\n",
              "  }\n",
              "\n",
              "  .colab-df-quickchart-complete:disabled,\n",
              "  .colab-df-quickchart-complete:disabled:hover {\n",
              "    background-color: var(--disabled-bg-color);\n",
              "    fill: var(--disabled-fill-color);\n",
              "    box-shadow: none;\n",
              "  }\n",
              "\n",
              "  .colab-df-spinner {\n",
              "    border: 2px solid var(--fill-color);\n",
              "    border-color: transparent;\n",
              "    border-bottom-color: var(--fill-color);\n",
              "    animation:\n",
              "      spin 1s steps(1) infinite;\n",
              "  }\n",
              "\n",
              "  @keyframes spin {\n",
              "    0% {\n",
              "      border-color: transparent;\n",
              "      border-bottom-color: var(--fill-color);\n",
              "      border-left-color: var(--fill-color);\n",
              "    }\n",
              "    20% {\n",
              "      border-color: transparent;\n",
              "      border-left-color: var(--fill-color);\n",
              "      border-top-color: var(--fill-color);\n",
              "    }\n",
              "    30% {\n",
              "      border-color: transparent;\n",
              "      border-left-color: var(--fill-color);\n",
              "      border-top-color: var(--fill-color);\n",
              "      border-right-color: var(--fill-color);\n",
              "    }\n",
              "    40% {\n",
              "      border-color: transparent;\n",
              "      border-right-color: var(--fill-color);\n",
              "      border-top-color: var(--fill-color);\n",
              "    }\n",
              "    60% {\n",
              "      border-color: transparent;\n",
              "      border-right-color: var(--fill-color);\n",
              "    }\n",
              "    80% {\n",
              "      border-color: transparent;\n",
              "      border-right-color: var(--fill-color);\n",
              "      border-bottom-color: var(--fill-color);\n",
              "    }\n",
              "    90% {\n",
              "      border-color: transparent;\n",
              "      border-bottom-color: var(--fill-color);\n",
              "    }\n",
              "  }\n",
              "</style>\n",
              "\n",
              "  <script>\n",
              "    async function quickchart(key) {\n",
              "      const quickchartButtonEl =\n",
              "        document.querySelector('#' + key + ' button');\n",
              "      quickchartButtonEl.disabled = true;  // To prevent multiple clicks.\n",
              "      quickchartButtonEl.classList.add('colab-df-spinner');\n",
              "      try {\n",
              "        const charts = await google.colab.kernel.invokeFunction(\n",
              "            'suggestCharts', [key], {});\n",
              "      } catch (error) {\n",
              "        console.error('Error during call to suggestCharts:', error);\n",
              "      }\n",
              "      quickchartButtonEl.classList.remove('colab-df-spinner');\n",
              "      quickchartButtonEl.classList.add('colab-df-quickchart-complete');\n",
              "    }\n",
              "    (() => {\n",
              "      let quickchartButtonEl =\n",
              "        document.querySelector('#df-b52b572e-ee56-497c-9c1d-e0b0fff59e12 button');\n",
              "      quickchartButtonEl.style.display =\n",
              "        google.colab.kernel.accessAllowed ? 'block' : 'none';\n",
              "    })();\n",
              "  </script>\n",
              "</div>\n",
              "    </div>\n",
              "  </div>\n"
            ]
          },
          "metadata": {},
          "execution_count": 5
        }
      ],
      "source": [
        "ratings_df =df[[\"user_id\",\"isbn\",\"rating\"]]\n",
        "ratings_df.head(5)"
      ]
    },
    {
      "cell_type": "code",
      "execution_count": 6,
      "metadata": {
        "id": "_xlDeNMmpIm3"
      },
      "outputs": [],
      "source": [
        "set_size=200000\n",
        "ratings = ratings_df[:set_size]\n",
        "#ratings = ratings_df"
      ]
    },
    {
      "cell_type": "code",
      "execution_count": 7,
      "metadata": {
        "id": "xApjCfP4oQGf"
      },
      "outputs": [],
      "source": [
        "ratings.set_index([\"user_id\", \"isbn\"], inplace=True)\n"
      ]
    },
    {
      "cell_type": "code",
      "execution_count": 8,
      "metadata": {
        "id": "oAjYL5lUoeII",
        "colab": {
          "base_uri": "https://localhost:8080/",
          "height": 174
        },
        "outputId": "4f8e162d-b5d4-48fb-9088-067510289ccc"
      },
      "outputs": [
        {
          "output_type": "execute_result",
          "data": {
            "text/plain": [
              "                    rating\n",
              "user_id isbn              \n",
              "2       0195153448       0\n",
              "8       0002005018       5\n",
              "11400   0002005018       0"
            ],
            "text/html": [
              "\n",
              "  <div id=\"df-51874500-8722-4209-a293-dde932423b21\" class=\"colab-df-container\">\n",
              "    <div>\n",
              "<style scoped>\n",
              "    .dataframe tbody tr th:only-of-type {\n",
              "        vertical-align: middle;\n",
              "    }\n",
              "\n",
              "    .dataframe tbody tr th {\n",
              "        vertical-align: top;\n",
              "    }\n",
              "\n",
              "    .dataframe thead th {\n",
              "        text-align: right;\n",
              "    }\n",
              "</style>\n",
              "<table border=\"1\" class=\"dataframe\">\n",
              "  <thead>\n",
              "    <tr style=\"text-align: right;\">\n",
              "      <th></th>\n",
              "      <th></th>\n",
              "      <th>rating</th>\n",
              "    </tr>\n",
              "    <tr>\n",
              "      <th>user_id</th>\n",
              "      <th>isbn</th>\n",
              "      <th></th>\n",
              "    </tr>\n",
              "  </thead>\n",
              "  <tbody>\n",
              "    <tr>\n",
              "      <th>2</th>\n",
              "      <th>0195153448</th>\n",
              "      <td>0</td>\n",
              "    </tr>\n",
              "    <tr>\n",
              "      <th>8</th>\n",
              "      <th>0002005018</th>\n",
              "      <td>5</td>\n",
              "    </tr>\n",
              "    <tr>\n",
              "      <th>11400</th>\n",
              "      <th>0002005018</th>\n",
              "      <td>0</td>\n",
              "    </tr>\n",
              "  </tbody>\n",
              "</table>\n",
              "</div>\n",
              "    <div class=\"colab-df-buttons\">\n",
              "\n",
              "  <div class=\"colab-df-container\">\n",
              "    <button class=\"colab-df-convert\" onclick=\"convertToInteractive('df-51874500-8722-4209-a293-dde932423b21')\"\n",
              "            title=\"Convert this dataframe to an interactive table.\"\n",
              "            style=\"display:none;\">\n",
              "\n",
              "  <svg xmlns=\"http://www.w3.org/2000/svg\" height=\"24px\" viewBox=\"0 -960 960 960\">\n",
              "    <path d=\"M120-120v-720h720v720H120Zm60-500h600v-160H180v160Zm220 220h160v-160H400v160Zm0 220h160v-160H400v160ZM180-400h160v-160H180v160Zm440 0h160v-160H620v160ZM180-180h160v-160H180v160Zm440 0h160v-160H620v160Z\"/>\n",
              "  </svg>\n",
              "    </button>\n",
              "\n",
              "  <style>\n",
              "    .colab-df-container {\n",
              "      display:flex;\n",
              "      gap: 12px;\n",
              "    }\n",
              "\n",
              "    .colab-df-convert {\n",
              "      background-color: #E8F0FE;\n",
              "      border: none;\n",
              "      border-radius: 50%;\n",
              "      cursor: pointer;\n",
              "      display: none;\n",
              "      fill: #1967D2;\n",
              "      height: 32px;\n",
              "      padding: 0 0 0 0;\n",
              "      width: 32px;\n",
              "    }\n",
              "\n",
              "    .colab-df-convert:hover {\n",
              "      background-color: #E2EBFA;\n",
              "      box-shadow: 0px 1px 2px rgba(60, 64, 67, 0.3), 0px 1px 3px 1px rgba(60, 64, 67, 0.15);\n",
              "      fill: #174EA6;\n",
              "    }\n",
              "\n",
              "    .colab-df-buttons div {\n",
              "      margin-bottom: 4px;\n",
              "    }\n",
              "\n",
              "    [theme=dark] .colab-df-convert {\n",
              "      background-color: #3B4455;\n",
              "      fill: #D2E3FC;\n",
              "    }\n",
              "\n",
              "    [theme=dark] .colab-df-convert:hover {\n",
              "      background-color: #434B5C;\n",
              "      box-shadow: 0px 1px 3px 1px rgba(0, 0, 0, 0.15);\n",
              "      filter: drop-shadow(0px 1px 2px rgba(0, 0, 0, 0.3));\n",
              "      fill: #FFFFFF;\n",
              "    }\n",
              "  </style>\n",
              "\n",
              "    <script>\n",
              "      const buttonEl =\n",
              "        document.querySelector('#df-51874500-8722-4209-a293-dde932423b21 button.colab-df-convert');\n",
              "      buttonEl.style.display =\n",
              "        google.colab.kernel.accessAllowed ? 'block' : 'none';\n",
              "\n",
              "      async function convertToInteractive(key) {\n",
              "        const element = document.querySelector('#df-51874500-8722-4209-a293-dde932423b21');\n",
              "        const dataTable =\n",
              "          await google.colab.kernel.invokeFunction('convertToInteractive',\n",
              "                                                    [key], {});\n",
              "        if (!dataTable) return;\n",
              "\n",
              "        const docLinkHtml = 'Like what you see? Visit the ' +\n",
              "          '<a target=\"_blank\" href=https://colab.research.google.com/notebooks/data_table.ipynb>data table notebook</a>'\n",
              "          + ' to learn more about interactive tables.';\n",
              "        element.innerHTML = '';\n",
              "        dataTable['output_type'] = 'display_data';\n",
              "        await google.colab.output.renderOutput(dataTable, element);\n",
              "        const docLink = document.createElement('div');\n",
              "        docLink.innerHTML = docLinkHtml;\n",
              "        element.appendChild(docLink);\n",
              "      }\n",
              "    </script>\n",
              "  </div>\n",
              "\n",
              "\n",
              "<div id=\"df-569daff3-3b97-4006-aee6-58de817af172\">\n",
              "  <button class=\"colab-df-quickchart\" onclick=\"quickchart('df-569daff3-3b97-4006-aee6-58de817af172')\"\n",
              "            title=\"Suggest charts.\"\n",
              "            style=\"display:none;\">\n",
              "\n",
              "<svg xmlns=\"http://www.w3.org/2000/svg\" height=\"24px\"viewBox=\"0 0 24 24\"\n",
              "     width=\"24px\">\n",
              "    <g>\n",
              "        <path d=\"M19 3H5c-1.1 0-2 .9-2 2v14c0 1.1.9 2 2 2h14c1.1 0 2-.9 2-2V5c0-1.1-.9-2-2-2zM9 17H7v-7h2v7zm4 0h-2V7h2v10zm4 0h-2v-4h2v4z\"/>\n",
              "    </g>\n",
              "</svg>\n",
              "  </button>\n",
              "\n",
              "<style>\n",
              "  .colab-df-quickchart {\n",
              "      --bg-color: #E8F0FE;\n",
              "      --fill-color: #1967D2;\n",
              "      --hover-bg-color: #E2EBFA;\n",
              "      --hover-fill-color: #174EA6;\n",
              "      --disabled-fill-color: #AAA;\n",
              "      --disabled-bg-color: #DDD;\n",
              "  }\n",
              "\n",
              "  [theme=dark] .colab-df-quickchart {\n",
              "      --bg-color: #3B4455;\n",
              "      --fill-color: #D2E3FC;\n",
              "      --hover-bg-color: #434B5C;\n",
              "      --hover-fill-color: #FFFFFF;\n",
              "      --disabled-bg-color: #3B4455;\n",
              "      --disabled-fill-color: #666;\n",
              "  }\n",
              "\n",
              "  .colab-df-quickchart {\n",
              "    background-color: var(--bg-color);\n",
              "    border: none;\n",
              "    border-radius: 50%;\n",
              "    cursor: pointer;\n",
              "    display: none;\n",
              "    fill: var(--fill-color);\n",
              "    height: 32px;\n",
              "    padding: 0;\n",
              "    width: 32px;\n",
              "  }\n",
              "\n",
              "  .colab-df-quickchart:hover {\n",
              "    background-color: var(--hover-bg-color);\n",
              "    box-shadow: 0 1px 2px rgba(60, 64, 67, 0.3), 0 1px 3px 1px rgba(60, 64, 67, 0.15);\n",
              "    fill: var(--button-hover-fill-color);\n",
              "  }\n",
              "\n",
              "  .colab-df-quickchart-complete:disabled,\n",
              "  .colab-df-quickchart-complete:disabled:hover {\n",
              "    background-color: var(--disabled-bg-color);\n",
              "    fill: var(--disabled-fill-color);\n",
              "    box-shadow: none;\n",
              "  }\n",
              "\n",
              "  .colab-df-spinner {\n",
              "    border: 2px solid var(--fill-color);\n",
              "    border-color: transparent;\n",
              "    border-bottom-color: var(--fill-color);\n",
              "    animation:\n",
              "      spin 1s steps(1) infinite;\n",
              "  }\n",
              "\n",
              "  @keyframes spin {\n",
              "    0% {\n",
              "      border-color: transparent;\n",
              "      border-bottom-color: var(--fill-color);\n",
              "      border-left-color: var(--fill-color);\n",
              "    }\n",
              "    20% {\n",
              "      border-color: transparent;\n",
              "      border-left-color: var(--fill-color);\n",
              "      border-top-color: var(--fill-color);\n",
              "    }\n",
              "    30% {\n",
              "      border-color: transparent;\n",
              "      border-left-color: var(--fill-color);\n",
              "      border-top-color: var(--fill-color);\n",
              "      border-right-color: var(--fill-color);\n",
              "    }\n",
              "    40% {\n",
              "      border-color: transparent;\n",
              "      border-right-color: var(--fill-color);\n",
              "      border-top-color: var(--fill-color);\n",
              "    }\n",
              "    60% {\n",
              "      border-color: transparent;\n",
              "      border-right-color: var(--fill-color);\n",
              "    }\n",
              "    80% {\n",
              "      border-color: transparent;\n",
              "      border-right-color: var(--fill-color);\n",
              "      border-bottom-color: var(--fill-color);\n",
              "    }\n",
              "    90% {\n",
              "      border-color: transparent;\n",
              "      border-bottom-color: var(--fill-color);\n",
              "    }\n",
              "  }\n",
              "</style>\n",
              "\n",
              "  <script>\n",
              "    async function quickchart(key) {\n",
              "      const quickchartButtonEl =\n",
              "        document.querySelector('#' + key + ' button');\n",
              "      quickchartButtonEl.disabled = true;  // To prevent multiple clicks.\n",
              "      quickchartButtonEl.classList.add('colab-df-spinner');\n",
              "      try {\n",
              "        const charts = await google.colab.kernel.invokeFunction(\n",
              "            'suggestCharts', [key], {});\n",
              "      } catch (error) {\n",
              "        console.error('Error during call to suggestCharts:', error);\n",
              "      }\n",
              "      quickchartButtonEl.classList.remove('colab-df-spinner');\n",
              "      quickchartButtonEl.classList.add('colab-df-quickchart-complete');\n",
              "    }\n",
              "    (() => {\n",
              "      let quickchartButtonEl =\n",
              "        document.querySelector('#df-569daff3-3b97-4006-aee6-58de817af172 button');\n",
              "      quickchartButtonEl.style.display =\n",
              "        google.colab.kernel.accessAllowed ? 'block' : 'none';\n",
              "    })();\n",
              "  </script>\n",
              "</div>\n",
              "    </div>\n",
              "  </div>\n"
            ]
          },
          "metadata": {},
          "execution_count": 8
        }
      ],
      "source": [
        "ratings.head(3)"
      ]
    },
    {
      "cell_type": "code",
      "execution_count": 9,
      "metadata": {
        "id": "Y3vWPfqXomxQ"
      },
      "outputs": [],
      "source": [
        "#ratings = ratings[\"rating\"].unstack(\"isbn\")\n",
        "ratings = ratings[\"rating\"].unstack(\"isbn\").astype(pd.SparseDtype(\"float\", np.nan))"
      ]
    },
    {
      "cell_type": "code",
      "source": [
        "# Count non-null elements in each row and store in a new column 'count_non_null'\n",
        "ratings['count_non_null'] = ratings.count(axis=1)\n"
      ],
      "metadata": {
        "id": "lyTQHEs1676_"
      },
      "execution_count": 10,
      "outputs": []
    },
    {
      "cell_type": "code",
      "source": [
        "ratings.iloc[:5,:5]"
      ],
      "metadata": {
        "id": "X45DIZuT6-m0",
        "colab": {
          "base_uri": "https://localhost:8080/",
          "height": 237
        },
        "outputId": "72dd72bc-733e-4fff-89f1-a7efe6ddfe72"
      },
      "execution_count": 11,
      "outputs": [
        {
          "output_type": "execute_result",
          "data": {
            "text/plain": [
              "isbn     0002005018  0002740230  0006276199  0006329527  000636988X\n",
              "user_id                                                            \n",
              "2               NaN         NaN         NaN         NaN         NaN\n",
              "8               5.0         NaN         NaN         NaN         NaN\n",
              "9               NaN         NaN         NaN         NaN         NaN\n",
              "10              NaN         NaN         NaN         NaN         NaN\n",
              "12              NaN         NaN         NaN         NaN         NaN"
            ],
            "text/html": [
              "\n",
              "  <div id=\"df-2a7ea0f6-7a85-467a-bb43-89b83cfcba1d\" class=\"colab-df-container\">\n",
              "    <div>\n",
              "<style scoped>\n",
              "    .dataframe tbody tr th:only-of-type {\n",
              "        vertical-align: middle;\n",
              "    }\n",
              "\n",
              "    .dataframe tbody tr th {\n",
              "        vertical-align: top;\n",
              "    }\n",
              "\n",
              "    .dataframe thead th {\n",
              "        text-align: right;\n",
              "    }\n",
              "</style>\n",
              "<table border=\"1\" class=\"dataframe\">\n",
              "  <thead>\n",
              "    <tr style=\"text-align: right;\">\n",
              "      <th>isbn</th>\n",
              "      <th>0002005018</th>\n",
              "      <th>0002740230</th>\n",
              "      <th>0006276199</th>\n",
              "      <th>0006329527</th>\n",
              "      <th>000636988X</th>\n",
              "    </tr>\n",
              "    <tr>\n",
              "      <th>user_id</th>\n",
              "      <th></th>\n",
              "      <th></th>\n",
              "      <th></th>\n",
              "      <th></th>\n",
              "      <th></th>\n",
              "    </tr>\n",
              "  </thead>\n",
              "  <tbody>\n",
              "    <tr>\n",
              "      <th>2</th>\n",
              "      <td>NaN</td>\n",
              "      <td>NaN</td>\n",
              "      <td>NaN</td>\n",
              "      <td>NaN</td>\n",
              "      <td>NaN</td>\n",
              "    </tr>\n",
              "    <tr>\n",
              "      <th>8</th>\n",
              "      <td>5.0</td>\n",
              "      <td>NaN</td>\n",
              "      <td>NaN</td>\n",
              "      <td>NaN</td>\n",
              "      <td>NaN</td>\n",
              "    </tr>\n",
              "    <tr>\n",
              "      <th>9</th>\n",
              "      <td>NaN</td>\n",
              "      <td>NaN</td>\n",
              "      <td>NaN</td>\n",
              "      <td>NaN</td>\n",
              "      <td>NaN</td>\n",
              "    </tr>\n",
              "    <tr>\n",
              "      <th>10</th>\n",
              "      <td>NaN</td>\n",
              "      <td>NaN</td>\n",
              "      <td>NaN</td>\n",
              "      <td>NaN</td>\n",
              "      <td>NaN</td>\n",
              "    </tr>\n",
              "    <tr>\n",
              "      <th>12</th>\n",
              "      <td>NaN</td>\n",
              "      <td>NaN</td>\n",
              "      <td>NaN</td>\n",
              "      <td>NaN</td>\n",
              "      <td>NaN</td>\n",
              "    </tr>\n",
              "  </tbody>\n",
              "</table>\n",
              "</div>\n",
              "    <div class=\"colab-df-buttons\">\n",
              "\n",
              "  <div class=\"colab-df-container\">\n",
              "    <button class=\"colab-df-convert\" onclick=\"convertToInteractive('df-2a7ea0f6-7a85-467a-bb43-89b83cfcba1d')\"\n",
              "            title=\"Convert this dataframe to an interactive table.\"\n",
              "            style=\"display:none;\">\n",
              "\n",
              "  <svg xmlns=\"http://www.w3.org/2000/svg\" height=\"24px\" viewBox=\"0 -960 960 960\">\n",
              "    <path d=\"M120-120v-720h720v720H120Zm60-500h600v-160H180v160Zm220 220h160v-160H400v160Zm0 220h160v-160H400v160ZM180-400h160v-160H180v160Zm440 0h160v-160H620v160ZM180-180h160v-160H180v160Zm440 0h160v-160H620v160Z\"/>\n",
              "  </svg>\n",
              "    </button>\n",
              "\n",
              "  <style>\n",
              "    .colab-df-container {\n",
              "      display:flex;\n",
              "      gap: 12px;\n",
              "    }\n",
              "\n",
              "    .colab-df-convert {\n",
              "      background-color: #E8F0FE;\n",
              "      border: none;\n",
              "      border-radius: 50%;\n",
              "      cursor: pointer;\n",
              "      display: none;\n",
              "      fill: #1967D2;\n",
              "      height: 32px;\n",
              "      padding: 0 0 0 0;\n",
              "      width: 32px;\n",
              "    }\n",
              "\n",
              "    .colab-df-convert:hover {\n",
              "      background-color: #E2EBFA;\n",
              "      box-shadow: 0px 1px 2px rgba(60, 64, 67, 0.3), 0px 1px 3px 1px rgba(60, 64, 67, 0.15);\n",
              "      fill: #174EA6;\n",
              "    }\n",
              "\n",
              "    .colab-df-buttons div {\n",
              "      margin-bottom: 4px;\n",
              "    }\n",
              "\n",
              "    [theme=dark] .colab-df-convert {\n",
              "      background-color: #3B4455;\n",
              "      fill: #D2E3FC;\n",
              "    }\n",
              "\n",
              "    [theme=dark] .colab-df-convert:hover {\n",
              "      background-color: #434B5C;\n",
              "      box-shadow: 0px 1px 3px 1px rgba(0, 0, 0, 0.15);\n",
              "      filter: drop-shadow(0px 1px 2px rgba(0, 0, 0, 0.3));\n",
              "      fill: #FFFFFF;\n",
              "    }\n",
              "  </style>\n",
              "\n",
              "    <script>\n",
              "      const buttonEl =\n",
              "        document.querySelector('#df-2a7ea0f6-7a85-467a-bb43-89b83cfcba1d button.colab-df-convert');\n",
              "      buttonEl.style.display =\n",
              "        google.colab.kernel.accessAllowed ? 'block' : 'none';\n",
              "\n",
              "      async function convertToInteractive(key) {\n",
              "        const element = document.querySelector('#df-2a7ea0f6-7a85-467a-bb43-89b83cfcba1d');\n",
              "        const dataTable =\n",
              "          await google.colab.kernel.invokeFunction('convertToInteractive',\n",
              "                                                    [key], {});\n",
              "        if (!dataTable) return;\n",
              "\n",
              "        const docLinkHtml = 'Like what you see? Visit the ' +\n",
              "          '<a target=\"_blank\" href=https://colab.research.google.com/notebooks/data_table.ipynb>data table notebook</a>'\n",
              "          + ' to learn more about interactive tables.';\n",
              "        element.innerHTML = '';\n",
              "        dataTable['output_type'] = 'display_data';\n",
              "        await google.colab.output.renderOutput(dataTable, element);\n",
              "        const docLink = document.createElement('div');\n",
              "        docLink.innerHTML = docLinkHtml;\n",
              "        element.appendChild(docLink);\n",
              "      }\n",
              "    </script>\n",
              "  </div>\n",
              "\n",
              "\n",
              "<div id=\"df-77cd28f3-0b70-4ac3-9d0c-a074f2be1b77\">\n",
              "  <button class=\"colab-df-quickchart\" onclick=\"quickchart('df-77cd28f3-0b70-4ac3-9d0c-a074f2be1b77')\"\n",
              "            title=\"Suggest charts.\"\n",
              "            style=\"display:none;\">\n",
              "\n",
              "<svg xmlns=\"http://www.w3.org/2000/svg\" height=\"24px\"viewBox=\"0 0 24 24\"\n",
              "     width=\"24px\">\n",
              "    <g>\n",
              "        <path d=\"M19 3H5c-1.1 0-2 .9-2 2v14c0 1.1.9 2 2 2h14c1.1 0 2-.9 2-2V5c0-1.1-.9-2-2-2zM9 17H7v-7h2v7zm4 0h-2V7h2v10zm4 0h-2v-4h2v4z\"/>\n",
              "    </g>\n",
              "</svg>\n",
              "  </button>\n",
              "\n",
              "<style>\n",
              "  .colab-df-quickchart {\n",
              "      --bg-color: #E8F0FE;\n",
              "      --fill-color: #1967D2;\n",
              "      --hover-bg-color: #E2EBFA;\n",
              "      --hover-fill-color: #174EA6;\n",
              "      --disabled-fill-color: #AAA;\n",
              "      --disabled-bg-color: #DDD;\n",
              "  }\n",
              "\n",
              "  [theme=dark] .colab-df-quickchart {\n",
              "      --bg-color: #3B4455;\n",
              "      --fill-color: #D2E3FC;\n",
              "      --hover-bg-color: #434B5C;\n",
              "      --hover-fill-color: #FFFFFF;\n",
              "      --disabled-bg-color: #3B4455;\n",
              "      --disabled-fill-color: #666;\n",
              "  }\n",
              "\n",
              "  .colab-df-quickchart {\n",
              "    background-color: var(--bg-color);\n",
              "    border: none;\n",
              "    border-radius: 50%;\n",
              "    cursor: pointer;\n",
              "    display: none;\n",
              "    fill: var(--fill-color);\n",
              "    height: 32px;\n",
              "    padding: 0;\n",
              "    width: 32px;\n",
              "  }\n",
              "\n",
              "  .colab-df-quickchart:hover {\n",
              "    background-color: var(--hover-bg-color);\n",
              "    box-shadow: 0 1px 2px rgba(60, 64, 67, 0.3), 0 1px 3px 1px rgba(60, 64, 67, 0.15);\n",
              "    fill: var(--button-hover-fill-color);\n",
              "  }\n",
              "\n",
              "  .colab-df-quickchart-complete:disabled,\n",
              "  .colab-df-quickchart-complete:disabled:hover {\n",
              "    background-color: var(--disabled-bg-color);\n",
              "    fill: var(--disabled-fill-color);\n",
              "    box-shadow: none;\n",
              "  }\n",
              "\n",
              "  .colab-df-spinner {\n",
              "    border: 2px solid var(--fill-color);\n",
              "    border-color: transparent;\n",
              "    border-bottom-color: var(--fill-color);\n",
              "    animation:\n",
              "      spin 1s steps(1) infinite;\n",
              "  }\n",
              "\n",
              "  @keyframes spin {\n",
              "    0% {\n",
              "      border-color: transparent;\n",
              "      border-bottom-color: var(--fill-color);\n",
              "      border-left-color: var(--fill-color);\n",
              "    }\n",
              "    20% {\n",
              "      border-color: transparent;\n",
              "      border-left-color: var(--fill-color);\n",
              "      border-top-color: var(--fill-color);\n",
              "    }\n",
              "    30% {\n",
              "      border-color: transparent;\n",
              "      border-left-color: var(--fill-color);\n",
              "      border-top-color: var(--fill-color);\n",
              "      border-right-color: var(--fill-color);\n",
              "    }\n",
              "    40% {\n",
              "      border-color: transparent;\n",
              "      border-right-color: var(--fill-color);\n",
              "      border-top-color: var(--fill-color);\n",
              "    }\n",
              "    60% {\n",
              "      border-color: transparent;\n",
              "      border-right-color: var(--fill-color);\n",
              "    }\n",
              "    80% {\n",
              "      border-color: transparent;\n",
              "      border-right-color: var(--fill-color);\n",
              "      border-bottom-color: var(--fill-color);\n",
              "    }\n",
              "    90% {\n",
              "      border-color: transparent;\n",
              "      border-bottom-color: var(--fill-color);\n",
              "    }\n",
              "  }\n",
              "</style>\n",
              "\n",
              "  <script>\n",
              "    async function quickchart(key) {\n",
              "      const quickchartButtonEl =\n",
              "        document.querySelector('#' + key + ' button');\n",
              "      quickchartButtonEl.disabled = true;  // To prevent multiple clicks.\n",
              "      quickchartButtonEl.classList.add('colab-df-spinner');\n",
              "      try {\n",
              "        const charts = await google.colab.kernel.invokeFunction(\n",
              "            'suggestCharts', [key], {});\n",
              "      } catch (error) {\n",
              "        console.error('Error during call to suggestCharts:', error);\n",
              "      }\n",
              "      quickchartButtonEl.classList.remove('colab-df-spinner');\n",
              "      quickchartButtonEl.classList.add('colab-df-quickchart-complete');\n",
              "    }\n",
              "    (() => {\n",
              "      let quickchartButtonEl =\n",
              "        document.querySelector('#df-77cd28f3-0b70-4ac3-9d0c-a074f2be1b77 button');\n",
              "      quickchartButtonEl.style.display =\n",
              "        google.colab.kernel.accessAllowed ? 'block' : 'none';\n",
              "    })();\n",
              "  </script>\n",
              "</div>\n",
              "    </div>\n",
              "  </div>\n"
            ]
          },
          "metadata": {},
          "execution_count": 11
        }
      ]
    },
    {
      "cell_type": "code",
      "source": [
        "\n",
        "# Sort by 'count_non_null' in descending order\n",
        "sorted_ratings = ratings.sort_values(by='count_non_null', ascending=False)\n",
        "\n",
        "# Take the top 200 rows\n",
        "top_200_ratings = sorted_ratings.head(300)\n",
        "\n",
        "# Drop the 'count_non_null' column\n",
        "top_200_ratings = top_200_ratings.drop(columns=['count_non_null'])\n",
        "\n",
        "# Create a new matrix (numpy array) from the top 200 rows\n",
        "ratings = top_200_ratings"
      ],
      "metadata": {
        "id": "zqn8ADiF7EO3"
      },
      "execution_count": 12,
      "outputs": []
    },
    {
      "cell_type": "code",
      "execution_count": 13,
      "metadata": {
        "id": "0uvMLohmoxea",
        "colab": {
          "base_uri": "https://localhost:8080/",
          "height": 237
        },
        "outputId": "1d117a47-2634-4bb4-dff8-2b4d92f23c72"
      },
      "outputs": [
        {
          "output_type": "execute_result",
          "data": {
            "text/plain": [
              "isbn     0002005018  0002740230  0006276199  0006329527  000636988X\n",
              "user_id                                                            \n",
              "11676           8.0         NaN         NaN         NaN         NaN\n",
              "3363            NaN         NaN         NaN         NaN         NaN\n",
              "35859           NaN         NaN         NaN         NaN         NaN\n",
              "153662          NaN         NaN         NaN         NaN         NaN\n",
              "76352           NaN         NaN         NaN         NaN         NaN"
            ],
            "text/html": [
              "\n",
              "  <div id=\"df-f4108da6-07a8-424a-b08c-9c7e89eb235e\" class=\"colab-df-container\">\n",
              "    <div>\n",
              "<style scoped>\n",
              "    .dataframe tbody tr th:only-of-type {\n",
              "        vertical-align: middle;\n",
              "    }\n",
              "\n",
              "    .dataframe tbody tr th {\n",
              "        vertical-align: top;\n",
              "    }\n",
              "\n",
              "    .dataframe thead th {\n",
              "        text-align: right;\n",
              "    }\n",
              "</style>\n",
              "<table border=\"1\" class=\"dataframe\">\n",
              "  <thead>\n",
              "    <tr style=\"text-align: right;\">\n",
              "      <th>isbn</th>\n",
              "      <th>0002005018</th>\n",
              "      <th>0002740230</th>\n",
              "      <th>0006276199</th>\n",
              "      <th>0006329527</th>\n",
              "      <th>000636988X</th>\n",
              "    </tr>\n",
              "    <tr>\n",
              "      <th>user_id</th>\n",
              "      <th></th>\n",
              "      <th></th>\n",
              "      <th></th>\n",
              "      <th></th>\n",
              "      <th></th>\n",
              "    </tr>\n",
              "  </thead>\n",
              "  <tbody>\n",
              "    <tr>\n",
              "      <th>11676</th>\n",
              "      <td>8.0</td>\n",
              "      <td>NaN</td>\n",
              "      <td>NaN</td>\n",
              "      <td>NaN</td>\n",
              "      <td>NaN</td>\n",
              "    </tr>\n",
              "    <tr>\n",
              "      <th>3363</th>\n",
              "      <td>NaN</td>\n",
              "      <td>NaN</td>\n",
              "      <td>NaN</td>\n",
              "      <td>NaN</td>\n",
              "      <td>NaN</td>\n",
              "    </tr>\n",
              "    <tr>\n",
              "      <th>35859</th>\n",
              "      <td>NaN</td>\n",
              "      <td>NaN</td>\n",
              "      <td>NaN</td>\n",
              "      <td>NaN</td>\n",
              "      <td>NaN</td>\n",
              "    </tr>\n",
              "    <tr>\n",
              "      <th>153662</th>\n",
              "      <td>NaN</td>\n",
              "      <td>NaN</td>\n",
              "      <td>NaN</td>\n",
              "      <td>NaN</td>\n",
              "      <td>NaN</td>\n",
              "    </tr>\n",
              "    <tr>\n",
              "      <th>76352</th>\n",
              "      <td>NaN</td>\n",
              "      <td>NaN</td>\n",
              "      <td>NaN</td>\n",
              "      <td>NaN</td>\n",
              "      <td>NaN</td>\n",
              "    </tr>\n",
              "  </tbody>\n",
              "</table>\n",
              "</div>\n",
              "    <div class=\"colab-df-buttons\">\n",
              "\n",
              "  <div class=\"colab-df-container\">\n",
              "    <button class=\"colab-df-convert\" onclick=\"convertToInteractive('df-f4108da6-07a8-424a-b08c-9c7e89eb235e')\"\n",
              "            title=\"Convert this dataframe to an interactive table.\"\n",
              "            style=\"display:none;\">\n",
              "\n",
              "  <svg xmlns=\"http://www.w3.org/2000/svg\" height=\"24px\" viewBox=\"0 -960 960 960\">\n",
              "    <path d=\"M120-120v-720h720v720H120Zm60-500h600v-160H180v160Zm220 220h160v-160H400v160Zm0 220h160v-160H400v160ZM180-400h160v-160H180v160Zm440 0h160v-160H620v160ZM180-180h160v-160H180v160Zm440 0h160v-160H620v160Z\"/>\n",
              "  </svg>\n",
              "    </button>\n",
              "\n",
              "  <style>\n",
              "    .colab-df-container {\n",
              "      display:flex;\n",
              "      gap: 12px;\n",
              "    }\n",
              "\n",
              "    .colab-df-convert {\n",
              "      background-color: #E8F0FE;\n",
              "      border: none;\n",
              "      border-radius: 50%;\n",
              "      cursor: pointer;\n",
              "      display: none;\n",
              "      fill: #1967D2;\n",
              "      height: 32px;\n",
              "      padding: 0 0 0 0;\n",
              "      width: 32px;\n",
              "    }\n",
              "\n",
              "    .colab-df-convert:hover {\n",
              "      background-color: #E2EBFA;\n",
              "      box-shadow: 0px 1px 2px rgba(60, 64, 67, 0.3), 0px 1px 3px 1px rgba(60, 64, 67, 0.15);\n",
              "      fill: #174EA6;\n",
              "    }\n",
              "\n",
              "    .colab-df-buttons div {\n",
              "      margin-bottom: 4px;\n",
              "    }\n",
              "\n",
              "    [theme=dark] .colab-df-convert {\n",
              "      background-color: #3B4455;\n",
              "      fill: #D2E3FC;\n",
              "    }\n",
              "\n",
              "    [theme=dark] .colab-df-convert:hover {\n",
              "      background-color: #434B5C;\n",
              "      box-shadow: 0px 1px 3px 1px rgba(0, 0, 0, 0.15);\n",
              "      filter: drop-shadow(0px 1px 2px rgba(0, 0, 0, 0.3));\n",
              "      fill: #FFFFFF;\n",
              "    }\n",
              "  </style>\n",
              "\n",
              "    <script>\n",
              "      const buttonEl =\n",
              "        document.querySelector('#df-f4108da6-07a8-424a-b08c-9c7e89eb235e button.colab-df-convert');\n",
              "      buttonEl.style.display =\n",
              "        google.colab.kernel.accessAllowed ? 'block' : 'none';\n",
              "\n",
              "      async function convertToInteractive(key) {\n",
              "        const element = document.querySelector('#df-f4108da6-07a8-424a-b08c-9c7e89eb235e');\n",
              "        const dataTable =\n",
              "          await google.colab.kernel.invokeFunction('convertToInteractive',\n",
              "                                                    [key], {});\n",
              "        if (!dataTable) return;\n",
              "\n",
              "        const docLinkHtml = 'Like what you see? Visit the ' +\n",
              "          '<a target=\"_blank\" href=https://colab.research.google.com/notebooks/data_table.ipynb>data table notebook</a>'\n",
              "          + ' to learn more about interactive tables.';\n",
              "        element.innerHTML = '';\n",
              "        dataTable['output_type'] = 'display_data';\n",
              "        await google.colab.output.renderOutput(dataTable, element);\n",
              "        const docLink = document.createElement('div');\n",
              "        docLink.innerHTML = docLinkHtml;\n",
              "        element.appendChild(docLink);\n",
              "      }\n",
              "    </script>\n",
              "  </div>\n",
              "\n",
              "\n",
              "<div id=\"df-117301df-4777-437e-8d2d-15b64cd77a1e\">\n",
              "  <button class=\"colab-df-quickchart\" onclick=\"quickchart('df-117301df-4777-437e-8d2d-15b64cd77a1e')\"\n",
              "            title=\"Suggest charts.\"\n",
              "            style=\"display:none;\">\n",
              "\n",
              "<svg xmlns=\"http://www.w3.org/2000/svg\" height=\"24px\"viewBox=\"0 0 24 24\"\n",
              "     width=\"24px\">\n",
              "    <g>\n",
              "        <path d=\"M19 3H5c-1.1 0-2 .9-2 2v14c0 1.1.9 2 2 2h14c1.1 0 2-.9 2-2V5c0-1.1-.9-2-2-2zM9 17H7v-7h2v7zm4 0h-2V7h2v10zm4 0h-2v-4h2v4z\"/>\n",
              "    </g>\n",
              "</svg>\n",
              "  </button>\n",
              "\n",
              "<style>\n",
              "  .colab-df-quickchart {\n",
              "      --bg-color: #E8F0FE;\n",
              "      --fill-color: #1967D2;\n",
              "      --hover-bg-color: #E2EBFA;\n",
              "      --hover-fill-color: #174EA6;\n",
              "      --disabled-fill-color: #AAA;\n",
              "      --disabled-bg-color: #DDD;\n",
              "  }\n",
              "\n",
              "  [theme=dark] .colab-df-quickchart {\n",
              "      --bg-color: #3B4455;\n",
              "      --fill-color: #D2E3FC;\n",
              "      --hover-bg-color: #434B5C;\n",
              "      --hover-fill-color: #FFFFFF;\n",
              "      --disabled-bg-color: #3B4455;\n",
              "      --disabled-fill-color: #666;\n",
              "  }\n",
              "\n",
              "  .colab-df-quickchart {\n",
              "    background-color: var(--bg-color);\n",
              "    border: none;\n",
              "    border-radius: 50%;\n",
              "    cursor: pointer;\n",
              "    display: none;\n",
              "    fill: var(--fill-color);\n",
              "    height: 32px;\n",
              "    padding: 0;\n",
              "    width: 32px;\n",
              "  }\n",
              "\n",
              "  .colab-df-quickchart:hover {\n",
              "    background-color: var(--hover-bg-color);\n",
              "    box-shadow: 0 1px 2px rgba(60, 64, 67, 0.3), 0 1px 3px 1px rgba(60, 64, 67, 0.15);\n",
              "    fill: var(--button-hover-fill-color);\n",
              "  }\n",
              "\n",
              "  .colab-df-quickchart-complete:disabled,\n",
              "  .colab-df-quickchart-complete:disabled:hover {\n",
              "    background-color: var(--disabled-bg-color);\n",
              "    fill: var(--disabled-fill-color);\n",
              "    box-shadow: none;\n",
              "  }\n",
              "\n",
              "  .colab-df-spinner {\n",
              "    border: 2px solid var(--fill-color);\n",
              "    border-color: transparent;\n",
              "    border-bottom-color: var(--fill-color);\n",
              "    animation:\n",
              "      spin 1s steps(1) infinite;\n",
              "  }\n",
              "\n",
              "  @keyframes spin {\n",
              "    0% {\n",
              "      border-color: transparent;\n",
              "      border-bottom-color: var(--fill-color);\n",
              "      border-left-color: var(--fill-color);\n",
              "    }\n",
              "    20% {\n",
              "      border-color: transparent;\n",
              "      border-left-color: var(--fill-color);\n",
              "      border-top-color: var(--fill-color);\n",
              "    }\n",
              "    30% {\n",
              "      border-color: transparent;\n",
              "      border-left-color: var(--fill-color);\n",
              "      border-top-color: var(--fill-color);\n",
              "      border-right-color: var(--fill-color);\n",
              "    }\n",
              "    40% {\n",
              "      border-color: transparent;\n",
              "      border-right-color: var(--fill-color);\n",
              "      border-top-color: var(--fill-color);\n",
              "    }\n",
              "    60% {\n",
              "      border-color: transparent;\n",
              "      border-right-color: var(--fill-color);\n",
              "    }\n",
              "    80% {\n",
              "      border-color: transparent;\n",
              "      border-right-color: var(--fill-color);\n",
              "      border-bottom-color: var(--fill-color);\n",
              "    }\n",
              "    90% {\n",
              "      border-color: transparent;\n",
              "      border-bottom-color: var(--fill-color);\n",
              "    }\n",
              "  }\n",
              "</style>\n",
              "\n",
              "  <script>\n",
              "    async function quickchart(key) {\n",
              "      const quickchartButtonEl =\n",
              "        document.querySelector('#' + key + ' button');\n",
              "      quickchartButtonEl.disabled = true;  // To prevent multiple clicks.\n",
              "      quickchartButtonEl.classList.add('colab-df-spinner');\n",
              "      try {\n",
              "        const charts = await google.colab.kernel.invokeFunction(\n",
              "            'suggestCharts', [key], {});\n",
              "      } catch (error) {\n",
              "        console.error('Error during call to suggestCharts:', error);\n",
              "      }\n",
              "      quickchartButtonEl.classList.remove('colab-df-spinner');\n",
              "      quickchartButtonEl.classList.add('colab-df-quickchart-complete');\n",
              "    }\n",
              "    (() => {\n",
              "      let quickchartButtonEl =\n",
              "        document.querySelector('#df-117301df-4777-437e-8d2d-15b64cd77a1e button');\n",
              "      quickchartButtonEl.style.display =\n",
              "        google.colab.kernel.accessAllowed ? 'block' : 'none';\n",
              "    })();\n",
              "  </script>\n",
              "</div>\n",
              "    </div>\n",
              "  </div>\n"
            ]
          },
          "metadata": {},
          "execution_count": 13
        }
      ],
      "source": [
        "ratings.iloc[:5, :5]"
      ]
    },
    {
      "cell_type": "code",
      "execution_count": 14,
      "metadata": {
        "id": "yvfaw96xtSGW"
      },
      "outputs": [],
      "source": [
        "R = ratings.fillna(0).values"
      ]
    },
    {
      "cell_type": "code",
      "execution_count": 15,
      "metadata": {
        "id": "h1JR92jYtXZC",
        "colab": {
          "base_uri": "https://localhost:8080/"
        },
        "outputId": "a27a2619-da33-4d4e-b42f-8f434845d8de"
      },
      "outputs": [
        {
          "output_type": "execute_result",
          "data": {
            "text/plain": [
              "array([[8., 0., 0., 0., 0.],\n",
              "       [0., 0., 0., 0., 0.],\n",
              "       [0., 0., 0., 0., 0.],\n",
              "       [0., 0., 0., 0., 0.],\n",
              "       [0., 0., 0., 0., 0.]])"
            ]
          },
          "metadata": {},
          "execution_count": 15
        }
      ],
      "source": [
        "R[:5, :5]"
      ]
    },
    {
      "cell_type": "code",
      "execution_count": 16,
      "metadata": {
        "id": "vT7HgAI9tuse"
      },
      "outputs": [],
      "source": [
        "P = ratings.notna().values"
      ]
    },
    {
      "cell_type": "code",
      "execution_count": 17,
      "metadata": {
        "id": "TIUvaDQ_t1sj",
        "colab": {
          "base_uri": "https://localhost:8080/"
        },
        "outputId": "cb396090-ec37-4dff-dcc7-18f1fabd836b"
      },
      "outputs": [
        {
          "output_type": "execute_result",
          "data": {
            "text/plain": [
              "array([[ True, False, False, False, False],\n",
              "       [False, False, False, False, False],\n",
              "       [False, False, False, False, False],\n",
              "       [False, False, False, False, False],\n",
              "       [False, False, False, False, False]])"
            ]
          },
          "metadata": {},
          "execution_count": 17
        }
      ],
      "source": [
        "P[:5, :5]"
      ]
    },
    {
      "cell_type": "markdown",
      "metadata": {
        "id": "N-mHuj5zKjTq"
      },
      "source": [
        "# Data exploration"
      ]
    },
    {
      "cell_type": "markdown",
      "metadata": {
        "id": "MK2MddZQuI7c"
      },
      "source": [
        "Extracting useful information from the matrix `P` and `R`."
      ]
    },
    {
      "cell_type": "code",
      "execution_count": 18,
      "metadata": {
        "id": "MFDLLk2rKqy0",
        "colab": {
          "base_uri": "https://localhost:8080/"
        },
        "outputId": "274aeb60-4d26-4a61-8fff-21f382dae779"
      },
      "outputs": [
        {
          "output_type": "stream",
          "name": "stdout",
          "text": [
            "number of ratings: 50537\n",
            "number of users who has rated a book 300\n",
            "number of books:  6911\n",
            "average ratings from users:  1.7515879454656984\n",
            "average rate of rating:  168.45666666666668\n",
            "the maximum numbers of ratings given by an user:  1516\n",
            "the book with minimum number of ratings:  0\n"
          ]
        }
      ],
      "source": [
        "print(\"number of ratings:\", P.sum())\n",
        "print(\"number of users who has rated a book\", P.shape[0])\n",
        "print(\"number of books: \", P.shape[1])\n",
        "print(\"average ratings from users: \", R.mean(where=P))\n",
        "print(\"average rate of rating: \", P.sum()/P.shape[0])\n",
        "\n",
        "print(\"the maximum numbers of ratings given by an user: \",P.sum(1).max())\n",
        "print(\"the book with minimum number of ratings: \", P.sum(0).min())"
      ]
    },
    {
      "cell_type": "code",
      "execution_count": 19,
      "metadata": {
        "id": "3r91cz4wxkzp",
        "colab": {
          "base_uri": "https://localhost:8080/"
        },
        "outputId": "c3e40da9-e6c6-47c5-ff50-92c712f7c088"
      },
      "outputs": [
        {
          "output_type": "stream",
          "name": "stdout",
          "text": [
            "the book name with maximum number of ratings:\n"
          ]
        },
        {
          "output_type": "execute_result",
          "data": {
            "text/plain": [
              "769    Wild Animus\n",
              "Name: book_title, dtype: object"
            ]
          },
          "metadata": {},
          "execution_count": 19
        }
      ],
      "source": [
        "isbn = ratings.columns[P.sum(0).argmax()]\n",
        "book_name = df[df['isbn'] == isbn]['book_title']\n",
        "print(\"the book name with maximum number of ratings:\")\n",
        "book_name.head(1)"
      ]
    },
    {
      "cell_type": "code",
      "execution_count": 20,
      "metadata": {
        "id": "y6sW2FlZ0uGl",
        "colab": {
          "base_uri": "https://localhost:8080/"
        },
        "outputId": "fad6dbda-e1e4-4525-9b19-b3eacca3b861"
      },
      "outputs": [
        {
          "output_type": "stream",
          "name": "stdout",
          "text": [
            "5 books with the most average rating:\n"
          ]
        },
        {
          "output_type": "execute_result",
          "data": {
            "text/plain": [
              "[184794    The Hound of the Baskervilles\n",
              " 184795    The Hound of the Baskervilles\n",
              " 184796    The Hound of the Baskervilles\n",
              " 184797    The Hound of the Baskervilles\n",
              " 184798    The Hound of the Baskervilles\n",
              " 184799    The Hound of the Baskervilles\n",
              " 184800    The Hound of the Baskervilles\n",
              " 184801    The Hound of the Baskervilles\n",
              " Name: book_title, dtype: object,\n",
              " 91184    Jailbird\n",
              " 91185    Jailbird\n",
              " 91186    Jailbird\n",
              " 91187    Jailbird\n",
              " 91188    Jailbird\n",
              " 91189    Jailbird\n",
              " 91190    Jailbird\n",
              " 91191    Jailbird\n",
              " 91192    Jailbird\n",
              " 91193    Jailbird\n",
              " Name: book_title, dtype: object,\n",
              " 198613    Wenny Has Wings\n",
              " Name: book_title, dtype: object,\n",
              " 118997    The Clue of the Velvet Mask (Nancy Drew (Hardc...\n",
              " 118998    The Clue of the Velvet Mask (Nancy Drew (Hardc...\n",
              " 118999    The Clue of the Velvet Mask (Nancy Drew (Hardc...\n",
              " 119000    The Clue of the Velvet Mask (Nancy Drew (Hardc...\n",
              " Name: book_title, dtype: object,\n",
              " 146408    Return of the Jedi: The Original Radio Drama\n",
              " Name: book_title, dtype: object]"
            ]
          },
          "metadata": {},
          "execution_count": 20
        }
      ],
      "source": [
        "print(\"5 books with the most average rating:\")\n",
        "indexes = (-R.mean(0, where=P)).argsort()[:5]\n",
        "book_isbns = ratings.columns[indexes]\n",
        "book_with_most_rating_names = [df[df['isbn'] == name]['book_title'] for name in book_isbns]\n",
        "book_with_most_rating_names"
      ]
    },
    {
      "cell_type": "code",
      "execution_count": 21,
      "metadata": {
        "id": "zq6yjk06DaBb",
        "colab": {
          "base_uri": "https://localhost:8080/",
          "height": 204
        },
        "outputId": "b9d7ff94-f98a-4eff-ec74-9c4a32c5a2f1"
      },
      "outputs": [
        {
          "output_type": "display_data",
          "data": {
            "text/plain": [
              "<Figure size 2000x600 with 1 Axes>"
            ],
            "image/png": "[encoded data removed]"
          },
          "metadata": {}
        }
      ],
      "source": [
        "most_rated_books_average_ratings = -np.sort((-R.mean(0, where=P)))\n",
        "plt.figure(figsize=(20, 6))\n",
        "plt.hist(most_rated_books_average_ratings, bins=10, color='skyblue', edgecolor='black')\n",
        "plt.xlabel('Average Ratings')\n",
        "plt.ylabel('Frequency') # the number of book that share the same average rating score\n",
        "plt.title('Histogram of Average Ratings')\n",
        "plt.tight_layout()\n",
        "plt.show()"
      ]
    },
    {
      "cell_type": "markdown",
      "source": [
        "Ram space cleanning up"
      ],
      "metadata": {
        "id": "5uwUP2GsORiv"
      }
    },
    {
      "cell_type": "code",
      "source": [
        "#ratings_df = 0\n",
        "#df = 0\n",
        "del ratings_df\n",
        "del df\n",
        "gc.collect()"
      ],
      "metadata": {
        "id": "NhZ4WSxjORA8",
        "colab": {
          "base_uri": "https://localhost:8080/"
        },
        "outputId": "ecb7feb0-19ad-4c25-bf74-4ebab5ab5c44"
      },
      "execution_count": 22,
      "outputs": [
        {
          "output_type": "execute_result",
          "data": {
            "text/plain": [
              "3708"
            ]
          },
          "metadata": {},
          "execution_count": 22
        }
      ]
    },
    {
      "cell_type": "markdown",
      "metadata": {
        "id": "XwQ7jfsUKxW0"
      },
      "source": [
        "# Data preparation"
      ]
    },
    {
      "cell_type": "markdown",
      "metadata": {
        "id": "gQPSqoDE-oO-"
      },
      "source": [
        "Creazione dataset"
      ]
    },
    {
      "cell_type": "code",
      "execution_count": 23,
      "metadata": {
        "id": "CNSz4K_tynj8"
      },
      "outputs": [],
      "source": [
        "division_index=int(0.9*ratings.shape[0])\n",
        "val_set = ratings.sparse.to_dense()"
      ]
    },
    {
      "cell_type": "code",
      "execution_count": 24,
      "metadata": {
        "id": "KQMI5_uq_QIs"
      },
      "outputs": [],
      "source": [
        "\n",
        "# Convertiamo il DataFrame sparsa in uno denso\n",
        "dense_ratings = ratings.sparse.to_dense()\n",
        "\n",
        "train_set = pd.DataFrame(index=dense_ratings.index, columns=dense_ratings.columns)\n",
        "train_set[:] = np.nan\n",
        "\n",
        "# Itera sulle righe\n",
        "for index, row in dense_ratings.iterrows():\n",
        "    non_nan_indices = row.dropna().index\n",
        "    if len(non_nan_indices) == 1:\n",
        "        train_set.at[index, non_nan_indices[0]] = dense_ratings.at[index, non_nan_indices[0]]\n",
        "    else:\n",
        "        num_samples = len(non_nan_indices)\n",
        "        train_samples_idx = np.random.choice(num_samples, size=int(0.8 * num_samples), replace=False)\n",
        "        selected_indices = [non_nan_indices[i] for i in train_samples_idx]\n",
        "        for j in selected_indices:\n",
        "            train_set.at[index, j] = dense_ratings.at[index, j]\n",
        "\n",
        "# Converti nuovamente in sparsa\n",
        "train_set = train_set.astype(pd.SparseDtype(\"float\", np.nan))\n"
      ]
    },
    {
      "cell_type": "code",
      "source": [
        "del dense_ratings\n",
        "gc.collect()"
      ],
      "metadata": {
        "id": "EojMft7rTCpe",
        "colab": {
          "base_uri": "https://localhost:8080/"
        },
        "outputId": "ca0670f0-56a1-4b15-a4a5-05d44a6ff298"
      },
      "execution_count": 25,
      "outputs": [
        {
          "output_type": "execute_result",
          "data": {
            "text/plain": [
              "0"
            ]
          },
          "metadata": {},
          "execution_count": 25
        }
      ]
    },
    {
      "cell_type": "code",
      "execution_count": 26,
      "metadata": {
        "id": "Y5sQcdUNEaCA",
        "colab": {
          "base_uri": "https://localhost:8080/",
          "height": 194
        },
        "outputId": "e3237413-c14c-40c9-b976-f7cb57540e96"
      },
      "outputs": [
        {
          "output_type": "execute_result",
          "data": {
            "text/plain": [
              "isbn     0002005018  0002740230  0006276199  0006329527  000636988X  \\\n",
              "user_id                                                               \n",
              "11676           8.0         NaN         NaN         NaN         NaN   \n",
              "3363            NaN         NaN         NaN         NaN         NaN   \n",
              "35859           NaN         NaN         NaN         NaN         NaN   \n",
              "\n",
              "isbn     0006476333  000649840X  0006513409  0006550789  0006642004  \\\n",
              "user_id                                                               \n",
              "11676           NaN         8.0         NaN         7.0         NaN   \n",
              "3363            NaN         NaN         NaN         NaN         NaN   \n",
              "35859           NaN         NaN         NaN         NaN         NaN   \n",
              "\n",
              "isbn     0006643094  0007100221  0007103999  0007108648  0007119860  \n",
              "user_id                                                              \n",
              "11676           NaN         NaN         NaN         NaN         NaN  \n",
              "3363            NaN         NaN         NaN         NaN         NaN  \n",
              "35859           NaN         NaN         NaN         NaN         NaN  "
            ],
            "text/html": [
              "\n",
              "  <div id=\"df-d99583be-9e98-42b6-b519-fd3c64a10dde\" class=\"colab-df-container\">\n",
              "    <div>\n",
              "<style scoped>\n",
              "    .dataframe tbody tr th:only-of-type {\n",
              "        vertical-align: middle;\n",
              "    }\n",
              "\n",
              "    .dataframe tbody tr th {\n",
              "        vertical-align: top;\n",
              "    }\n",
              "\n",
              "    .dataframe thead th {\n",
              "        text-align: right;\n",
              "    }\n",
              "</style>\n",
              "<table border=\"1\" class=\"dataframe\">\n",
              "  <thead>\n",
              "    <tr style=\"text-align: right;\">\n",
              "      <th>isbn</th>\n",
              "      <th>0002005018</th>\n",
              "      <th>0002740230</th>\n",
              "      <th>0006276199</th>\n",
              "      <th>0006329527</th>\n",
              "      <th>000636988X</th>\n",
              "      <th>0006476333</th>\n",
              "      <th>000649840X</th>\n",
              "      <th>0006513409</th>\n",
              "      <th>0006550789</th>\n",
              "      <th>0006642004</th>\n",
              "      <th>0006643094</th>\n",
              "      <th>0007100221</th>\n",
              "      <th>0007103999</th>\n",
              "      <th>0007108648</th>\n",
              "      <th>0007119860</th>\n",
              "    </tr>\n",
              "    <tr>\n",
              "      <th>user_id</th>\n",
              "      <th></th>\n",
              "      <th></th>\n",
              "      <th></th>\n",
              "      <th></th>\n",
              "      <th></th>\n",
              "      <th></th>\n",
              "      <th></th>\n",
              "      <th></th>\n",
              "      <th></th>\n",
              "      <th></th>\n",
              "      <th></th>\n",
              "      <th></th>\n",
              "      <th></th>\n",
              "      <th></th>\n",
              "      <th></th>\n",
              "    </tr>\n",
              "  </thead>\n",
              "  <tbody>\n",
              "    <tr>\n",
              "      <th>11676</th>\n",
              "      <td>8.0</td>\n",
              "      <td>NaN</td>\n",
              "      <td>NaN</td>\n",
              "      <td>NaN</td>\n",
              "      <td>NaN</td>\n",
              "      <td>NaN</td>\n",
              "      <td>8.0</td>\n",
              "      <td>NaN</td>\n",
              "      <td>7.0</td>\n",
              "      <td>NaN</td>\n",
              "      <td>NaN</td>\n",
              "      <td>NaN</td>\n",
              "      <td>NaN</td>\n",
              "      <td>NaN</td>\n",
              "      <td>NaN</td>\n",
              "    </tr>\n",
              "    <tr>\n",
              "      <th>3363</th>\n",
              "      <td>NaN</td>\n",
              "      <td>NaN</td>\n",
              "      <td>NaN</td>\n",
              "      <td>NaN</td>\n",
              "      <td>NaN</td>\n",
              "      <td>NaN</td>\n",
              "      <td>NaN</td>\n",
              "      <td>NaN</td>\n",
              "      <td>NaN</td>\n",
              "      <td>NaN</td>\n",
              "      <td>NaN</td>\n",
              "      <td>NaN</td>\n",
              "      <td>NaN</td>\n",
              "      <td>NaN</td>\n",
              "      <td>NaN</td>\n",
              "    </tr>\n",
              "    <tr>\n",
              "      <th>35859</th>\n",
              "      <td>NaN</td>\n",
              "      <td>NaN</td>\n",
              "      <td>NaN</td>\n",
              "      <td>NaN</td>\n",
              "      <td>NaN</td>\n",
              "      <td>NaN</td>\n",
              "      <td>NaN</td>\n",
              "      <td>NaN</td>\n",
              "      <td>NaN</td>\n",
              "      <td>NaN</td>\n",
              "      <td>NaN</td>\n",
              "      <td>NaN</td>\n",
              "      <td>NaN</td>\n",
              "      <td>NaN</td>\n",
              "      <td>NaN</td>\n",
              "    </tr>\n",
              "  </tbody>\n",
              "</table>\n",
              "</div>\n",
              "    <div class=\"colab-df-buttons\">\n",
              "\n",
              "  <div class=\"colab-df-container\">\n",
              "    <button class=\"colab-df-convert\" onclick=\"convertToInteractive('df-d99583be-9e98-42b6-b519-fd3c64a10dde')\"\n",
              "            title=\"Convert this dataframe to an interactive table.\"\n",
              "            style=\"display:none;\">\n",
              "\n",
              "  <svg xmlns=\"http://www.w3.org/2000/svg\" height=\"24px\" viewBox=\"0 -960 960 960\">\n",
              "    <path d=\"M120-120v-720h720v720H120Zm60-500h600v-160H180v160Zm220 220h160v-160H400v160Zm0 220h160v-160H400v160ZM180-400h160v-160H180v160Zm440 0h160v-160H620v160ZM180-180h160v-160H180v160Zm440 0h160v-160H620v160Z\"/>\n",
              "  </svg>\n",
              "    </button>\n",
              "\n",
              "  <style>\n",
              "    .colab-df-container {\n",
              "      display:flex;\n",
              "      gap: 12px;\n",
              "    }\n",
              "\n",
              "    .colab-df-convert {\n",
              "      background-color: #E8F0FE;\n",
              "      border: none;\n",
              "      border-radius: 50%;\n",
              "      cursor: pointer;\n",
              "      display: none;\n",
              "      fill: #1967D2;\n",
              "      height: 32px;\n",
              "      padding: 0 0 0 0;\n",
              "      width: 32px;\n",
              "    }\n",
              "\n",
              "    .colab-df-convert:hover {\n",
              "      background-color: #E2EBFA;\n",
              "      box-shadow: 0px 1px 2px rgba(60, 64, 67, 0.3), 0px 1px 3px 1px rgba(60, 64, 67, 0.15);\n",
              "      fill: #174EA6;\n",
              "    }\n",
              "\n",
              "    .colab-df-buttons div {\n",
              "      margin-bottom: 4px;\n",
              "    }\n",
              "\n",
              "    [theme=dark] .colab-df-convert {\n",
              "      background-color: #3B4455;\n",
              "      fill: #D2E3FC;\n",
              "    }\n",
              "\n",
              "    [theme=dark] .colab-df-convert:hover {\n",
              "      background-color: #434B5C;\n",
              "      box-shadow: 0px 1px 3px 1px rgba(0, 0, 0, 0.15);\n",
              "      filter: drop-shadow(0px 1px 2px rgba(0, 0, 0, 0.3));\n",
              "      fill: #FFFFFF;\n",
              "    }\n",
              "  </style>\n",
              "\n",
              "    <script>\n",
              "      const buttonEl =\n",
              "        document.querySelector('#df-d99583be-9e98-42b6-b519-fd3c64a10dde button.colab-df-convert');\n",
              "      buttonEl.style.display =\n",
              "        google.colab.kernel.accessAllowed ? 'block' : 'none';\n",
              "\n",
              "      async function convertToInteractive(key) {\n",
              "        const element = document.querySelector('#df-d99583be-9e98-42b6-b519-fd3c64a10dde');\n",
              "        const dataTable =\n",
              "          await google.colab.kernel.invokeFunction('convertToInteractive',\n",
              "                                                    [key], {});\n",
              "        if (!dataTable) return;\n",
              "\n",
              "        const docLinkHtml = 'Like what you see? Visit the ' +\n",
              "          '<a target=\"_blank\" href=https://colab.research.google.com/notebooks/data_table.ipynb>data table notebook</a>'\n",
              "          + ' to learn more about interactive tables.';\n",
              "        element.innerHTML = '';\n",
              "        dataTable['output_type'] = 'display_data';\n",
              "        await google.colab.output.renderOutput(dataTable, element);\n",
              "        const docLink = document.createElement('div');\n",
              "        docLink.innerHTML = docLinkHtml;\n",
              "        element.appendChild(docLink);\n",
              "      }\n",
              "    </script>\n",
              "  </div>\n",
              "\n",
              "\n",
              "<div id=\"df-76642743-072c-437d-9474-e3c637812ceb\">\n",
              "  <button class=\"colab-df-quickchart\" onclick=\"quickchart('df-76642743-072c-437d-9474-e3c637812ceb')\"\n",
              "            title=\"Suggest charts.\"\n",
              "            style=\"display:none;\">\n",
              "\n",
              "<svg xmlns=\"http://www.w3.org/2000/svg\" height=\"24px\"viewBox=\"0 0 24 24\"\n",
              "     width=\"24px\">\n",
              "    <g>\n",
              "        <path d=\"M19 3H5c-1.1 0-2 .9-2 2v14c0 1.1.9 2 2 2h14c1.1 0 2-.9 2-2V5c0-1.1-.9-2-2-2zM9 17H7v-7h2v7zm4 0h-2V7h2v10zm4 0h-2v-4h2v4z\"/>\n",
              "    </g>\n",
              "</svg>\n",
              "  </button>\n",
              "\n",
              "<style>\n",
              "  .colab-df-quickchart {\n",
              "      --bg-color: #E8F0FE;\n",
              "      --fill-color: #1967D2;\n",
              "      --hover-bg-color: #E2EBFA;\n",
              "      --hover-fill-color: #174EA6;\n",
              "      --disabled-fill-color: #AAA;\n",
              "      --disabled-bg-color: #DDD;\n",
              "  }\n",
              "\n",
              "  [theme=dark] .colab-df-quickchart {\n",
              "      --bg-color: #3B4455;\n",
              "      --fill-color: #D2E3FC;\n",
              "      --hover-bg-color: #434B5C;\n",
              "      --hover-fill-color: #FFFFFF;\n",
              "      --disabled-bg-color: #3B4455;\n",
              "      --disabled-fill-color: #666;\n",
              "  }\n",
              "\n",
              "  .colab-df-quickchart {\n",
              "    background-color: var(--bg-color);\n",
              "    border: none;\n",
              "    border-radius: 50%;\n",
              "    cursor: pointer;\n",
              "    display: none;\n",
              "    fill: var(--fill-color);\n",
              "    height: 32px;\n",
              "    padding: 0;\n",
              "    width: 32px;\n",
              "  }\n",
              "\n",
              "  .colab-df-quickchart:hover {\n",
              "    background-color: var(--hover-bg-color);\n",
              "    box-shadow: 0 1px 2px rgba(60, 64, 67, 0.3), 0 1px 3px 1px rgba(60, 64, 67, 0.15);\n",
              "    fill: var(--button-hover-fill-color);\n",
              "  }\n",
              "\n",
              "  .colab-df-quickchart-complete:disabled,\n",
              "  .colab-df-quickchart-complete:disabled:hover {\n",
              "    background-color: var(--disabled-bg-color);\n",
              "    fill: var(--disabled-fill-color);\n",
              "    box-shadow: none;\n",
              "  }\n",
              "\n",
              "  .colab-df-spinner {\n",
              "    border: 2px solid var(--fill-color);\n",
              "    border-color: transparent;\n",
              "    border-bottom-color: var(--fill-color);\n",
              "    animation:\n",
              "      spin 1s steps(1) infinite;\n",
              "  }\n",
              "\n",
              "  @keyframes spin {\n",
              "    0% {\n",
              "      border-color: transparent;\n",
              "      border-bottom-color: var(--fill-color);\n",
              "      border-left-color: var(--fill-color);\n",
              "    }\n",
              "    20% {\n",
              "      border-color: transparent;\n",
              "      border-left-color: var(--fill-color);\n",
              "      border-top-color: var(--fill-color);\n",
              "    }\n",
              "    30% {\n",
              "      border-color: transparent;\n",
              "      border-left-color: var(--fill-color);\n",
              "      border-top-color: var(--fill-color);\n",
              "      border-right-color: var(--fill-color);\n",
              "    }\n",
              "    40% {\n",
              "      border-color: transparent;\n",
              "      border-right-color: var(--fill-color);\n",
              "      border-top-color: var(--fill-color);\n",
              "    }\n",
              "    60% {\n",
              "      border-color: transparent;\n",
              "      border-right-color: var(--fill-color);\n",
              "    }\n",
              "    80% {\n",
              "      border-color: transparent;\n",
              "      border-right-color: var(--fill-color);\n",
              "      border-bottom-color: var(--fill-color);\n",
              "    }\n",
              "    90% {\n",
              "      border-color: transparent;\n",
              "      border-bottom-color: var(--fill-color);\n",
              "    }\n",
              "  }\n",
              "</style>\n",
              "\n",
              "  <script>\n",
              "    async function quickchart(key) {\n",
              "      const quickchartButtonEl =\n",
              "        document.querySelector('#' + key + ' button');\n",
              "      quickchartButtonEl.disabled = true;  // To prevent multiple clicks.\n",
              "      quickchartButtonEl.classList.add('colab-df-spinner');\n",
              "      try {\n",
              "        const charts = await google.colab.kernel.invokeFunction(\n",
              "            'suggestCharts', [key], {});\n",
              "      } catch (error) {\n",
              "        console.error('Error during call to suggestCharts:', error);\n",
              "      }\n",
              "      quickchartButtonEl.classList.remove('colab-df-spinner');\n",
              "      quickchartButtonEl.classList.add('colab-df-quickchart-complete');\n",
              "    }\n",
              "    (() => {\n",
              "      let quickchartButtonEl =\n",
              "        document.querySelector('#df-76642743-072c-437d-9474-e3c637812ceb button');\n",
              "      quickchartButtonEl.style.display =\n",
              "        google.colab.kernel.accessAllowed ? 'block' : 'none';\n",
              "    })();\n",
              "  </script>\n",
              "</div>\n",
              "    </div>\n",
              "  </div>\n"
            ]
          },
          "metadata": {},
          "execution_count": 26
        }
      ],
      "source": [
        "val_set.iloc[:3, :15]"
      ]
    },
    {
      "cell_type": "code",
      "execution_count": 27,
      "metadata": {
        "id": "ODO0-VOyERSp",
        "colab": {
          "base_uri": "https://localhost:8080/",
          "height": 194
        },
        "outputId": "32552b0c-e4ec-4ee0-ae81-1283a9556afb"
      },
      "outputs": [
        {
          "output_type": "execute_result",
          "data": {
            "text/plain": [
              "isbn     0002005018  0002740230  0006276199  0006329527  000636988X  \\\n",
              "user_id                                                               \n",
              "11676           8.0         NaN         NaN         NaN         NaN   \n",
              "3363            NaN         NaN         NaN         NaN         NaN   \n",
              "35859           NaN         NaN         NaN         NaN         NaN   \n",
              "\n",
              "isbn     0006476333  000649840X  0006513409  0006550789  0006642004  \\\n",
              "user_id                                                               \n",
              "11676           NaN         8.0         NaN         7.0         NaN   \n",
              "3363            NaN         NaN         NaN         NaN         NaN   \n",
              "35859           NaN         NaN         NaN         NaN         NaN   \n",
              "\n",
              "isbn     0006643094  0007100221  0007103999  0007108648  0007119860  \n",
              "user_id                                                              \n",
              "11676           NaN         NaN         NaN         NaN         NaN  \n",
              "3363            NaN         NaN         NaN         NaN         NaN  \n",
              "35859           NaN         NaN         NaN         NaN         NaN  "
            ],
            "text/html": [
              "\n",
              "  <div id=\"df-a2029a72-6c2d-4ee3-8841-0fd1321086a4\" class=\"colab-df-container\">\n",
              "    <div>\n",
              "<style scoped>\n",
              "    .dataframe tbody tr th:only-of-type {\n",
              "        vertical-align: middle;\n",
              "    }\n",
              "\n",
              "    .dataframe tbody tr th {\n",
              "        vertical-align: top;\n",
              "    }\n",
              "\n",
              "    .dataframe thead th {\n",
              "        text-align: right;\n",
              "    }\n",
              "</style>\n",
              "<table border=\"1\" class=\"dataframe\">\n",
              "  <thead>\n",
              "    <tr style=\"text-align: right;\">\n",
              "      <th>isbn</th>\n",
              "      <th>0002005018</th>\n",
              "      <th>0002740230</th>\n",
              "      <th>0006276199</th>\n",
              "      <th>0006329527</th>\n",
              "      <th>000636988X</th>\n",
              "      <th>0006476333</th>\n",
              "      <th>000649840X</th>\n",
              "      <th>0006513409</th>\n",
              "      <th>0006550789</th>\n",
              "      <th>0006642004</th>\n",
              "      <th>0006643094</th>\n",
              "      <th>0007100221</th>\n",
              "      <th>0007103999</th>\n",
              "      <th>0007108648</th>\n",
              "      <th>0007119860</th>\n",
              "    </tr>\n",
              "    <tr>\n",
              "      <th>user_id</th>\n",
              "      <th></th>\n",
              "      <th></th>\n",
              "      <th></th>\n",
              "      <th></th>\n",
              "      <th></th>\n",
              "      <th></th>\n",
              "      <th></th>\n",
              "      <th></th>\n",
              "      <th></th>\n",
              "      <th></th>\n",
              "      <th></th>\n",
              "      <th></th>\n",
              "      <th></th>\n",
              "      <th></th>\n",
              "      <th></th>\n",
              "    </tr>\n",
              "  </thead>\n",
              "  <tbody>\n",
              "    <tr>\n",
              "      <th>11676</th>\n",
              "      <td>8.0</td>\n",
              "      <td>NaN</td>\n",
              "      <td>NaN</td>\n",
              "      <td>NaN</td>\n",
              "      <td>NaN</td>\n",
              "      <td>NaN</td>\n",
              "      <td>8.0</td>\n",
              "      <td>NaN</td>\n",
              "      <td>7.0</td>\n",
              "      <td>NaN</td>\n",
              "      <td>NaN</td>\n",
              "      <td>NaN</td>\n",
              "      <td>NaN</td>\n",
              "      <td>NaN</td>\n",
              "      <td>NaN</td>\n",
              "    </tr>\n",
              "    <tr>\n",
              "      <th>3363</th>\n",
              "      <td>NaN</td>\n",
              "      <td>NaN</td>\n",
              "      <td>NaN</td>\n",
              "      <td>NaN</td>\n",
              "      <td>NaN</td>\n",
              "      <td>NaN</td>\n",
              "      <td>NaN</td>\n",
              "      <td>NaN</td>\n",
              "      <td>NaN</td>\n",
              "      <td>NaN</td>\n",
              "      <td>NaN</td>\n",
              "      <td>NaN</td>\n",
              "      <td>NaN</td>\n",
              "      <td>NaN</td>\n",
              "      <td>NaN</td>\n",
              "    </tr>\n",
              "    <tr>\n",
              "      <th>35859</th>\n",
              "      <td>NaN</td>\n",
              "      <td>NaN</td>\n",
              "      <td>NaN</td>\n",
              "      <td>NaN</td>\n",
              "      <td>NaN</td>\n",
              "      <td>NaN</td>\n",
              "      <td>NaN</td>\n",
              "      <td>NaN</td>\n",
              "      <td>NaN</td>\n",
              "      <td>NaN</td>\n",
              "      <td>NaN</td>\n",
              "      <td>NaN</td>\n",
              "      <td>NaN</td>\n",
              "      <td>NaN</td>\n",
              "      <td>NaN</td>\n",
              "    </tr>\n",
              "  </tbody>\n",
              "</table>\n",
              "</div>\n",
              "    <div class=\"colab-df-buttons\">\n",
              "\n",
              "  <div class=\"colab-df-container\">\n",
              "    <button class=\"colab-df-convert\" onclick=\"convertToInteractive('df-a2029a72-6c2d-4ee3-8841-0fd1321086a4')\"\n",
              "            title=\"Convert this dataframe to an interactive table.\"\n",
              "            style=\"display:none;\">\n",
              "\n",
              "  <svg xmlns=\"http://www.w3.org/2000/svg\" height=\"24px\" viewBox=\"0 -960 960 960\">\n",
              "    <path d=\"M120-120v-720h720v720H120Zm60-500h600v-160H180v160Zm220 220h160v-160H400v160Zm0 220h160v-160H400v160ZM180-400h160v-160H180v160Zm440 0h160v-160H620v160ZM180-180h160v-160H180v160Zm440 0h160v-160H620v160Z\"/>\n",
              "  </svg>\n",
              "    </button>\n",
              "\n",
              "  <style>\n",
              "    .colab-df-container {\n",
              "      display:flex;\n",
              "      gap: 12px;\n",
              "    }\n",
              "\n",
              "    .colab-df-convert {\n",
              "      background-color: #E8F0FE;\n",
              "      border: none;\n",
              "      border-radius: 50%;\n",
              "      cursor: pointer;\n",
              "      display: none;\n",
              "      fill: #1967D2;\n",
              "      height: 32px;\n",
              "      padding: 0 0 0 0;\n",
              "      width: 32px;\n",
              "    }\n",
              "\n",
              "    .colab-df-convert:hover {\n",
              "      background-color: #E2EBFA;\n",
              "      box-shadow: 0px 1px 2px rgba(60, 64, 67, 0.3), 0px 1px 3px 1px rgba(60, 64, 67, 0.15);\n",
              "      fill: #174EA6;\n",
              "    }\n",
              "\n",
              "    .colab-df-buttons div {\n",
              "      margin-bottom: 4px;\n",
              "    }\n",
              "\n",
              "    [theme=dark] .colab-df-convert {\n",
              "      background-color: #3B4455;\n",
              "      fill: #D2E3FC;\n",
              "    }\n",
              "\n",
              "    [theme=dark] .colab-df-convert:hover {\n",
              "      background-color: #434B5C;\n",
              "      box-shadow: 0px 1px 3px 1px rgba(0, 0, 0, 0.15);\n",
              "      filter: drop-shadow(0px 1px 2px rgba(0, 0, 0, 0.3));\n",
              "      fill: #FFFFFF;\n",
              "    }\n",
              "  </style>\n",
              "\n",
              "    <script>\n",
              "      const buttonEl =\n",
              "        document.querySelector('#df-a2029a72-6c2d-4ee3-8841-0fd1321086a4 button.colab-df-convert');\n",
              "      buttonEl.style.display =\n",
              "        google.colab.kernel.accessAllowed ? 'block' : 'none';\n",
              "\n",
              "      async function convertToInteractive(key) {\n",
              "        const element = document.querySelector('#df-a2029a72-6c2d-4ee3-8841-0fd1321086a4');\n",
              "        const dataTable =\n",
              "          await google.colab.kernel.invokeFunction('convertToInteractive',\n",
              "                                                    [key], {});\n",
              "        if (!dataTable) return;\n",
              "\n",
              "        const docLinkHtml = 'Like what you see? Visit the ' +\n",
              "          '<a target=\"_blank\" href=https://colab.research.google.com/notebooks/data_table.ipynb>data table notebook</a>'\n",
              "          + ' to learn more about interactive tables.';\n",
              "        element.innerHTML = '';\n",
              "        dataTable['output_type'] = 'display_data';\n",
              "        await google.colab.output.renderOutput(dataTable, element);\n",
              "        const docLink = document.createElement('div');\n",
              "        docLink.innerHTML = docLinkHtml;\n",
              "        element.appendChild(docLink);\n",
              "      }\n",
              "    </script>\n",
              "  </div>\n",
              "\n",
              "\n",
              "<div id=\"df-b8756a2e-77e5-487c-8e76-f1d2ced26107\">\n",
              "  <button class=\"colab-df-quickchart\" onclick=\"quickchart('df-b8756a2e-77e5-487c-8e76-f1d2ced26107')\"\n",
              "            title=\"Suggest charts.\"\n",
              "            style=\"display:none;\">\n",
              "\n",
              "<svg xmlns=\"http://www.w3.org/2000/svg\" height=\"24px\"viewBox=\"0 0 24 24\"\n",
              "     width=\"24px\">\n",
              "    <g>\n",
              "        <path d=\"M19 3H5c-1.1 0-2 .9-2 2v14c0 1.1.9 2 2 2h14c1.1 0 2-.9 2-2V5c0-1.1-.9-2-2-2zM9 17H7v-7h2v7zm4 0h-2V7h2v10zm4 0h-2v-4h2v4z\"/>\n",
              "    </g>\n",
              "</svg>\n",
              "  </button>\n",
              "\n",
              "<style>\n",
              "  .colab-df-quickchart {\n",
              "      --bg-color: #E8F0FE;\n",
              "      --fill-color: #1967D2;\n",
              "      --hover-bg-color: #E2EBFA;\n",
              "      --hover-fill-color: #174EA6;\n",
              "      --disabled-fill-color: #AAA;\n",
              "      --disabled-bg-color: #DDD;\n",
              "  }\n",
              "\n",
              "  [theme=dark] .colab-df-quickchart {\n",
              "      --bg-color: #3B4455;\n",
              "      --fill-color: #D2E3FC;\n",
              "      --hover-bg-color: #434B5C;\n",
              "      --hover-fill-color: #FFFFFF;\n",
              "      --disabled-bg-color: #3B4455;\n",
              "      --disabled-fill-color: #666;\n",
              "  }\n",
              "\n",
              "  .colab-df-quickchart {\n",
              "    background-color: var(--bg-color);\n",
              "    border: none;\n",
              "    border-radius: 50%;\n",
              "    cursor: pointer;\n",
              "    display: none;\n",
              "    fill: var(--fill-color);\n",
              "    height: 32px;\n",
              "    padding: 0;\n",
              "    width: 32px;\n",
              "  }\n",
              "\n",
              "  .colab-df-quickchart:hover {\n",
              "    background-color: var(--hover-bg-color);\n",
              "    box-shadow: 0 1px 2px rgba(60, 64, 67, 0.3), 0 1px 3px 1px rgba(60, 64, 67, 0.15);\n",
              "    fill: var(--button-hover-fill-color);\n",
              "  }\n",
              "\n",
              "  .colab-df-quickchart-complete:disabled,\n",
              "  .colab-df-quickchart-complete:disabled:hover {\n",
              "    background-color: var(--disabled-bg-color);\n",
              "    fill: var(--disabled-fill-color);\n",
              "    box-shadow: none;\n",
              "  }\n",
              "\n",
              "  .colab-df-spinner {\n",
              "    border: 2px solid var(--fill-color);\n",
              "    border-color: transparent;\n",
              "    border-bottom-color: var(--fill-color);\n",
              "    animation:\n",
              "      spin 1s steps(1) infinite;\n",
              "  }\n",
              "\n",
              "  @keyframes spin {\n",
              "    0% {\n",
              "      border-color: transparent;\n",
              "      border-bottom-color: var(--fill-color);\n",
              "      border-left-color: var(--fill-color);\n",
              "    }\n",
              "    20% {\n",
              "      border-color: transparent;\n",
              "      border-left-color: var(--fill-color);\n",
              "      border-top-color: var(--fill-color);\n",
              "    }\n",
              "    30% {\n",
              "      border-color: transparent;\n",
              "      border-left-color: var(--fill-color);\n",
              "      border-top-color: var(--fill-color);\n",
              "      border-right-color: var(--fill-color);\n",
              "    }\n",
              "    40% {\n",
              "      border-color: transparent;\n",
              "      border-right-color: var(--fill-color);\n",
              "      border-top-color: var(--fill-color);\n",
              "    }\n",
              "    60% {\n",
              "      border-color: transparent;\n",
              "      border-right-color: var(--fill-color);\n",
              "    }\n",
              "    80% {\n",
              "      border-color: transparent;\n",
              "      border-right-color: var(--fill-color);\n",
              "      border-bottom-color: var(--fill-color);\n",
              "    }\n",
              "    90% {\n",
              "      border-color: transparent;\n",
              "      border-bottom-color: var(--fill-color);\n",
              "    }\n",
              "  }\n",
              "</style>\n",
              "\n",
              "  <script>\n",
              "    async function quickchart(key) {\n",
              "      const quickchartButtonEl =\n",
              "        document.querySelector('#' + key + ' button');\n",
              "      quickchartButtonEl.disabled = true;  // To prevent multiple clicks.\n",
              "      quickchartButtonEl.classList.add('colab-df-spinner');\n",
              "      try {\n",
              "        const charts = await google.colab.kernel.invokeFunction(\n",
              "            'suggestCharts', [key], {});\n",
              "      } catch (error) {\n",
              "        console.error('Error during call to suggestCharts:', error);\n",
              "      }\n",
              "      quickchartButtonEl.classList.remove('colab-df-spinner');\n",
              "      quickchartButtonEl.classList.add('colab-df-quickchart-complete');\n",
              "    }\n",
              "    (() => {\n",
              "      let quickchartButtonEl =\n",
              "        document.querySelector('#df-b8756a2e-77e5-487c-8e76-f1d2ced26107 button');\n",
              "      quickchartButtonEl.style.display =\n",
              "        google.colab.kernel.accessAllowed ? 'block' : 'none';\n",
              "    })();\n",
              "  </script>\n",
              "</div>\n",
              "    </div>\n",
              "  </div>\n"
            ]
          },
          "metadata": {},
          "execution_count": 27
        }
      ],
      "source": [
        "train_set.iloc[:3, :15]"
      ]
    },
    {
      "cell_type": "code",
      "execution_count": 28,
      "metadata": {
        "id": "JvUyNKRL4ozc",
        "colab": {
          "base_uri": "https://localhost:8080/"
        },
        "outputId": "4fa57e97-710e-4402-9591-1f94069cdd02"
      },
      "outputs": [
        {
          "output_type": "execute_result",
          "data": {
            "text/plain": [
              "True"
            ]
          },
          "metadata": {},
          "execution_count": 28
        }
      ],
      "source": [
        "val_set.shape == train_set.shape"
      ]
    },
    {
      "cell_type": "code",
      "execution_count": 29,
      "metadata": {
        "id": "FZyZKml26Ky9"
      },
      "outputs": [],
      "source": [
        "val_set = val_set.reindex_like(train_set)"
      ]
    },
    {
      "cell_type": "code",
      "execution_count": 30,
      "metadata": {
        "id": "Cxlw2OVC8ePn",
        "colab": {
          "base_uri": "https://localhost:8080/"
        },
        "outputId": "582b7fc8-36c4-4f23-e5fd-0b449ab2480d"
      },
      "outputs": [
        {
          "output_type": "execute_result",
          "data": {
            "text/plain": [
              "True"
            ]
          },
          "metadata": {},
          "execution_count": 30
        }
      ],
      "source": [
        "np.array_equal(train_set.index, val_set.index)"
      ]
    },
    {
      "cell_type": "code",
      "execution_count": 31,
      "metadata": {
        "id": "51eXm2Lt8hB-",
        "colab": {
          "base_uri": "https://localhost:8080/"
        },
        "outputId": "068b5c13-b491-44d3-f890-9cdf61296394"
      },
      "outputs": [
        {
          "output_type": "execute_result",
          "data": {
            "text/plain": [
              "True"
            ]
          },
          "metadata": {},
          "execution_count": 31
        }
      ],
      "source": [
        "np.array_equal(train_set.columns, val_set.columns)"
      ]
    },
    {
      "cell_type": "code",
      "execution_count": 32,
      "metadata": {
        "id": "RDkdTtHr80Qs"
      },
      "outputs": [],
      "source": [
        "R_train = train_set.fillna(0).values\n",
        "P_train = train_set.notna().values\n",
        "\n",
        "R_val = val_set.fillna(0).values\n",
        "P_val = val_set.notna().values"
      ]
    },
    {
      "cell_type": "code",
      "execution_count": 33,
      "metadata": {
        "id": "gpZyU_yW9IzT"
      },
      "outputs": [],
      "source": [
        "val_actual = R_val[P_val]"
      ]
    },
    {
      "cell_type": "markdown",
      "metadata": {
        "id": "YwBpnehW6Hfh"
      },
      "source": [
        "# Prediction"
      ]
    },
    {
      "cell_type": "markdown",
      "metadata": {
        "id": "xiWKy6uW8ttb"
      },
      "source": [
        "## Collaborative prediction (Users)  Song lavora qui"
      ]
    },
    {
      "cell_type": "markdown",
      "metadata": {
        "id": "lpl4LVfT-ain"
      },
      "source": [
        "Similarity calculation between an user `a` and an user `b` over item `i`:\n",
        "$$ \\text{sim}(u,v) = \\frac{\\sum_{i\\in C_{u,v}} r_{u,i}\\cdot r_{v,i}}{\\sqrt{\\sum_{i\\in C_{u,v}} r_{u,i}^2}\\cdot\\sqrt{\\sum_{i\\in C_{u,v}} r_{v,i}^2}}$$"
      ]
    },
    {
      "cell_type": "code",
      "execution_count": 34,
      "metadata": {
        "id": "8hluDcLCCT9m",
        "colab": {
          "base_uri": "https://localhost:8080/"
        },
        "outputId": "0982e139-8278-49d1-b107-68e5ad94d0e1"
      },
      "outputs": [
        {
          "output_type": "stream",
          "name": "stdout",
          "text": [
            "(300, 6911) (300, 6911)\n"
          ]
        }
      ],
      "source": [
        "R = R_train\n",
        "P = P_train\n",
        "print(R.shape, P.shape) # = M X N\n",
        "# Where M is the number of users and N is the number of items"
      ]
    },
    {
      "cell_type": "markdown",
      "metadata": {
        "id": "Ka3j6eey8iqV"
      },
      "source": [
        "if i want to get the cos similarity bewteen users (m x n) @ (n x m) = (m x m) which is (user_dim x user_dim)"
      ]
    },
    {
      "cell_type": "code",
      "execution_count": 35,
      "metadata": {
        "id": "JUJBCghX7Vn6",
        "colab": {
          "base_uri": "https://localhost:8080/"
        },
        "outputId": "1a3152d6-94df-4043-e021-39aafc7e0854"
      },
      "outputs": [
        {
          "output_type": "execute_result",
          "data": {
            "text/plain": [
              "(300, 300)"
            ]
          },
          "metadata": {},
          "execution_count": 35
        }
      ],
      "source": [
        "sim_numerator = R @ R.T\n",
        "sim_numerator.shape"
      ]
    },
    {
      "cell_type": "markdown",
      "metadata": {
        "id": "HNS4mvGu-ogc"
      },
      "source": [
        "In order to calculate the denominator, we need the norm of the scores between a pair of users, and we will only take the scores where the matrix P shows `True`"
      ]
    },
    {
      "cell_type": "code",
      "execution_count": 36,
      "metadata": {
        "id": "Al1S4szb-dPe",
        "colab": {
          "base_uri": "https://localhost:8080/"
        },
        "outputId": "c477b4a7-aadc-4f62-ccf9-9e7b1bf54ccb"
      },
      "outputs": [
        {
          "output_type": "execute_result",
          "data": {
            "text/plain": [
              "(300, 300, 6911)"
            ]
          },
          "metadata": {},
          "execution_count": 36
        }
      ],
      "source": [
        "# a vector of dimension m x m x n, that is (user, user, boolean)\n",
        "# we have m x n,  so we need to add 1 dimension to m\n",
        "# that can be (1, m, n) and (m, 1, n)\n",
        "P_rated = P[None, :, :] & P[:, None, :]\n",
        "P_rated.shape"
      ]
    },
    {
      "cell_type": "markdown",
      "metadata": {
        "id": "ppzbHk2C-iR6"
      },
      "source": [
        "Now we need a 3d vector of dimension (m x m x n), that is (user, user, score), this matrix contains information about ratings of items only if the item is rated by both users"
      ]
    },
    {
      "cell_type": "code",
      "execution_count": 37,
      "metadata": {
        "id": "cxyNK20q-hh1",
        "colab": {
          "base_uri": "https://localhost:8080/"
        },
        "outputId": "9f0c0eed-2be8-4e45-aaf3-f77e07918b8a"
      },
      "outputs": [
        {
          "output_type": "execute_result",
          "data": {
            "text/plain": [
              "(300, 300, 6911)"
            ]
          },
          "metadata": {},
          "execution_count": 37
        }
      ],
      "source": [
        "#(m x m x n) * (1, m, n) = (m, m, n)\n",
        "R_both_rated = P_rated * R\n",
        "R_both_rated.shape\n",
        "# although in this case, we have (m,m,n), but the score\n",
        "#will be of the user in the second dimension(dim=1) in the 3d array (_, m, _)"
      ]
    },
    {
      "cell_type": "markdown",
      "metadata": {
        "id": "ZTR3X3HdDbZp"
      },
      "source": [
        "Now we can calculate the normalization of the denominator"
      ]
    },
    {
      "cell_type": "code",
      "execution_count": 38,
      "metadata": {
        "id": "ILJcYcNMCWt9",
        "colab": {
          "base_uri": "https://localhost:8080/"
        },
        "outputId": "19af3b74-15c1-4d1f-97a2-01f65abc349e"
      },
      "outputs": [
        {
          "output_type": "execute_result",
          "data": {
            "text/plain": [
              "(300, 300)"
            ]
          },
          "metadata": {},
          "execution_count": 38
        }
      ],
      "source": [
        "R_both_rated_norm = np.linalg.norm(R_both_rated, axis=2)\n",
        "#axis = 2 because that is the dimension where rating is saved\n",
        "R_both_rated_norm.shape"
      ]
    },
    {
      "cell_type": "markdown",
      "metadata": {
        "id": "LIb5axGCELZ0"
      },
      "source": [
        "Then, we get the square of the values of the matrix\n",
        "$${\\sqrt{\\sum_{i\\in C_{u,v}} r_{u,i}^2}\\cdot\\sqrt{\\sum_{i\\in C_{u,v}} r_{v,i}^2}}$$"
      ]
    },
    {
      "cell_type": "code",
      "execution_count": 39,
      "metadata": {
        "id": "x5_YYOyAEGgq",
        "colab": {
          "base_uri": "https://localhost:8080/"
        },
        "outputId": "09ca62f8-10f7-4476-ff2b-90d75a50d5f0"
      },
      "outputs": [
        {
          "output_type": "execute_result",
          "data": {
            "text/plain": [
              "(300, 300)"
            ]
          },
          "metadata": {},
          "execution_count": 39
        }
      ],
      "source": [
        "similarity_denominator = R_both_rated_norm * R_both_rated_norm.T\n",
        "similarity_denominator.shape"
      ]
    },
    {
      "cell_type": "code",
      "execution_count": 40,
      "metadata": {
        "id": "zvmdiiOtE-9x",
        "colab": {
          "base_uri": "https://localhost:8080/"
        },
        "outputId": "efc5248e-a6b5-43b4-fba9-36de0aad9455"
      },
      "outputs": [
        {
          "output_type": "execute_result",
          "data": {
            "text/plain": [
              "array([[1.        , 0.28758613, 0.32594049, 0.4046839 , 0.12117279],\n",
              "       [0.28758613, 1.        , 0.15092674, 0.27765914, 0.        ],\n",
              "       [0.32594049, 0.15092674, 1.        , 0.42133934, 0.30366369],\n",
              "       [0.4046839 , 0.27765914, 0.42133934, 1.        , 0.26450662],\n",
              "       [0.12117279, 0.        , 0.30366369, 0.26450662, 1.        ]])"
            ]
          },
          "metadata": {},
          "execution_count": 40
        }
      ],
      "source": [
        "cosin_sim = sim_numerator / similarity_denominator\n",
        "cosin_sim[:5, :5]"
      ]
    },
    {
      "cell_type": "markdown",
      "metadata": {
        "id": "D550x8V_FVgC"
      },
      "source": [
        "We replace nan with the value zero"
      ]
    },
    {
      "cell_type": "code",
      "execution_count": 41,
      "metadata": {
        "id": "Z7CclNnjFbGp",
        "colab": {
          "base_uri": "https://localhost:8080/"
        },
        "outputId": "9bec9e1d-ab25-41df-9b3c-37d74d1a2958"
      },
      "outputs": [
        {
          "output_type": "execute_result",
          "data": {
            "text/plain": [
              "array([[1.        , 0.28758613, 0.32594049, ..., 0.        , 0.33268082,\n",
              "        0.25732214],\n",
              "       [0.28758613, 1.        , 0.15092674, ..., 0.        , 0.        ,\n",
              "        0.16877885],\n",
              "       [0.32594049, 0.15092674, 1.        , ..., 0.        , 0.        ,\n",
              "        0.        ],\n",
              "       ...,\n",
              "       [0.        , 0.        , 0.        , ..., 0.        , 0.        ,\n",
              "        0.        ],\n",
              "       [0.33268082, 0.        , 0.        , ..., 0.        , 1.        ,\n",
              "        0.        ],\n",
              "       [0.25732214, 0.16877885, 0.        , ..., 0.        , 0.        ,\n",
              "        1.        ]])"
            ]
          },
          "metadata": {},
          "execution_count": 41
        }
      ],
      "source": [
        "cosin_sim = np.where(np.isnan(cosin_sim), 0, cosin_sim)\n",
        "cosin_sim[:50, :50]"
      ]
    },
    {
      "cell_type": "markdown",
      "metadata": {
        "id": "dMVoWlJ22JXH"
      },
      "source": [
        "When we have a sparse matrix, this would not work so well."
      ]
    },
    {
      "cell_type": "markdown",
      "metadata": {
        "id": "31emFCIC2XMF"
      },
      "source": [
        "Now we can test this method on our validation dataset"
      ]
    },
    {
      "cell_type": "code",
      "execution_count": 42,
      "metadata": {
        "id": "8fPEPhxz2Uqv"
      },
      "outputs": [],
      "source": [
        "def get_val_predictions(pred_func, k):\n",
        "    return np.array([\n",
        "        pred_func(u, i, k)\n",
        "        for u, i in zip(*P_val.nonzero())\n",
        "    ])"
      ]
    },
    {
      "cell_type": "code",
      "execution_count": 43,
      "metadata": {
        "id": "zIRyzNg42ubj"
      },
      "outputs": [],
      "source": [
        "def RMSE(actual, predicted):\n",
        "    return np.sqrt(np.mean(np.square(predicted - actual)))"
      ]
    },
    {
      "cell_type": "code",
      "execution_count": 44,
      "metadata": {
        "id": "LoxuCOrF5R6s"
      },
      "outputs": [],
      "source": [
        "def predict_from_neighbors(u, i, k):\n",
        "    voters = list(P[:, i].nonzero()[0])\n",
        "    voters.sort(key=lambda x: cosin_sim[u, x], reverse=True)\n",
        "    voters = voters[:k]\n",
        "    predicted_vote = (cosin_sim[u, voters] @ R[voters, i]) / cosin_sim[u, voters].sum()\n",
        "    return predicted_vote if not np.isnan(predicted_vote) else R[P].mean()"
      ]
    },
    {
      "cell_type": "code",
      "source": [
        "K_similar_users = 5"
      ],
      "metadata": {
        "id": "2Etn6UpD-WXT"
      },
      "execution_count": 45,
      "outputs": []
    },
    {
      "cell_type": "code",
      "execution_count": 46,
      "metadata": {
        "id": "F-i1YAqY5Txx",
        "colab": {
          "base_uri": "https://localhost:8080/",
          "height": 447
        },
        "outputId": "a8c97a2f-afe7-44ca-cfb1-91ec4e7a8dbe"
      },
      "outputs": [
        {
          "output_type": "error",
          "ename": "KeyboardInterrupt",
          "evalue": "ignored",
          "traceback": [
            "\u001b[0;31m---------------------------------------------------------------------------\u001b[0m",
            "\u001b[0;31mKeyboardInterrupt\u001b[0m                         Traceback (most recent call last)",
            "\u001b[0;32m<ipython-input-46-3c8216d87aec>\u001b[0m in \u001b[0;36m<cell line: 1>\u001b[0;34m()\u001b[0m\n\u001b[0;32m----> 1\u001b[0;31m \u001b[0mk_sim_mserr\u001b[0m \u001b[0;34m=\u001b[0m \u001b[0;34m[\u001b[0m\u001b[0mRMSE\u001b[0m\u001b[0;34m(\u001b[0m\u001b[0mval_actual\u001b[0m\u001b[0;34m,\u001b[0m \u001b[0mget_val_predictions\u001b[0m\u001b[0;34m(\u001b[0m\u001b[0mpredict_from_neighbors\u001b[0m\u001b[0;34m,\u001b[0m \u001b[0mk\u001b[0m\u001b[0;34m)\u001b[0m\u001b[0;34m)\u001b[0m \u001b[0;32mfor\u001b[0m \u001b[0mk\u001b[0m \u001b[0;32min\u001b[0m \u001b[0mrange\u001b[0m\u001b[0;34m(\u001b[0m\u001b[0mK_similar_users\u001b[0m\u001b[0;34m)\u001b[0m\u001b[0;34m]\u001b[0m\u001b[0;34m\u001b[0m\u001b[0;34m\u001b[0m\u001b[0m\n\u001b[0m",
            "\u001b[0;32m<ipython-input-46-3c8216d87aec>\u001b[0m in \u001b[0;36m<listcomp>\u001b[0;34m(.0)\u001b[0m\n\u001b[0;32m----> 1\u001b[0;31m \u001b[0mk_sim_mserr\u001b[0m \u001b[0;34m=\u001b[0m \u001b[0;34m[\u001b[0m\u001b[0mRMSE\u001b[0m\u001b[0;34m(\u001b[0m\u001b[0mval_actual\u001b[0m\u001b[0;34m,\u001b[0m \u001b[0mget_val_predictions\u001b[0m\u001b[0;34m(\u001b[0m\u001b[0mpredict_from_neighbors\u001b[0m\u001b[0;34m,\u001b[0m \u001b[0mk\u001b[0m\u001b[0;34m)\u001b[0m\u001b[0;34m)\u001b[0m \u001b[0;32mfor\u001b[0m \u001b[0mk\u001b[0m \u001b[0;32min\u001b[0m \u001b[0mrange\u001b[0m\u001b[0;34m(\u001b[0m\u001b[0mK_similar_users\u001b[0m\u001b[0;34m)\u001b[0m\u001b[0;34m]\u001b[0m\u001b[0;34m\u001b[0m\u001b[0;34m\u001b[0m\u001b[0m\n\u001b[0m",
            "\u001b[0;32m<ipython-input-42-d382ed2a7527>\u001b[0m in \u001b[0;36mget_val_predictions\u001b[0;34m(pred_func, k)\u001b[0m\n\u001b[1;32m      1\u001b[0m \u001b[0;32mdef\u001b[0m \u001b[0mget_val_predictions\u001b[0m\u001b[0;34m(\u001b[0m\u001b[0mpred_func\u001b[0m\u001b[0;34m,\u001b[0m \u001b[0mk\u001b[0m\u001b[0;34m)\u001b[0m\u001b[0;34m:\u001b[0m\u001b[0;34m\u001b[0m\u001b[0;34m\u001b[0m\u001b[0m\n\u001b[0;32m----> 2\u001b[0;31m     return np.array([\n\u001b[0m\u001b[1;32m      3\u001b[0m         \u001b[0mpred_func\u001b[0m\u001b[0;34m(\u001b[0m\u001b[0mu\u001b[0m\u001b[0;34m,\u001b[0m \u001b[0mi\u001b[0m\u001b[0;34m,\u001b[0m \u001b[0mk\u001b[0m\u001b[0;34m)\u001b[0m\u001b[0;34m\u001b[0m\u001b[0;34m\u001b[0m\u001b[0m\n\u001b[1;32m      4\u001b[0m         \u001b[0;32mfor\u001b[0m \u001b[0mu\u001b[0m\u001b[0;34m,\u001b[0m \u001b[0mi\u001b[0m \u001b[0;32min\u001b[0m \u001b[0mzip\u001b[0m\u001b[0;34m(\u001b[0m\u001b[0;34m*\u001b[0m\u001b[0mP_val\u001b[0m\u001b[0;34m.\u001b[0m\u001b[0mnonzero\u001b[0m\u001b[0;34m(\u001b[0m\u001b[0;34m)\u001b[0m\u001b[0;34m)\u001b[0m\u001b[0;34m\u001b[0m\u001b[0;34m\u001b[0m\u001b[0m\n\u001b[1;32m      5\u001b[0m     ])\n",
            "\u001b[0;32m<ipython-input-42-d382ed2a7527>\u001b[0m in \u001b[0;36m<listcomp>\u001b[0;34m(.0)\u001b[0m\n\u001b[1;32m      1\u001b[0m \u001b[0;32mdef\u001b[0m \u001b[0mget_val_predictions\u001b[0m\u001b[0;34m(\u001b[0m\u001b[0mpred_func\u001b[0m\u001b[0;34m,\u001b[0m \u001b[0mk\u001b[0m\u001b[0;34m)\u001b[0m\u001b[0;34m:\u001b[0m\u001b[0;34m\u001b[0m\u001b[0;34m\u001b[0m\u001b[0m\n\u001b[1;32m      2\u001b[0m     return np.array([\n\u001b[0;32m----> 3\u001b[0;31m         \u001b[0mpred_func\u001b[0m\u001b[0;34m(\u001b[0m\u001b[0mu\u001b[0m\u001b[0;34m,\u001b[0m \u001b[0mi\u001b[0m\u001b[0;34m,\u001b[0m \u001b[0mk\u001b[0m\u001b[0;34m)\u001b[0m\u001b[0;34m\u001b[0m\u001b[0;34m\u001b[0m\u001b[0m\n\u001b[0m\u001b[1;32m      4\u001b[0m         \u001b[0;32mfor\u001b[0m \u001b[0mu\u001b[0m\u001b[0;34m,\u001b[0m \u001b[0mi\u001b[0m \u001b[0;32min\u001b[0m \u001b[0mzip\u001b[0m\u001b[0;34m(\u001b[0m\u001b[0;34m*\u001b[0m\u001b[0mP_val\u001b[0m\u001b[0;34m.\u001b[0m\u001b[0mnonzero\u001b[0m\u001b[0;34m(\u001b[0m\u001b[0;34m)\u001b[0m\u001b[0;34m)\u001b[0m\u001b[0;34m\u001b[0m\u001b[0;34m\u001b[0m\u001b[0m\n\u001b[1;32m      5\u001b[0m     ])\n",
            "\u001b[0;32m<ipython-input-44-1031fc7a4d2a>\u001b[0m in \u001b[0;36mpredict_from_neighbors\u001b[0;34m(u, i, k)\u001b[0m\n\u001b[1;32m      4\u001b[0m     \u001b[0mvoters\u001b[0m \u001b[0;34m=\u001b[0m \u001b[0mvoters\u001b[0m\u001b[0;34m[\u001b[0m\u001b[0;34m:\u001b[0m\u001b[0mk\u001b[0m\u001b[0;34m]\u001b[0m\u001b[0;34m\u001b[0m\u001b[0;34m\u001b[0m\u001b[0m\n\u001b[1;32m      5\u001b[0m     \u001b[0mpredicted_vote\u001b[0m \u001b[0;34m=\u001b[0m \u001b[0;34m(\u001b[0m\u001b[0mcosin_sim\u001b[0m\u001b[0;34m[\u001b[0m\u001b[0mu\u001b[0m\u001b[0;34m,\u001b[0m \u001b[0mvoters\u001b[0m\u001b[0;34m]\u001b[0m \u001b[0;34m@\u001b[0m \u001b[0mR\u001b[0m\u001b[0;34m[\u001b[0m\u001b[0mvoters\u001b[0m\u001b[0;34m,\u001b[0m \u001b[0mi\u001b[0m\u001b[0;34m]\u001b[0m\u001b[0;34m)\u001b[0m \u001b[0;34m/\u001b[0m \u001b[0mcosin_sim\u001b[0m\u001b[0;34m[\u001b[0m\u001b[0mu\u001b[0m\u001b[0;34m,\u001b[0m \u001b[0mvoters\u001b[0m\u001b[0;34m]\u001b[0m\u001b[0;34m.\u001b[0m\u001b[0msum\u001b[0m\u001b[0;34m(\u001b[0m\u001b[0;34m)\u001b[0m\u001b[0;34m\u001b[0m\u001b[0;34m\u001b[0m\u001b[0m\n\u001b[0;32m----> 6\u001b[0;31m     \u001b[0;32mreturn\u001b[0m \u001b[0mpredicted_vote\u001b[0m \u001b[0;32mif\u001b[0m \u001b[0;32mnot\u001b[0m \u001b[0mnp\u001b[0m\u001b[0;34m.\u001b[0m\u001b[0misnan\u001b[0m\u001b[0;34m(\u001b[0m\u001b[0mpredicted_vote\u001b[0m\u001b[0;34m)\u001b[0m \u001b[0;32melse\u001b[0m \u001b[0mR\u001b[0m\u001b[0;34m[\u001b[0m\u001b[0mP\u001b[0m\u001b[0;34m]\u001b[0m\u001b[0;34m.\u001b[0m\u001b[0mmean\u001b[0m\u001b[0;34m(\u001b[0m\u001b[0;34m)\u001b[0m\u001b[0;34m\u001b[0m\u001b[0;34m\u001b[0m\u001b[0m\n\u001b[0m",
            "\u001b[0;32m/usr/local/lib/python3.10/dist-packages/numpy/core/_methods.py\u001b[0m in \u001b[0;36m_mean\u001b[0;34m(a, axis, dtype, out, keepdims, where)\u001b[0m\n\u001b[1;32m    161\u001b[0m             um.clip, a, min, max, out=out, casting=casting, **kwargs)\n\u001b[1;32m    162\u001b[0m \u001b[0;34m\u001b[0m\u001b[0m\n\u001b[0;32m--> 163\u001b[0;31m \u001b[0;32mdef\u001b[0m \u001b[0m_mean\u001b[0m\u001b[0;34m(\u001b[0m\u001b[0ma\u001b[0m\u001b[0;34m,\u001b[0m \u001b[0maxis\u001b[0m\u001b[0;34m=\u001b[0m\u001b[0;32mNone\u001b[0m\u001b[0;34m,\u001b[0m \u001b[0mdtype\u001b[0m\u001b[0;34m=\u001b[0m\u001b[0;32mNone\u001b[0m\u001b[0;34m,\u001b[0m \u001b[0mout\u001b[0m\u001b[0;34m=\u001b[0m\u001b[0;32mNone\u001b[0m\u001b[0;34m,\u001b[0m \u001b[0mkeepdims\u001b[0m\u001b[0;34m=\u001b[0m\u001b[0;32mFalse\u001b[0m\u001b[0;34m,\u001b[0m \u001b[0;34m*\u001b[0m\u001b[0;34m,\u001b[0m \u001b[0mwhere\u001b[0m\u001b[0;34m=\u001b[0m\u001b[0;32mTrue\u001b[0m\u001b[0;34m)\u001b[0m\u001b[0;34m:\u001b[0m\u001b[0;34m\u001b[0m\u001b[0;34m\u001b[0m\u001b[0m\n\u001b[0m\u001b[1;32m    164\u001b[0m     \u001b[0marr\u001b[0m \u001b[0;34m=\u001b[0m \u001b[0masanyarray\u001b[0m\u001b[0;34m(\u001b[0m\u001b[0ma\u001b[0m\u001b[0;34m)\u001b[0m\u001b[0;34m\u001b[0m\u001b[0;34m\u001b[0m\u001b[0m\n\u001b[1;32m    165\u001b[0m \u001b[0;34m\u001b[0m\u001b[0m\n",
            "\u001b[0;31mKeyboardInterrupt\u001b[0m: "
          ]
        }
      ],
      "source": [
        "k_sim_mserr = [RMSE(val_actual, get_val_predictions(predict_from_neighbors, k)) for k in range(K_similar_users)]"
      ]
    },
    {
      "cell_type": "code",
      "source": [
        "plt.title(\"Line graph of mse error in the function of k similar users\")\n",
        "plt.xlabel(\"k similarity\")\n",
        "plt.ylabel(\"rmse error\")\n",
        "plt.plot(np.arange(K_similar_users), k_sim_mserr, color =\"red\")\n",
        "plt.show()"
      ],
      "metadata": {
        "id": "v4pvhojI9mzF"
      },
      "execution_count": null,
      "outputs": []
    },
    {
      "cell_type": "markdown",
      "source": [
        "From this chart, we can see that there is no neccessary that we need to compute the similarity among all users, but just 3 is enough."
      ],
      "metadata": {
        "id": "zJWk0KOl-n8X"
      }
    },
    {
      "cell_type": "code",
      "source": [
        "print(P.shape[0])"
      ],
      "metadata": {
        "id": "nlbpfVOW_SH5"
      },
      "execution_count": null,
      "outputs": []
    },
    {
      "cell_type": "code",
      "source": [
        "val_predictions = get_val_predictions(predict_from_neighbors, P.shape[0])\n",
        "RMSE(val_actual, val_predictions)"
      ],
      "metadata": {
        "id": "q3qrJL9M_Bpj",
        "colab": {
          "base_uri": "https://localhost:8080/"
        },
        "outputId": "48b1aeb3-9f7f-40b6-d894-4fac926a7a23"
      },
      "execution_count": 47,
      "outputs": [
        {
          "output_type": "execute_result",
          "data": {
            "text/plain": [
              "2.6263691380884366"
            ]
          },
          "metadata": {},
          "execution_count": 47
        }
      ]
    },
    {
      "cell_type": "code",
      "source": [
        "val_predictions = get_val_predictions(predict_from_neighbors, 3)\n",
        "RMSE(val_actual, val_predictions)"
      ],
      "metadata": {
        "id": "AkaO4yPC_KNy",
        "colab": {
          "base_uri": "https://localhost:8080/"
        },
        "outputId": "2f504499-5617-4eb5-a436-ec6a3e379128"
      },
      "execution_count": 48,
      "outputs": [
        {
          "output_type": "execute_result",
          "data": {
            "text/plain": [
              "2.246514174971863"
            ]
          },
          "metadata": {},
          "execution_count": 48
        }
      ]
    },
    {
      "cell_type": "markdown",
      "metadata": {
        "id": "KUGKuNBD6Vh1"
      },
      "source": [
        "## Prediction models (Giuseppe lavora qui)"
      ]
    },
    {
      "cell_type": "markdown",
      "metadata": {
        "id": "GpIEJR2mSfQb"
      },
      "source": [
        "### Bayesian model\n"
      ]
    },
    {
      "cell_type": "code",
      "execution_count": 49,
      "metadata": {
        "id": "bt6xxWVkfqRi"
      },
      "outputs": [],
      "source": [
        "def bayesian_recommendation(matrix, user_vector):\n",
        "    num_books = matrix.shape[1]\n",
        "\n",
        "    best_ratings_for_user = []\n",
        "\n",
        "    # 1. Identifica gli articoli/libri per cui l'utente di riferimento ha dato una valutazione\n",
        "    rated_by_user = ~np.isnan(user_vector)\n",
        "\n",
        "    # 2. Filtra gli utenti che hanno votato gli stessi libri dell'utente target\n",
        "    similar_users_mask = ~np.isnan(matrix[:, rated_by_user]).all(axis=1)\n",
        "    filtered_matrix = matrix[similar_users_mask]\n",
        "\n",
        "    for i in range(num_books):\n",
        "        # Se l'utente ha già valutato il libro, saltalo\n",
        "        if not np.isnan(user_vector[i]):\n",
        "            continue\n",
        "\n",
        "        best_rating_for_book = None\n",
        "        best_prob = -np.inf  # inizializziamo a un valore molto basso\n",
        "\n",
        "        # Calcola la probabilità a priori per ogni rating per il libro corrente\n",
        "        unique_ratings, counts = np.unique(filtered_matrix[:, i][~np.isnan(filtered_matrix[:, i])], return_counts=True)\n",
        "        total_ratings = np.sum(counts)\n",
        "        p_y = dict(zip(unique_ratings, counts / total_ratings))\n",
        "\n",
        "        for rating in range(11):  # 0-10 ratings\n",
        "            # Calcola una versione semplificata di P(X|Y=rating)\n",
        "            p_x_given_y = np.nanmean(filtered_matrix[:, i] == rating)\n",
        "\n",
        "            # Calcola P(Y=rating|X) come P(X|Y) * P(Y)\n",
        "            p_y_given_x = p_x_given_y * p_y.get(rating, 0)\n",
        "\n",
        "            if p_y_given_x > best_prob:\n",
        "                best_prob = p_y_given_x\n",
        "                best_rating_for_book = rating\n",
        "\n",
        "        best_ratings_for_user.append((i, best_rating_for_book))\n",
        "\n",
        "    return best_ratings_for_user\n"
      ]
    },
    {
      "cell_type": "code",
      "execution_count": 50,
      "metadata": {
        "id": "gfBkU7TTg-h-"
      },
      "outputs": [],
      "source": [
        "\n",
        "matrix = np.array([\n",
        "    [1,3,3,2,np.nan],\n",
        "    [2,4,2,2,4],\n",
        "    [1,3,3,5,1],\n",
        "    [4,5,2,3,3],\n",
        "    [1,1,5,2,1]\n",
        "])\n",
        "\n",
        "user_vector = np.array([5,4,3,2,np.nan])"
      ]
    },
    {
      "cell_type": "code",
      "execution_count": 51,
      "metadata": {
        "id": "QxxQ6tkB1pu5"
      },
      "outputs": [],
      "source": [
        "matrix = ratings.to_numpy()\n",
        "user_vector=matrix[0]"
      ]
    },
    {
      "cell_type": "code",
      "execution_count": 52,
      "metadata": {
        "id": "YmzhM3TskpY3",
        "colab": {
          "base_uri": "https://localhost:8080/"
        },
        "outputId": "6818ad85-4918-4269-e94c-26d1980bf821"
      },
      "outputs": [
        {
          "output_type": "stream",
          "name": "stdout",
          "text": [
            "[(1, 0), (2, 0), (3, 5), (4, 0), (5, 0), (7, 0), (9, 0), (10, 0), (11, 0), (12, 0), (13, 0), (14, 0), (16, 0), (17, 0), (18, 0), (19, 0), (20, 0), (21, 0), (22, 0), (23, 0), (24, 0), (26, 7), (28, 0), (29, 0), (30, 0), (31, 0), (32, 0), (33, 0), (35, 0), (36, 0), (37, 9), (38, 0), (39, 0), (40, 0), (41, 0), (42, 0), (43, 0), (44, 0), (45, 0), (46, 7), (47, 0), (48, 0), (49, 0), (50, 0), (51, 0), (52, 0), (53, 0), (54, 0), (55, 0), (56, 0), (57, 0), (60, 0), (61, 0), (63, 0), (64, 0), (65, 0), (66, 0), (69, 0), (70, 0), (71, 0), (73, 0), (74, 0), (75, 0), (76, 0), (78, 0), (79, 0), (80, 9), (81, 0), (82, 0), (83, 0), (84, 0), (85, 0), (86, 0), (89, 0), (90, 0), (91, 0), (92, 0), (93, 0), (94, 0), (95, 0), (96, 0), (98, 8), (99, 0), (100, 0), (101, 0), (104, 0), (105, 0), (108, 8), (109, 0), (110, 0), (111, 0), (112, 0), (114, 0), (115, 0), (116, 0), (117, 8), (119, 10), (120, 0), (123, 0), (124, 0), (126, 0), (127, 0), (128, 0), (129, 0), (130, 7), (131, 0), (132, 0), (134, 0), (135, 0), (136, 0), (138, 0), (139, 0), (141, 0), (142, 9), (143, 0), (144, 0), (145, 0), (148, 0), (150, 0), (151, 0), (152, 0), (153, 0), (156, 0), (159, 0), (160, 8), (161, 0), (162, 0), (163, 0), (164, 0), (165, 8), (166, 0), (167, 0), (168, 5), (170, 5), (171, 7), (173, 0), (174, 0), (175, 0), (176, 0), (177, 0), (178, 0), (180, 0), (181, 0), (182, 0), (183, 0), (184, 0), (185, 0), (186, 0), (189, 0), (194, 0), (195, 0), (196, 0), (197, 0), (198, 0), (199, 0), (200, 0), (201, 0), (203, 0), (206, 0), (207, 0), (209, 0), (211, 0), (212, 9), (213, 0), (216, 0), (218, 0), (220, 0), (221, 0), (222, 0), (223, 0), (224, 0), (225, 0), (227, 10), (228, 8), (229, 0), (230, 0), (231, 0), (233, 0), (236, 0), (237, 0), (240, 0), (241, 0), (242, 0), (244, 0), (249, 0), (250, 0), (254, 0), (255, 0), (257, 0), (262, 0), (263, 0), (266, 0), (267, 0), (268, 0), (269, 0), (270, 0), (272, 0), (273, 0), (274, 0), (278, 7), (279, 6), (280, 0), (281, 0), (283, 0), (284, 0), (285, 0), (289, 0), (290, 0), (291, 0), (292, 0), (294, 0), (297, 0), (298, 0), (299, 0), (300, 0), (301, 0), (302, 0), (303, 0), (304, 10), (305, 0), (306, 9), (307, 0), (310, 0), (311, 0), (312, 0), (313, 0), (315, 8), (316, 0), (317, 0), (318, 0), (319, 0), (320, 0), (321, 0), (323, 0), (324, 0), (325, 0), (328, 0), (329, 0), (330, 0), (331, 0), (332, 0), (333, 0), (334, 0), (335, 0), (336, 0), (337, 0), (339, 0), (340, 0), (341, 0), (342, 0), (350, 0), (353, 0), (354, 0), (355, 0), (356, 0), (357, 9), (358, 0), (360, 0), (361, 0), (363, 0), (364, 0), (365, 0), (366, 0), (367, 0), (368, 0), (369, 0), (370, 0), (371, 0), (374, 0), (375, 0), (377, 0), (378, 0), (379, 0), (382, 0), (383, 0), (384, 8), (386, 0), (388, 0), (389, 0), (390, 0), (391, 0), (392, 0), (393, 8), (394, 0), (396, 0), (397, 0), (398, 0), (399, 10), (400, 0), (401, 0), (402, 0), (404, 0), (405, 0), (406, 0), (408, 0), (409, 0), (412, 0), (413, 0), (414, 0), (416, 0), (417, 0), (418, 0), (420, 0), (421, 0), (422, 0), (424, 0), (425, 7), (426, 0), (427, 0), (428, 0), (429, 0), (430, 0), (431, 0), (432, 0), (433, 0), (434, 0), (435, 0), (437, 0), (439, 0), (440, 0), (441, 0), (442, 10), (443, 0), (444, 0), (445, 3), (446, 0), (447, 8), (448, 9), (449, 0), (450, 8), (451, 9), (452, 0), (453, 10), (454, 0), (455, 6), (456, 0), (457, 0), (458, 0), (460, 0), (461, 0), (462, 0), (463, 0), (464, 0), (465, 0), (468, 4), (469, 0), (470, 0), (472, 0), (474, 0), (475, 0), (477, 0), (478, 0), (479, 0), (480, 0), (481, 0), (483, 0), (484, 0), (485, 0), (486, 7), (487, 0), (488, 0), (489, 0), (490, 0), (491, 0), (492, 10), (493, 0), (494, 0), (495, 0), (496, 0), (497, 0), (498, 0), (499, 0), (500, 0), (501, 0), (503, 0), (504, 0), (505, 0), (506, 0), (508, 0), (509, 10), (510, 0), (511, 0), (512, 0), (513, 0), (514, 9), (515, 0), (516, 0), (518, 0), (519, 0), (521, 0), (523, 0), (524, 0), (525, 0), (529, 7), (533, 0), (534, 0), (535, 10), (537, 0), (538, 0), (539, 0), (540, 0), (541, 0), (542, 0), (544, 0), (549, 0), (550, 0), (551, 0), (553, 0), (554, 0), (555, 10), (556, 0), (557, 0), (561, 0), (562, 0), (563, 0), (565, 0), (567, 0), (568, 0), (569, 0), (570, 0), (572, 0), (573, 0), (575, 0), (576, 0), (577, 0), (578, 0), (579, 9), (580, 0), (581, 0), (582, 0), (585, 0), (587, 0), (588, 5), (589, 0), (590, 0), (592, 0), (593, 0), (594, 0), (595, 0), (596, 0), (598, 0), (599, 0), (600, 0), (601, 0), (602, 0), (603, 0), (604, 0), (605, 0), (606, 0), (607, 0), (608, 5), (609, 0), (610, 0), (612, 0), (613, 0), (614, 0), (615, 0), (616, 0), (617, 0), (619, 0), (620, 0), (621, 0), (623, 0), (624, 0), (625, 0), (626, 0), (627, 0), (630, 0), (632, 0), (633, 0), (634, 0), (635, 0), (636, 0), (638, 0), (639, 0), (641, 0), (642, 0), (645, 0), (646, 0), (651, 0), (653, 0), (654, 0), (655, 6), (658, 0), (659, 8), (660, 0), (661, 0), (662, 0), (663, 0), (664, 0), (665, 0), (666, 0), (667, 0), (668, 0), (669, 0), (670, 0), (671, 7), (672, 0), (673, 0), (676, 0), (677, 10), (679, 0), (680, 0), (681, 0), (682, 0), (683, 0), (684, 0), (685, 10), (686, 0), (687, 0), (688, 0), (689, 0), (690, 9), (692, 10), (693, 0), (694, 0), (695, 0), (696, 0), (697, 0), (698, 0), (699, 0), (700, 0), (701, 0), (702, 0), (703, 0), (706, 0), (707, 0), (708, 7), (710, 0), (712, 0), (713, 0), (714, 0), (716, 0), (717, 0), (718, 0), (719, 0), (720, 0), (721, 0), (722, 0), (723, 0), (724, 0), (725, 0), (726, 0), (727, 0), (728, 0), (729, 10), (730, 6), (731, 0), (732, 0), (733, 0), (734, 0), (735, 0), (736, 0), (737, 10), (738, 0), (739, 0), (740, 0), (741, 0), (742, 0), (743, 0), (744, 0), (745, 0), (747, 0), (748, 0), (749, 0), (750, 0), (751, 0), (752, 10), (753, 0), (754, 0), (755, 0), (756, 0), (757, 0), (758, 0), (759, 0), (760, 7), (761, 0), (762, 0), (763, 0), (764, 0), (765, 0), (766, 0), (767, 0), (768, 0), (769, 0), (770, 0), (771, 0), (772, 0), (773, 7), (774, 0), (775, 0), (776, 0), (777, 0), (778, 10), (779, 0), (781, 0), (782, 5), (783, 0), (784, 0), (785, 7), (786, 0), (787, 0), (788, 0), (789, 0), (790, 0), (792, 0), (793, 8), (794, 0), (795, 0), (796, 0), (797, 6), (798, 0), (799, 0), (800, 0), (801, 0), (802, 0), (803, 0), (804, 0), (805, 0), (806, 0), (807, 0), (808, 0), (809, 0), (810, 0), (811, 0), (812, 0), (813, 0), (814, 9), (815, 0), (816, 0), (817, 0), (818, 0), (819, 0), (820, 0), (821, 0), (822, 10), (823, 0), (824, 0), (825, 0), (826, 0), (827, 0), (828, 0), (829, 0), (830, 0), (831, 0), (832, 0), (833, 0), (834, 0), (835, 0), (836, 0), (837, 0), (839, 0), (841, 0), (843, 7), (844, 0), (845, 0), (846, 0), (847, 0), (848, 0), (850, 0), (851, 0), (853, 7), (854, 9), (855, 0), (858, 0), (859, 0), (860, 7), (861, 0), (862, 0), (863, 0), (865, 0), (866, 0), (867, 0), (868, 0), (871, 0), (873, 8), (875, 0), (876, 0), (877, 0), (878, 0), (879, 0), (881, 0), (883, 0), (885, 0), (887, 0), (888, 0), (889, 0), (891, 0), (893, 0), (894, 0), (895, 0), (897, 0), (898, 0), (900, 0), (901, 9), (903, 0), (905, 8), (907, 0), (909, 0), (910, 0), (911, 8), (912, 0), (913, 0), (914, 2), (915, 0), (916, 0), (917, 0), (918, 0), (919, 0), (920, 0), (921, 0), (922, 9), (923, 0), (924, 0), (925, 0), (926, 0), (927, 0), (928, 0), (929, 0), (931, 10), (932, 10), (933, 0), (934, 0), (935, 0), (936, 0), (937, 0), (938, 0), (940, 0), (941, 8), (943, 0), (944, 0), (945, 0), (946, 0), (947, 0), (948, 0), (949, 0), (951, 0), (954, 0), (955, 0), (956, 0), (958, 0), (959, 0), (960, 0), (962, 0), (963, 0), (964, 0), (966, 0), (967, 0), (971, 0), (973, 0), (974, 0), (978, 0), (981, 0), (982, 0), (983, 0), (984, 0), (986, 7), (987, 0), (989, 0), (990, 0), (991, 8), (992, 0), (994, 0), (996, 0), (997, 0), (998, 0), (999, 0), (1000, 0), (1001, 0), (1003, 0), (1005, 8), (1008, 0), (1012, 0), (1013, 0), (1014, 0), (1015, 0), (1016, 0), (1017, 0), (1018, 7), (1019, 0), (1020, 7), (1021, 0), (1023, 0), (1028, 0), (1035, 0), (1036, 0), (1037, 0), (1038, 0), (1039, 0), (1043, 0), (1044, 0), (1045, 9), (1052, 0), (1053, 0), (1055, 0), (1056, 0), (1060, 0), (1063, 6), (1065, 8), (1066, 0), (1067, 0), (1069, 0), (1070, 0), (1071, 0), (1072, 0), (1073, 6), (1077, 6), (1078, 6), (1079, 0), (1080, 0), (1081, 9), (1082, 9), (1083, 9), (1084, 0), (1085, 0), (1086, 0), (1087, 10), (1089, 0), (1090, 0), (1091, 0), (1092, 0), (1093, 0), (1094, 0), (1095, 0), (1096, 0), (1097, 0), (1098, 0), (1099, 8), (1100, 0), (1101, 0), (1102, 0), (1103, 0), (1104, 0), (1105, 0), (1106, 0), (1107, 0), (1108, 0), (1109, 9), (1110, 10), (1111, 0), (1112, 0), (1113, 0), (1114, 0), (1115, 0), (1116, 10), (1118, 0), (1121, 8), (1122, 0), (1123, 0), (1124, 0), (1125, 0), (1126, 0), (1127, 0), (1128, 0), (1129, 0), (1130, 0), (1131, 0), (1132, 0), (1133, 0), (1134, 0), (1136, 0), (1137, 0), (1138, 10), (1139, 0), (1140, 0), (1141, 0), (1142, 0), (1143, 0), (1145, 7), (1146, 0), (1147, 0), (1149, 0), (1150, 0), (1151, 0), (1152, 0), (1153, 0), (1154, 0), (1155, 0), (1156, 8), (1158, 0), (1159, 0), (1161, 0), (1163, 7), (1164, 0), (1165, 0), (1166, 0), (1167, 0), (1168, 0), (1169, 0), (1170, 0), (1171, 0), (1172, 0), (1173, 0), (1174, 0), (1175, 0), (1176, 0), (1177, 0), (1178, 0), (1179, 0), (1180, 8), (1181, 0), (1183, 0), (1184, 0), (1185, 0), (1191, 0), (1192, 5), (1193, 0), (1194, 0), (1198, 0), (1201, 0), (1202, 0), (1204, 0), (1207, 0), (1208, 0), (1210, 0), (1211, 0), (1212, 7), (1213, 0), (1216, 0), (1217, 0), (1218, 0), (1219, 7), (1221, 0), (1222, 0), (1223, 0), (1225, 0), (1226, 0), (1227, 0), (1228, 0), (1229, 0), (1231, 0), (1232, 0), (1233, 0), (1234, 0), (1235, 0), (1238, 0), (1239, 0), (1240, 0), (1241, 0), (1242, 0), (1243, 0), (1244, 0), (1245, 0), (1246, 0), (1247, 0), (1250, 0), (1251, 0), (1253, 0), (1255, 0), (1256, 0), (1257, 0), (1258, 0), (1259, 0), (1260, 0), (1262, 0), (1263, 0), (1266, 0), (1269, 0), (1270, 8), (1271, 0), (1273, 0), (1274, 0), (1276, 0), (1278, 0), (1279, 0), (1280, 0), (1281, 0), (1282, 0), (1283, 0), (1284, 0), (1285, 0), (1286, 0), (1289, 0), (1291, 0), (1296, 0), (1297, 0), (1298, 0), (1299, 0), (1301, 0), (1302, 0), (1303, 0), (1304, 0), (1307, 0), (1309, 0), (1310, 0), (1314, 8), (1316, 0), (1317, 0), (1320, 0), (1321, 0), (1322, 0), (1323, 0), (1324, 0), (1326, 0), (1328, 0), (1330, 0), (1331, 0), (1333, 0), (1335, 0), (1336, 0), (1337, 0), (1338, 0), (1339, 0), (1340, 0), (1341, 0), (1342, 0), (1343, 0), (1345, 0), (1346, 0), (1347, 0), (1348, 0), (1349, 0), (1353, 0), (1355, 0), (1356, 0), (1358, 0), (1359, 0), (1360, 0), (1361, 0), (1363, 0), (1364, 0), (1365, 0), (1367, 0), (1368, 0), (1369, 0), (1371, 0), (1372, 0), (1373, 0), (1376, 7), (1378, 0), (1379, 0), (1380, 0), (1383, 0), (1384, 0), (1386, 0), (1389, 7), (1390, 0), (1392, 0), (1393, 0), (1394, 0), (1396, 10), (1397, 0), (1398, 10), (1399, 0), (1400, 0), (1401, 0), (1402, 0), (1403, 0), (1404, 0), (1405, 0), (1406, 9), (1407, 3), (1408, 0), (1409, 0), (1410, 0), (1411, 0), (1412, 0), (1413, 0), (1414, 0), (1415, 0), (1416, 0), (1417, 0), (1418, 0), (1419, 0), (1420, 0), (1422, 0), (1423, 0), (1424, 0), (1425, 0), (1426, 0), (1427, 0), (1428, 0), (1429, 2), (1430, 0), (1431, 0), (1432, 0), (1433, 0), (1434, 0), (1435, 0), (1436, 0), (1437, 5), (1438, 0), (1439, 0), (1440, 0), (1441, 0), (1442, 0), (1443, 0), (1444, 0), (1445, 9), (1446, 0), (1448, 0), (1449, 0), (1450, 0), (1451, 0), (1452, 0), (1453, 0), (1454, 0), (1455, 0), (1456, 0), (1459, 0), (1460, 0), (1461, 0), (1462, 0), (1463, 0), (1464, 0), (1465, 0), (1466, 0), (1467, 0), (1468, 0), (1469, 0), (1470, 0), (1471, 0), (1472, 0), (1473, 0), (1474, 0), (1475, 0), (1476, 0), (1477, 0), (1478, 0), (1479, 5), (1480, 0), (1481, 0), (1482, 0), (1483, 0), (1484, 0), (1485, 0), (1486, 0), (1487, 0), (1488, 0), (1489, 0), (1490, 0), (1491, 0), (1492, 0), (1496, 0), (1497, 0), (1498, 0), (1499, 0), (1500, 0), (1501, 0), (1502, 0), (1503, 0), (1504, 0), (1506, 0), (1507, 0), (1508, 0), (1509, 0), (1510, 0), (1511, 0), (1514, 0), (1515, 0), (1516, 0), (1517, 0), (1518, 6), (1519, 0), (1520, 8), (1521, 0), (1522, 0), (1523, 0), (1524, 0), (1525, 0), (1526, 0), (1527, 0), (1528, 6), (1529, 6), (1530, 0), (1531, 0), (1532, 8), (1533, 0), (1536, 0), (1537, 0), (1538, 0), (1541, 0), (1542, 0), (1543, 0), (1544, 0), (1545, 0), (1547, 6), (1548, 7), (1549, 5), (1550, 0), (1551, 0), (1552, 7), (1553, 0), (1554, 0), (1555, 0), (1556, 9), (1557, 0), (1558, 0), (1559, 6), (1560, 6), (1561, 0), (1562, 7), (1563, 7), (1564, 0), (1565, 0), (1566, 0), (1567, 0), (1568, 0), (1569, 0), (1570, 0), (1571, 0), (1572, 0), (1573, 5), (1574, 0), (1575, 0), (1576, 0), (1577, 0), (1578, 0), (1579, 0), (1580, 0), (1581, 0), (1582, 0), (1583, 0), (1584, 0), (1586, 0), (1587, 0), (1588, 0), (1590, 0), (1591, 0), (1592, 0), (1593, 0), (1594, 0), (1595, 0), (1596, 0), (1597, 0), (1598, 0), (1599, 0), (1600, 5), (1601, 0), (1602, 0), (1603, 0), (1604, 0), (1606, 0), (1607, 0), (1608, 0), (1609, 0), (1610, 8), (1611, 0), (1612, 0), (1613, 0), (1614, 7), (1615, 0), (1616, 6), (1617, 0), (1618, 0), (1619, 0), (1620, 0), (1621, 9), (1622, 7), (1623, 0), (1624, 0), (1625, 0), (1626, 0), (1627, 0), (1628, 0), (1629, 0), (1630, 0), (1631, 0), (1632, 0), (1633, 7), (1635, 0), (1636, 4), (1637, 0), (1638, 0), (1639, 0), (1640, 0), (1641, 10), (1642, 0), (1644, 0), (1645, 0), (1646, 0), (1648, 0), (1649, 0), (1650, 0), (1651, 0), (1652, 0), (1653, 0), (1654, 0), (1655, 0), (1656, 0), (1657, 0), (1658, 0), (1659, 0), (1660, 8), (1661, 0), (1662, 0), (1663, 0), (1665, 0), (1667, 0), (1668, 0), (1669, 0), (1670, 0), (1671, 0), (1672, 0), (1673, 5), (1674, 0), (1675, 0), (1676, 0), (1677, 0), (1678, 0), (1679, 0), (1681, 9), (1684, 0), (1685, 0), (1686, 0), (1687, 0), (1688, 0), (1689, 0), (1690, 0), (1691, 0), (1692, 0), (1693, 0), (1694, 0), (1695, 0), (1696, 0), (1697, 0), (1698, 9), (1700, 0), (1701, 0), (1702, 0), (1703, 0), (1704, 0), (1705, 0), (1706, 0), (1707, 0), (1708, 0), (1709, 0), (1710, 8), (1711, 0), (1714, 0), (1720, 0), (1723, 0), (1726, 0), (1728, 0), (1729, 0), (1731, 0), (1733, 0), (1735, 0), (1736, 0), (1738, 0), (1739, 0), (1742, 0), (1743, 0), (1744, 0), (1745, 0), (1747, 0), (1749, 0), (1753, 0), (1754, 0), (1756, 9), (1757, 0), (1760, 0), (1761, 0), (1763, 0), (1764, 9), (1765, 10), (1766, 0), (1768, 0), (1769, 0), (1770, 0), (1771, 0), (1772, 0), (1773, 9), (1774, 0), (1775, 0), (1778, 0), (1779, 0), (1780, 0), (1782, 0), (1783, 0), (1784, 0), (1786, 0), (1787, 0), (1788, 0), (1790, 3), (1791, 0), (1793, 0), (1794, 0), (1795, 0), (1796, 0), (1797, 0), (1798, 0), (1801, 0), (1804, 0), (1805, 0), (1806, 0), (1807, 0), (1808, 0), (1809, 0), (1810, 8), (1811, 0), (1814, 0), (1816, 0), (1819, 0), (1820, 0), (1821, 0), (1822, 0), (1823, 0), (1824, 0), (1826, 10), (1827, 0), (1830, 0), (1831, 0), (1832, 0), (1833, 0), (1834, 0), (1836, 0), (1837, 0), (1839, 0), (1840, 0), (1845, 0), (1847, 0), (1848, 0), (1849, 0), (1851, 0), (1852, 0), (1854, 0), (1855, 0), (1857, 0), (1858, 0), (1862, 0), (1863, 0), (1864, 0), (1865, 0), (1866, 0), (1867, 0), (1868, 0), (1869, 0), (1870, 0), (1871, 0), (1872, 0), (1873, 7), (1874, 0), (1875, 7), (1876, 8), (1877, 0), (1878, 0), (1879, 0), (1880, 10), (1882, 0), (1883, 0), (1885, 0), (1886, 0), (1887, 0), (1888, 10), (1891, 9), (1892, 0), (1893, 0), (1895, 0), (1899, 0), (1900, 0), (1901, 0), (1902, 0), (1903, 0), (1904, 0), (1905, 0), (1906, 0), (1907, 0), (1908, 0), (1909, 0), (1910, 0), (1915, 0), (1917, 0), (1918, 0), (1919, 0), (1920, 0), (1921, 0), (1922, 0), (1923, 0), (1924, 0), (1925, 0), (1926, 0), (1928, 0), (1929, 0), (1931, 0), (1934, 0), (1935, 0), (1936, 0), (1937, 0), (1939, 9), (1940, 0), (1941, 0), (1942, 0), (1944, 0), (1946, 8), (1947, 0), (1948, 0), (1949, 0), (1950, 0), (1951, 8), (1952, 0), (1953, 0), (1954, 0), (1955, 0), (1956, 0), (1957, 0), (1958, 0), (1959, 7), (1960, 0), (1961, 0), (1962, 0), (1964, 0), (1965, 0), (1966, 0), (1968, 0), (1969, 0), (1970, 0), (1972, 0), (1973, 0), (1974, 0), (1976, 0), (1977, 0), (1978, 0), (1981, 0), (1983, 0), (1984, 0), (1985, 0), (1986, 0), (1987, 0), (1988, 10), (1989, 0), (1990, 0), (1993, 0), (1994, 0), (1995, 0), (1996, 0), (1997, 0), (1998, 0), (2000, 0), (2001, 9), (2002, 0), (2004, 0), (2007, 0), (2010, 0), (2016, 0), (2020, 0), (2023, 0), (2024, 0), (2029, 0), (2033, 0), (2034, 0), (2035, 0), (2039, 0), (2040, 0), (2041, 0), (2042, 0), (2044, 0), (2045, 0), (2046, 0), (2047, 0), (2049, 0), (2052, 0), (2055, 0), (2056, 6), (2058, 0), (2059, 0), (2060, 0), (2061, 0), (2063, 0), (2066, 0), (2067, 0), (2069, 0), (2070, 0), (2071, 0), (2073, 0), (2074, 0), (2076, 0), (2077, 0), (2078, 0), (2079, 0), (2085, 0), (2086, 0), (2092, 0), (2093, 0), (2096, 0), (2098, 0), (2104, 0), (2105, 0), (2106, 0), (2107, 0), (2109, 0), (2110, 0), (2111, 0), (2112, 0), (2113, 0), (2115, 0), (2116, 0), (2117, 0), (2118, 0), (2120, 0), (2121, 0), (2122, 0), (2123, 0), (2124, 0), (2125, 0), (2127, 0), (2128, 0), (2129, 0), (2130, 0), (2131, 0), (2132, 10), (2133, 0), (2134, 0), (2135, 0), (2136, 0), (2137, 0), (2138, 0), (2139, 0), (2140, 0), (2141, 0), (2142, 0), (2143, 0), (2144, 10), (2145, 0), (2146, 0), (2147, 0), (2148, 0), (2149, 0), (2150, 0), (2151, 0), (2152, 0), (2153, 0), (2154, 0), (2156, 0), (2158, 0), (2159, 0), (2160, 8), (2161, 0), (2162, 0), (2163, 0), (2164, 0), (2165, 0), (2167, 0), (2168, 0), (2170, 0), (2171, 7), (2172, 0), (2173, 10), (2174, 0), (2175, 0), (2176, 0), (2177, 0), (2178, 0), (2179, 0), (2184, 0), (2186, 0), (2187, 0), (2188, 0), (2190, 0), (2191, 0), (2192, 0), (2193, 0), (2194, 0), (2195, 0), (2196, 0), (2197, 0), (2198, 10), (2199, 10), (2200, 0), (2201, 0), (2202, 0), (2203, 0), (2204, 0), (2205, 0), (2206, 0), (2207, 0), (2208, 5), (2209, 0), (2210, 0), (2211, 0), (2212, 0), (2213, 0), (2214, 0), (2215, 0), (2216, 0), (2217, 0), (2219, 0), (2221, 0), (2222, 7), (2223, 0), (2224, 0), (2225, 8), (2226, 0), (2228, 8), (2229, 0), (2232, 0), (2233, 0), (2236, 0), (2237, 0), (2238, 0), (2239, 0), (2241, 0), (2242, 0), (2243, 0), (2244, 0), (2245, 0), (2246, 0), (2249, 0), (2251, 0), (2255, 0), (2256, 0), (2257, 0), (2259, 0), (2260, 0), (2262, 0), (2263, 0), (2265, 9), (2266, 0), (2269, 9), (2270, 0), (2271, 9), (2272, 0), (2273, 0), (2275, 0), (2276, 0), (2277, 0), (2278, 0), (2279, 9), (2282, 10), (2283, 0), (2284, 0), (2285, 0), (2286, 0), (2287, 0), (2288, 0), (2289, 7), (2290, 0), (2291, 8), (2292, 9), (2293, 0), (2294, 0), (2295, 0), (2296, 0), (2297, 0), (2298, 0), (2299, 0), (2300, 0), (2301, 0), (2302, 0), (2303, 9), (2304, 0), (2305, 0), (2306, 4), (2307, 0), (2308, 6), (2309, 0), (2310, 0), (2311, 9), (2312, 8), (2313, 0), (2314, 0), (2315, 0), (2316, 0), (2317, 0), (2318, 0), (2319, 0), (2320, 0), (2321, 0), (2323, 0), (2324, 0), (2325, 0), (2326, 0), (2328, 0), (2329, 0), (2331, 0), (2332, 0), (2333, 10), (2335, 0), (2336, 0), (2337, 0), (2339, 0), (2340, 0), (2341, 0), (2346, 0), (2348, 0), (2349, 0), (2350, 0), (2351, 0), (2352, 0), (2353, 0), (2354, 0), (2355, 0), (2360, 0), (2362, 0), (2364, 0), (2367, 0), (2369, 0), (2370, 0), (2371, 0), (2375, 0), (2376, 0), (2379, 0), (2383, 0), (2386, 0), (2387, 0), (2390, 0), (2391, 0), (2392, 0), (2394, 0), (2398, 0), (2399, 0), (2400, 0), (2402, 0), (2404, 10), (2405, 0), (2406, 0), (2407, 7), (2408, 0), (2409, 0), (2412, 0), (2413, 0), (2414, 0), (2416, 0), (2418, 0), (2419, 0), (2420, 0), (2422, 0), (2424, 0), (2426, 0), (2427, 0), (2429, 0), (2431, 0), (2435, 0), (2436, 0), (2438, 0), (2439, 0), (2440, 0), (2450, 0), (2452, 0), (2455, 0), (2456, 0), (2459, 0), (2460, 0), (2461, 0), (2463, 0), (2464, 0), (2465, 9), (2466, 0), (2467, 0), (2468, 0), (2469, 0), (2470, 0), (2472, 0), (2475, 0), (2476, 0), (2477, 0), (2478, 0), (2479, 0), (2480, 0), (2481, 0), (2488, 0), (2490, 0), (2491, 0), (2492, 0), (2493, 0), (2494, 0), (2495, 0), (2496, 0), (2497, 0), (2498, 0), (2499, 10), (2500, 0), (2501, 0), (2502, 0), (2504, 0), (2508, 0), (2509, 0), (2510, 0), (2511, 0), (2512, 0), (2513, 0), (2514, 0), (2516, 0), (2518, 0), (2519, 0), (2521, 0), (2522, 8), (2523, 0), (2524, 0), (2525, 0), (2526, 0), (2527, 0), (2528, 0), (2531, 10), (2532, 0), (2533, 0), (2534, 0), (2535, 0), (2536, 0), (2537, 0), (2538, 0), (2539, 0), (2541, 0), (2542, 0), (2543, 0), (2544, 0), (2545, 0), (2547, 0), (2548, 0), (2550, 0), (2553, 8), (2554, 0), (2558, 0), (2564, 0), (2566, 0), (2570, 0), (2572, 0), (2574, 8), (2577, 0), (2578, 0), (2585, 0), (2587, 0), (2588, 0), (2590, 0), (2591, 0), (2592, 0), (2593, 0), (2595, 0), (2596, 0), (2598, 0), (2602, 0), (2603, 0), (2608, 8), (2611, 0), (2612, 0), (2613, 0), (2614, 0), (2615, 0), (2616, 0), (2617, 8), (2619, 0), (2620, 0), (2621, 0), (2622, 0), (2624, 0), (2625, 0), (2626, 0), (2627, 0), (2628, 0), (2630, 9), (2631, 0), (2632, 0), (2635, 0), (2636, 0), (2638, 0), (2639, 0), (2640, 0), (2641, 0), (2642, 0), (2646, 0), (2647, 0), (2648, 0), (2649, 0), (2650, 0), (2651, 0), (2652, 0), (2653, 0), (2654, 0), (2655, 0), (2656, 0), (2657, 0), (2658, 0), (2659, 0), (2660, 0), (2661, 0), (2662, 0), (2663, 0), (2664, 0), (2668, 0), (2669, 0), (2670, 0), (2671, 10), (2673, 0), (2674, 0), (2675, 0), (2676, 0), (2677, 0), (2678, 6), (2681, 9), (2682, 0), (2684, 0), (2686, 0), (2687, 0), (2688, 0), (2689, 0), (2690, 0), (2693, 0), (2694, 0), (2696, 0), (2697, 0), (2698, 0), (2699, 0), (2701, 0), (2702, 0), (2703, 0), (2704, 0), (2705, 7), (2707, 0), (2708, 0), (2709, 0), (2710, 0), (2711, 0), (2712, 9), (2713, 0), (2714, 0), (2715, 0), (2716, 0), (2717, 0), (2718, 0), (2720, 0), (2721, 9), (2723, 0), (2724, 0), (2725, 0), (2726, 0), (2729, 0), (2730, 0), (2731, 0), (2732, 0), (2733, 9), (2734, 0), (2735, 0), (2736, 0), (2737, 0), (2738, 0), (2739, 0), (2740, 0), (2741, 0), (2742, 0), (2743, 0), (2744, 0), (2746, 0), (2747, 0), (2748, 0), (2749, 0), (2750, 0), (2752, 0), (2755, 0), (2756, 0), (2757, 0), (2758, 0), (2759, 0), (2760, 0), (2761, 0), (2762, 0), (2763, 0), (2764, 0), (2765, 0), (2766, 0), (2767, 0), (2768, 0), (2769, 0), (2771, 0), (2773, 0), (2774, 0), (2775, 0), (2776, 0), (2777, 0), (2781, 2), (2782, 0), (2783, 0), (2784, 0), (2787, 0), (2788, 0), (2789, 0), (2792, 0), (2795, 0), (2797, 0), (2798, 0), (2799, 0), (2800, 0), (2802, 0), (2803, 0), (2804, 0), (2805, 0), (2806, 0), (2807, 0), (2808, 0), (2810, 0), (2811, 7), (2813, 6), (2817, 0), (2821, 0), (2824, 5), (2826, 0), (2829, 0), (2831, 0), (2834, 7), (2836, 0), (2839, 0), (2840, 0), (2841, 0), (2842, 0), (2843, 0), (2844, 9), (2847, 0), (2849, 0), (2852, 0), (2854, 0), (2855, 0), (2856, 0), (2859, 0), (2861, 0), (2862, 0), (2865, 0), (2870, 0), (2871, 0), (2872, 0), (2875, 0), (2877, 0), (2878, 0), (2881, 0), (2886, 0), (2889, 0), (2890, 0), (2893, 0), (2896, 0), (2898, 0), (2905, 0), (2906, 0), (2907, 0), (2910, 0), (2912, 0), (2913, 0), (2914, 0), (2915, 0), (2917, 0), (2918, 9), (2919, 0), (2920, 0), (2924, 0), (2925, 0), (2926, 0), (2928, 0), (2929, 10), (2930, 0), (2931, 0), (2932, 0), (2933, 10), (2934, 0), (2935, 0), (2936, 0), (2937, 0), (2938, 0), (2940, 0), (2941, 0), (2943, 0), (2945, 0), (2946, 0), (2947, 0), (2952, 0), (2953, 0), (2954, 0), (2956, 0), (2958, 0), (2959, 0), (2960, 0), (2961, 0), (2963, 0), (2964, 0), (2965, 0), (2966, 0), (2967, 0), (2969, 0), (2972, 0), (2973, 8), (2975, 0), (2976, 0), (2977, 0), (2978, 0), (2979, 0), (2981, 8), (2983, 0), (2985, 0), (2986, 0), (2987, 0), (2988, 0), (2989, 0), (2993, 0), (2994, 0), (2997, 0), (3000, 0), (3003, 9), (3004, 0), (3005, 8), (3006, 0), (3007, 0), (3008, 5), (3009, 0), (3010, 0), (3011, 0), (3012, 0), (3013, 0), (3014, 0), (3016, 0), (3018, 0), (3020, 0), (3021, 0), (3022, 0), (3023, 10), (3024, 0), (3025, 0), (3026, 9), (3027, 0), (3029, 0), (3030, 0), (3031, 0), (3033, 0), (3034, 0), (3035, 0), (3037, 0), (3039, 0), (3040, 8), (3041, 0), (3042, 0), (3043, 7), (3044, 0), (3045, 0), (3048, 0), (3049, 0), (3050, 0), (3051, 0), (3052, 0), (3053, 0), (3054, 0), (3055, 0), (3056, 0), (3057, 0), (3058, 0), (3061, 0), (3062, 0), (3063, 0), (3065, 0), (3068, 0), (3069, 0), (3070, 0), (3072, 0), (3075, 10), (3076, 0), (3078, 0), (3080, 0), (3081, 0), (3083, 0), (3084, 0), (3086, 0), (3088, 0), (3089, 0), (3092, 0), (3093, 0), (3094, 0), (3095, 0), (3096, 0), (3099, 0), (3102, 0), (3105, 0), (3106, 0), (3107, 0), (3108, 0), (3110, 0), (3111, 0), (3112, 0), (3113, 0), (3116, 0), (3118, 0), (3119, 0), (3120, 0), (3122, 0), (3124, 0), (3129, 0), (3130, 0), (3131, 0), (3132, 0), (3133, 0), (3135, 0), (3137, 0), (3138, 0), (3140, 0), (3141, 0), (3143, 0), (3144, 0), (3145, 0), (3146, 9), (3147, 0), (3149, 0), (3150, 0), (3151, 0), (3152, 0), (3154, 0), (3155, 0), (3157, 0), (3158, 8), (3159, 0), (3160, 0), (3161, 0), (3162, 0), (3163, 0), (3164, 0), (3165, 0), (3166, 0), (3167, 0), (3169, 8), (3170, 0), (3171, 0), (3172, 0), (3174, 0), (3176, 0), (3177, 0), (3178, 9), (3179, 0), (3180, 0), (3181, 0), (3182, 0), (3183, 8), (3184, 8), (3185, 0), (3186, 0), (3187, 0), (3188, 0), (3189, 0), (3190, 0), (3191, 10), (3192, 0), (3193, 0), (3194, 0), (3195, 0), (3196, 0), (3197, 0), (3200, 0), (3201, 0), (3202, 10), (3204, 0), (3205, 0), (3206, 0), (3207, 0), (3208, 0), (3209, 0), (3210, 0), (3211, 0), (3212, 0), (3213, 8), (3214, 0), (3215, 0), (3216, 0), (3217, 0), (3218, 0), (3219, 0), (3220, 9), (3222, 10), (3223, 0), (3224, 0), (3226, 0), (3227, 0), (3228, 0), (3229, 0), (3231, 0), (3233, 0), (3234, 0), (3237, 9), (3238, 0), (3239, 0), (3240, 0), (3242, 0), (3243, 0), (3244, 0), (3245, 0), (3246, 0), (3247, 0), (3248, 0), (3250, 0), (3251, 7), (3252, 9), (3253, 0), (3254, 0), (3255, 0), (3256, 0), (3257, 0), (3258, 0), (3259, 0), (3260, 0), (3261, 0), (3263, 0), (3264, 0), (3265, 0), (3267, 0), (3268, 0), (3270, 0), (3271, 0), (3273, 0), (3274, 0), (3275, 0), (3276, 0), (3279, 0), (3280, 0), (3281, 0), (3283, 0), (3284, 0), (3285, 0), (3286, 0), (3287, 0), (3288, 0), (3289, 0), (3290, 0), (3293, 0), (3294, 0), (3295, 0), (3296, 0), (3299, 0), (3300, 0), (3303, 0), (3304, 0), (3305, 0), (3306, 7), (3307, 0), (3308, 0), (3309, 0), (3310, 0), (3311, 0), (3312, 0), (3313, 0), (3314, 10), (3315, 8), (3316, 0), (3317, 10), (3318, 0), (3319, 0), (3320, 0), (3321, 0), (3322, 0), (3323, 0), (3324, 0), (3325, 0), (3326, 0), (3327, 0), (3328, 0), (3329, 9), (3330, 0), (3331, 0), (3332, 0), (3333, 0), (3334, 0), (3335, 0), (3336, 0), (3340, 0), (3341, 0), (3342, 0), (3343, 0), (3344, 0), (3345, 0), (3346, 0), (3347, 0), (3348, 0), (3349, 10), (3350, 0), (3351, 0), (3352, 0), (3354, 5), (3355, 0), (3356, 0), (3357, 0), (3358, 0), (3359, 0), (3362, 0), (3363, 0), (3365, 0), (3366, 0), (3368, 0), (3371, 0), (3372, 0), (3374, 0), (3375, 0), (3377, 0), (3379, 0), (3380, 0), (3382, 0), (3383, 0), (3387, 0), (3388, 0), (3389, 0), (3390, 0), (3395, 0), (3396, 0), (3397, 0), (3399, 0), (3404, 0), (3409, 0), (3414, 0), (3419, 0), (3420, 0), (3421, 0), (3423, 0), (3424, 0), (3425, 0), (3426, 0), (3427, 0), (3428, 0), (3430, 0), (3432, 0), (3433, 0), (3434, 0), (3436, 0), (3438, 0), (3439, 0), (3440, 0), (3441, 0), (3442, 0), (3443, 0), (3444, 0), (3445, 0), (3446, 0), (3447, 0), (3448, 0), (3449, 0), (3450, 0), (3451, 0), (3452, 0), (3453, 0), (3454, 0), (3455, 0), (3456, 10), (3457, 0), (3458, 0), (3459, 0), (3460, 0), (3461, 8), (3462, 0), (3463, 0), (3464, 0), (3466, 0), (3467, 0), (3468, 0), (3469, 0), (3470, 0), (3471, 0), (3472, 0), (3474, 0), (3475, 0), (3476, 0), (3477, 0), (3478, 0), (3479, 0), (3480, 0), (3481, 0), (3485, 0), (3486, 0), (3487, 0), (3488, 0), (3490, 0), (3491, 0), (3492, 0), (3493, 0), (3494, 0), (3495, 8), (3496, 0), (3497, 0), (3498, 0), (3499, 0), (3500, 0), (3505, 0), (3506, 0), (3507, 10), (3508, 0), (3509, 0), (3511, 0), (3512, 0), (3513, 0), (3514, 5), (3515, 0), (3516, 0), (3517, 0), (3518, 0), (3519, 0), (3521, 0), (3522, 0), (3524, 0), (3525, 0), (3526, 0), (3527, 0), (3528, 0), (3529, 0), (3530, 0), (3531, 0), (3533, 0), (3534, 0), (3535, 0), (3536, 0), (3537, 0), (3538, 0), (3539, 0), (3540, 0), (3541, 0), (3543, 0), (3544, 8), (3545, 0), (3546, 0), (3548, 0), (3549, 0), (3551, 0), (3552, 0), (3554, 0), (3555, 8), (3556, 0), (3557, 0), (3558, 0), (3559, 0), (3560, 0), (3561, 0), (3562, 0), (3563, 0), (3566, 0), (3567, 0), (3569, 0), (3570, 0), (3571, 0), (3572, 0), (3573, 0), (3574, 0), (3575, 0), (3576, 5), (3577, 0), (3578, 0), (3579, 0), (3581, 0), (3583, 0), (3584, 0), (3585, 0), (3586, 0), (3587, 0), (3588, 0), (3589, 0), (3591, 0), (3592, 8), (3593, 10), (3594, 0), (3595, 0), (3599, 0), (3601, 0), (3602, 0), (3603, 0), (3604, 0), (3607, 7), (3608, 0), (3610, 0), (3612, 0), (3613, 0), (3614, 0), (3615, 0), (3616, 0), (3617, 0), (3618, 0), (3620, 0), (3621, 0), (3622, 0), (3623, 0), (3625, 0), (3627, 0), (3629, 0), (3630, 0), (3631, 0), (3632, 0), (3634, 0), (3636, 0), (3637, 0), (3638, 5), (3639, 0), (3641, 0), (3642, 0), (3644, 0), (3645, 0), (3652, 10), (3653, 0), (3655, 0), (3656, 0), (3657, 0), (3658, 0), (3660, 0), (3662, 0), (3665, 0), (3666, 0), (3668, 0), (3669, 0), (3671, 0), (3672, 10), (3675, 0), (3677, 0), (3679, 0), (3680, 0), (3682, 0), (3683, 0), (3684, 0), (3687, 0), (3688, 0), (3689, 0), (3690, 0), (3691, 0), (3692, 0), (3693, 0), (3694, 0), (3695, 0), (3696, 0), (3698, 0), (3699, 0), (3700, 0), (3701, 0), (3706, 0), (3707, 0), (3708, 0), (3709, 0), (3710, 0), (3711, 0), (3712, 0), (3713, 0), (3714, 0), (3715, 0), (3718, 0), (3719, 0), (3720, 0), (3721, 0), (3725, 0), (3726, 0), (3730, 0), (3731, 0), (3732, 0), (3733, 0), (3735, 0), (3740, 0), (3742, 0), (3743, 0), (3744, 0), (3745, 0), (3747, 0), (3748, 0), (3749, 0), (3750, 0), (3751, 0), (3752, 0), (3754, 0), (3755, 0), (3757, 0), (3758, 0), (3760, 0), (3763, 0), (3765, 0), (3766, 0), (3767, 0), (3768, 0), (3769, 0), (3770, 0), (3772, 0), (3773, 0), (3774, 0), (3775, 0), (3776, 0), (3777, 0), (3778, 0), (3779, 0), (3780, 0), (3781, 0), (3782, 0), (3783, 0), (3784, 0), (3785, 0), (3787, 0), (3789, 0), (3790, 0), (3791, 0), (3792, 0), (3794, 0), (3795, 0), (3796, 0), (3797, 0), (3803, 0), (3804, 0), (3805, 0), (3806, 0), (3807, 0), (3811, 0), (3815, 0), (3816, 0), (3817, 0), (3819, 0), (3821, 0), (3822, 0), (3823, 0), (3824, 0), (3826, 0), (3828, 0), (3829, 0), (3831, 0), (3832, 0), (3834, 0), (3836, 0), (3837, 0), (3838, 0), (3840, 0), (3841, 0), (3842, 0), (3843, 0), (3844, 0), (3848, 0), (3850, 0), (3851, 0), (3852, 0), (3853, 0), (3854, 0), (3855, 0), (3856, 0), (3857, 0), (3858, 8), (3859, 0), (3860, 0), (3861, 0), (3864, 0), (3865, 0), (3866, 0), (3867, 0), (3868, 0), (3869, 0), (3870, 0), (3872, 0), (3874, 0), (3875, 0), (3876, 6), (3879, 0), (3880, 0), (3881, 0), (3882, 0), (3883, 9), (3884, 0), (3885, 0), (3886, 0), (3888, 0), (3889, 0), (3890, 8), (3891, 0), (3892, 0), (3893, 0), (3894, 0), (3895, 0), (3896, 0), (3897, 0), (3898, 0), (3899, 0), (3900, 0), (3901, 0), (3902, 0), (3903, 0), (3904, 0), (3905, 0), (3907, 0), (3908, 0), (3909, 0), (3910, 0), (3911, 0), (3912, 0), (3913, 0), (3914, 0), (3915, 0), (3919, 0), (3920, 0), (3921, 0), (3922, 0), (3923, 0), (3924, 0), (3925, 0), (3926, 0), (3927, 0), (3928, 0), (3929, 0), (3930, 0), (3931, 0), (3933, 0), (3934, 5), (3935, 10), (3936, 5), (3937, 0), (3938, 0), (3939, 7), (3940, 7), (3941, 0), (3942, 0), (3943, 0), (3944, 0), (3945, 0), (3946, 0), (3947, 0), (3948, 0), (3949, 0), (3950, 0), (3951, 0), (3952, 0), (3954, 0), (3955, 0), (3957, 0), (3958, 0), (3959, 0), (3960, 0), (3961, 0), (3962, 0), (3963, 0), (3964, 0), (3965, 0), (3966, 0), (3967, 0), (3968, 0), (3969, 0), (3970, 0), (3971, 0), (3972, 0), (3973, 0), (3974, 0), (3975, 0), (3976, 7), (3977, 0), (3978, 0), (3979, 0), (3980, 2), (3981, 2), (3982, 7), (3983, 0), (3984, 0), (3985, 0), (3986, 0), (3987, 0), (3988, 8), (3989, 0), (3990, 0), (3993, 0), (3994, 0), (3996, 0), (3997, 0), (3999, 0), (4000, 0), (4002, 0), (4003, 0), (4004, 0), (4007, 0), (4008, 0), (4009, 0), (4010, 0), (4011, 0), (4012, 0), (4013, 0), (4014, 0), (4015, 0), (4016, 0), (4017, 0), (4020, 0), (4021, 0), (4023, 0), (4024, 0), (4025, 0), (4028, 0), (4029, 9), (4031, 0), (4032, 0), (4033, 0), (4036, 10), (4037, 0), (4038, 8), (4039, 5), (4040, 0), (4041, 0), (4042, 9), (4043, 0), (4044, 0), (4045, 0), (4048, 0), (4049, 0), (4050, 0), (4051, 0), (4054, 0), (4055, 0), (4057, 0), (4058, 0), (4059, 0), (4060, 0), (4061, 0), (4062, 0), (4063, 0), (4064, 0), (4065, 0), (4066, 0), (4067, 0), (4068, 0), (4070, 0), (4071, 0), (4072, 0), (4074, 0), (4076, 0), (4078, 0), (4079, 0), (4080, 0), (4081, 0), (4083, 5), (4084, 0), (4085, 0), (4086, 0), (4089, 0), (4092, 0), (4096, 0), (4097, 0), (4099, 0), (4101, 0), (4102, 0), (4105, 0), (4106, 0), (4107, 0), (4108, 0), (4109, 9), (4110, 0), (4112, 0), (4113, 0), (4116, 0), (4117, 0), (4118, 0), (4120, 0), (4121, 0), (4122, 0), (4125, 0), (4127, 10), (4128, 0), (4129, 0), (4130, 0), (4134, 10), (4135, 0), (4136, 0), (4137, 0), (4140, 0), (4143, 0), (4147, 0), (4148, 0), (4149, 0), (4150, 0), (4151, 0), (4157, 0), (4159, 0), (4160, 0), (4161, 0), (4162, 0), (4163, 0), (4164, 0), (4165, 0), (4166, 0), (4167, 0), (4168, 0), (4169, 0), (4170, 0), (4171, 0), (4172, 0), (4173, 0), (4175, 0), (4176, 0), (4178, 0), (4179, 0), (4180, 0), (4181, 0), (4182, 0), (4183, 0), (4184, 0), (4185, 0), (4189, 0), (4190, 0), (4192, 0), (4193, 0), (4194, 0), (4195, 0), (4197, 0), (4198, 0), (4199, 0), (4201, 0), (4203, 0), (4204, 0), (4205, 0), (4206, 7), (4207, 0), (4208, 0), (4209, 0), (4210, 0), (4212, 0), (4213, 0), (4214, 0), (4216, 0), (4217, 0), (4218, 0), (4219, 0), (4220, 0), (4221, 0), (4222, 0), (4223, 0), (4224, 0), (4225, 5), (4226, 0), (4227, 7), (4228, 0), (4229, 0), (4230, 0), (4231, 0), (4233, 0), (4234, 0), (4235, 0), (4236, 0), (4237, 7), (4238, 0), (4239, 0), (4240, 0), (4242, 0), (4243, 0), (4244, 0), (4245, 0), (4246, 0), (4247, 0), (4248, 0), (4249, 0), (4251, 0), (4252, 0), (4255, 0), (4256, 9), (4257, 0), (4258, 0), (4259, 0), (4260, 0), (4261, 0), (4262, 10), (4264, 0), (4265, 0), (4266, 10), (4267, 9), (4268, 0), (4269, 0), (4270, 0), (4271, 0), (4272, 0), (4273, 0), (4274, 0), (4275, 0), (4276, 0), (4279, 0), (4280, 0), (4281, 0), (4283, 0), (4284, 0), (4285, 0), (4286, 0), (4287, 0), (4288, 0), (4289, 0), (4290, 0), (4291, 0), (4292, 0), (4293, 0), (4294, 0), (4295, 0), (4296, 7), (4297, 0), (4298, 0), (4299, 0), (4300, 0), (4301, 0), (4302, 0), (4304, 0), (4305, 0), (4306, 0), (4307, 0), (4308, 0), (4309, 0), (4310, 0), (4311, 8), (4312, 0), (4313, 0), (4314, 0), (4315, 0), (4316, 0), (4317, 0), (4318, 0), (4319, 0), (4320, 0), (4322, 0), (4323, 0), (4326, 0), (4327, 0), (4328, 0), (4329, 0), (4330, 0), (4331, 0), (4333, 0), (4335, 0), (4337, 0), (4338, 0), (4340, 0), (4341, 0), (4342, 0), (4343, 0), (4344, 0), (4345, 0), (4346, 0), (4347, 0), (4348, 0), (4349, 0), (4350, 0), (4353, 0), (4354, 0), (4355, 0), (4356, 0), (4357, 0), (4358, 0), (4359, 0), (4361, 0), (4362, 0), (4363, 0), (4364, 0), (4366, 0), (4367, 0), (4369, 0), (4370, 0), (4371, 0), (4372, 0), (4373, 0), (4375, 0), (4376, 8), (4377, 8), (4378, 7), (4379, 0), (4381, 0), (4382, 0), (4383, 0), (4384, 0), (4385, 7), (4386, 0), (4387, 0), (4388, 0), (4389, 0), (4390, 0), (4391, 0), (4392, 0), (4393, 0), (4395, 0), (4397, 0), (4398, 0), (4399, 0), (4401, 0), (4402, 0), (4403, 0), (4404, 10), (4405, 10), (4406, 0), (4407, 0), (4408, 0), (4409, 0), (4410, 0), (4411, 0), (4412, 0), (4413, 0), (4414, 0), (4415, 0), (4416, 0), (4417, 0), (4418, 0), (4420, 0), (4421, 0), (4422, 0), (4425, 0), (4427, 0), (4428, 7), (4429, 0), (4430, 0), (4431, 0), (4432, 0), (4433, 0), (4434, 0), (4435, 0), (4436, 0), (4438, 0), (4439, 0), (4440, 0), (4441, 0), (4442, 0), (4443, 9), (4444, 0), (4445, 0), (4447, 0), (4448, 0), (4449, 0), (4450, 0), (4455, 0), (4456, 0), (4457, 0), (4459, 0), (4461, 0), (4462, 0), (4463, 0), (4465, 0), (4468, 0), (4470, 0), (4472, 0), (4473, 0), (4475, 8), (4476, 0), (4477, 0), (4480, 0), (4481, 0), (4483, 0), (4484, 0), (4485, 0), (4486, 0), (4487, 0), (4488, 0), (4489, 0), (4490, 0), (4492, 0), (4493, 0), (4494, 0), (4495, 0), (4496, 0), (4497, 0), (4501, 0), (4502, 7), (4503, 0), (4504, 0), (4505, 0), (4506, 0), (4508, 0), (4509, 0), (4510, 0), (4511, 0), (4512, 0), (4513, 0), (4514, 0), (4515, 0), (4517, 0), (4518, 0), (4519, 0), (4520, 0), (4521, 0), (4522, 0), (4523, 0), (4526, 0), (4527, 0), (4528, 9), (4529, 0), (4530, 0), (4531, 0), (4533, 0), (4535, 0), (4536, 0), (4537, 0), (4538, 0), (4539, 0), (4540, 0), (4541, 0), (4542, 0), (4543, 0), (4544, 0), (4545, 8), (4547, 0), (4548, 0), (4549, 0), (4550, 0), (4551, 0), (4552, 0), (4554, 0), (4555, 0), (4556, 0), (4557, 0), (4558, 6), (4560, 0), (4562, 7), (4563, 0), (4564, 0), (4567, 0), (4568, 0), (4569, 0), (4570, 0), (4571, 0), (4572, 0), (4574, 0), (4575, 0), (4576, 0), (4577, 0), (4578, 9), (4579, 0), (4580, 0), (4581, 0), (4582, 10), (4583, 0), (4584, 0), (4585, 0), (4586, 0), (4587, 0), (4588, 0), (4589, 0), (4590, 0), (4591, 0), (4592, 4), (4593, 0), (4594, 0), (4595, 0), (4596, 0), (4598, 0), (4600, 0), (4602, 0), (4604, 0), (4605, 8), (4609, 0), (4610, 0), (4611, 0), (4612, 0), (4613, 0), (4615, 0), (4616, 0), (4618, 0), (4619, 0), (4621, 0), (4622, 0), (4623, 0), (4624, 0), (4625, 0), (4626, 0), (4627, 0), (4628, 0), (4629, 0), (4630, 0), (4631, 0), (4632, 0), (4633, 0), (4634, 0), (4635, 0), (4636, 0), (4637, 0), (4638, 0), (4640, 0), (4641, 8), (4644, 0), (4645, 0), (4648, 0), (4649, 0), (4650, 0), (4651, 0), (4652, 0), (4654, 9), (4655, 0), (4656, 0), (4657, 8), (4659, 0), (4661, 0), (4662, 0), (4663, 0), (4664, 0), (4665, 0), (4666, 0), (4667, 0), (4668, 0), (4669, 0), (4670, 0), (4671, 0), (4672, 0), (4673, 0), (4675, 0), (4676, 0), (4677, 0), (4679, 0), (4680, 0), (4681, 0), (4682, 0), (4683, 0), (4684, 0), (4685, 0), (4686, 10), (4687, 0), (4688, 0), (4689, 0), (4690, 0), (4693, 0), (4696, 0), (4697, 0), (4698, 0), (4699, 0), (4701, 0), (4702, 0), (4703, 0), (4704, 0), (4705, 0), (4706, 0), (4707, 0), (4708, 0), (4709, 0), (4710, 0), (4711, 0), (4712, 0), (4713, 0), (4714, 0), (4715, 0), (4716, 0), (4717, 0), (4718, 0), (4719, 0), (4720, 0), (4721, 0), (4722, 0), (4723, 0), (4724, 10), (4725, 0), (4726, 0), (4727, 0), (4728, 0), (4729, 0), (4730, 0), (4731, 10), (4732, 0), (4733, 0), (4734, 0), (4735, 0), (4736, 0), (4737, 3), (4738, 6), (4739, 0), (4740, 0), (4741, 0), (4742, 10), (4743, 0), (4744, 0), (4745, 0), (4746, 0), (4747, 7), (4748, 0), (4749, 0), (4750, 0), (4751, 0), (4752, 0), (4753, 0), (4754, 0), (4755, 0), (4756, 0), (4757, 0), (4758, 0), (4759, 7), (4760, 7), (4761, 0), (4762, 0), (4763, 0), (4764, 0), (4765, 0), (4767, 9), (4768, 0), (4769, 0), (4770, 0), (4771, 0), (4772, 0), (4773, 0), (4774, 0), (4775, 0), (4776, 6), (4777, 0), (4778, 0), (4779, 0), (4780, 0), (4781, 0), (4782, 0), (4783, 0), (4784, 0), (4785, 0), (4786, 0), (4788, 0), (4789, 0), (4790, 0), (4791, 0), (4792, 0), (4793, 0), (4794, 0), (4795, 0), (4797, 0), (4800, 0), (4804, 0), (4806, 0), (4807, 0), (4809, 0), (4813, 0), (4814, 0), (4818, 0), (4819, 0), (4821, 0), (4822, 0), (4823, 0), (4824, 7), (4825, 8), (4829, 0), (4830, 0), (4831, 0), (4833, 0), (4834, 0), (4838, 0), (4840, 0), (4841, 0), (4843, 0), (4844, 0), (4845, 0), (4846, 0), (4849, 10), (4850, 0), (4852, 0), (4853, 0), (4854, 0), (4855, 0), (4857, 0), (4860, 0), (4861, 0), (4862, 0), (4863, 0), (4865, 0), (4866, 0), (4867, 0), (4868, 0), (4869, 0), (4871, 0), (4873, 0), (4875, 0), (4876, 0), (4877, 0), (4879, 0), (4881, 0), (4882, 0), (4883, 0), (4887, 0), (4889, 10), (4890, 0), (4891, 0), (4892, 0), (4893, 0), (4894, 8), (4895, 0), (4896, 0), (4897, 0), (4898, 0), (4899, 6), (4900, 0), (4901, 0), (4902, 0), (4903, 0), (4904, 0), (4905, 0), (4906, 0), (4907, 0), (4908, 0), (4909, 0), (4910, 0), (4911, 0), (4913, 0), (4914, 0), (4915, 0), (4916, 0), (4917, 0), (4918, 0), (4919, 0), (4920, 0), (4921, 0), (4922, 0), (4923, 0), (4924, 6), (4926, 0), (4927, 0), (4928, 10), (4929, 0), (4930, 10), (4931, 0), (4932, 0), (4933, 0), (4934, 0), (4935, 0), (4936, 0), (4937, 0), (4938, 0), (4939, 0), (4940, 0), (4941, 0), (4942, 0), (4943, 9), (4944, 0), (4945, 0), (4947, 0), (4948, 0), (4949, 0), (4950, 0), (4951, 0), (4952, 0), (4953, 0), (4954, 0), (4955, 7), (4956, 0), (4957, 0), (4958, 0), (4959, 6), (4960, 0), (4961, 0), (4962, 0), (4963, 0), (4967, 0), (4968, 6), (4971, 0), (4972, 0), (4973, 0), (4974, 0), (4975, 0), (4978, 0), (4981, 0), (4984, 0), (4986, 0), (4987, 0), (4989, 0), (4990, 0), (4991, 0), (4992, 0), (4993, 0), (4994, 0), (4996, 0), (4998, 7), (4999, 0), (5000, 8), (5003, 0), (5004, 0), (5006, 0), (5007, 0), (5008, 0), (5009, 0), (5010, 0), (5011, 0), (5012, 0), (5013, 0), (5014, 0), (5015, 0), (5016, 10), (5017, 0), (5018, 0), (5019, 0), (5020, 0), (5021, 0), (5022, 0), (5023, 0), (5024, 0), (5025, 0), (5026, 0), (5027, 0), (5028, 0), (5029, 0), (5030, 0), (5031, 0), (5032, 0), (5033, 0), (5034, 0), (5035, 0), (5036, 7), (5037, 0), (5038, 0), (5039, 0), (5040, 0), (5041, 0), (5042, 0), (5043, 0), (5044, 0), (5045, 0), (5046, 0), (5047, 7), (5048, 0), (5049, 0), (5050, 8), (5051, 0), (5052, 0), (5053, 0), (5055, 0), (5056, 0), (5057, 0), (5058, 0), (5059, 0), (5060, 0), (5061, 0), (5062, 0), (5063, 0), (5064, 0), (5068, 0), (5069, 0), (5072, 0), (5074, 0), (5076, 0), (5077, 0), (5081, 0), (5083, 0), (5085, 0), (5086, 0), (5087, 0), (5089, 0), (5090, 0), (5092, 0), (5093, 0), (5094, 0), (5095, 0), (5097, 0), (5098, 0), (5101, 0), (5102, 8), (5103, 0), (5104, 0), (5105, 0), (5106, 0), (5107, 0), (5108, 0), (5109, 0), (5110, 0), (5111, 0), (5112, 0), (5113, 0), (5114, 0), (5115, 0), (5116, 0), (5117, 0), (5118, 0), (5119, 0), (5120, 0), (5121, 0), (5122, 0), (5123, 0), (5124, 0), (5125, 0), (5126, 0), (5127, 0), (5128, 0), (5129, 0), (5130, 0), (5131, 0), (5132, 4), (5133, 0), (5134, 0), (5135, 0), (5136, 0), (5137, 0), (5138, 0), (5139, 0), (5140, 0), (5141, 9), (5143, 0), (5144, 7), (5145, 0), (5147, 0), (5148, 7), (5149, 0), (5152, 0), (5153, 0), (5154, 9), (5155, 0), (5156, 0), (5157, 5), (5158, 0), (5159, 0), (5160, 0), (5161, 0), (5162, 0), (5163, 0), (5164, 0), (5165, 0), (5166, 0), (5167, 9), (5168, 0), (5169, 0), (5170, 0), (5171, 0), (5172, 10), (5173, 0), (5174, 0), (5175, 0), (5176, 0), (5180, 0), (5181, 0), (5182, 0), (5184, 0), (5185, 0), (5188, 0), (5190, 0), (5193, 0), (5195, 8), (5196, 0), (5197, 0), (5198, 5), (5199, 0), (5200, 0), (5201, 0), (5203, 0), (5204, 0), (5205, 0), (5206, 0), (5208, 0), (5209, 0), (5211, 0), (5212, 0), (5214, 0), (5215, 0), (5217, 0), (5218, 0), (5219, 0), (5220, 0), (5221, 0), (5222, 0), (5223, 0), (5224, 0), (5225, 0), (5227, 0), (5228, 6), (5229, 0), (5230, 0), (5231, 8), (5232, 10), (5233, 7), (5234, 0), (5235, 0), (5236, 0), (5237, 0), (5238, 0), (5239, 0), (5240, 0), (5241, 0), (5243, 0), (5244, 0), (5245, 0), (5246, 0), (5247, 0), (5248, 0), (5249, 0), (5250, 0), (5252, 0), (5254, 0), (5255, 0), (5256, 0), (5257, 0), (5258, 0), (5259, 0), (5260, 0), (5261, 0), (5262, 0), (5263, 0), (5264, 0), (5265, 0), (5266, 0), (5267, 9), (5269, 0), (5270, 0), (5271, 0), (5272, 0), (5273, 0), (5274, 0), (5275, 9), (5276, 0), (5277, 0), (5278, 0), (5279, 0), (5280, 0), (5281, 0), (5282, 0), (5283, 0), (5284, 0), (5285, 0), (5286, 0), (5287, 0), (5288, 0), (5289, 9), (5290, 0), (5291, 0), (5292, 0), (5294, 0), (5295, 0), (5296, 10), (5297, 0), (5298, 0), (5299, 0), (5301, 0), (5303, 0), (5305, 0), (5306, 0), (5307, 0), (5308, 0), (5309, 0), (5311, 0), (5312, 0), (5314, 10), (5316, 0), (5317, 0), (5318, 0), (5319, 0), (5320, 0), (5321, 0), (5322, 0), (5323, 0), (5324, 10), (5325, 0), (5326, 10), (5327, 0), (5328, 10), (5329, 0), (5330, 0), (5331, 6), (5333, 0), (5334, 0), (5335, 0), (5336, 0), (5338, 0), (5339, 0), (5340, 0), (5341, 0), (5343, 0), (5345, 0), (5346, 0), (5347, 0), (5348, 0), (5349, 10), (5350, 0), (5351, 0), (5352, 0), (5353, 0), (5354, 6), (5355, 0), (5356, 0), (5357, 7), (5358, 0), (5359, 0), (5362, 0), (5363, 0), (5364, 0), (5365, 0), (5367, 0), (5368, 0), (5370, 8), (5371, 0), (5372, 0), (5373, 0), (5374, 0), (5375, 0), (5376, 0), (5377, 0), (5378, 0), (5379, 0), (5380, 0), (5382, 0), (5383, 0), (5384, 0), (5386, 0), (5387, 8), (5388, 0), (5389, 0), (5390, 0), (5391, 0), (5392, 0), (5393, 0), (5394, 0), (5395, 2), (5396, 0), (5397, 0), (5398, 0), (5399, 0), (5400, 0), (5401, 0), (5402, 8), (5404, 0), (5405, 0), (5406, 0), (5407, 0), (5408, 0), (5409, 0), (5410, 0), (5411, 0), (5412, 0), (5413, 0), (5414, 6), (5416, 0), (5417, 0), (5418, 10), (5419, 0), (5420, 0), (5421, 0), (5422, 0), (5423, 0), (5424, 0), (5425, 0), (5426, 9), (5427, 0), (5428, 0), (5431, 0), (5433, 0), (5434, 0), (5435, 0), (5436, 0), (5438, 0), (5439, 0), (5440, 0), (5441, 0), (5443, 0), (5444, 0), (5445, 0), (5446, 0), (5447, 0), (5448, 0), (5449, 0), (5450, 0), (5451, 0), (5452, 5), (5453, 0), (5454, 0), (5455, 0), (5456, 0), (5457, 0), (5458, 0), (5459, 0), (5460, 0), (5462, 0), (5464, 0), (5465, 0), (5466, 10), (5467, 0), (5468, 0), (5470, 0), (5471, 0), (5472, 0), (5473, 0), (5474, 0), (5475, 0), (5476, 7), (5477, 0), (5478, 0), (5479, 0), (5480, 0), (5481, 0), (5482, 0), (5484, 0), (5485, 0), (5486, 0), (5490, 0), (5492, 0), (5493, 0), (5494, 0), (5496, 0), (5497, 0), (5498, 0), (5499, 0), (5501, 10), (5502, 0), (5503, 0), (5504, 8), (5505, 0), (5506, 0), (5507, 0), (5508, 0), (5509, 0), (5510, 0), (5511, 0), (5512, 0), (5513, 0), (5514, 0), (5515, 5), (5516, 0), (5517, 0), (5518, 0), (5519, 0), (5520, 10), (5521, 0), (5522, 0), (5523, 0), (5524, 0), (5525, 0), (5526, 0), (5527, 0), (5528, 0), (5529, 7), (5530, 0), (5532, 0), (5533, 0), (5534, 0), (5535, 0), (5536, 0), (5537, 0), (5538, 0), (5539, 0), (5540, 0), (5541, 6), (5542, 0), (5543, 0), (5544, 0), (5545, 0), (5546, 0), (5547, 0), (5548, 7), (5549, 0), (5550, 0), (5551, 0), (5552, 0), (5553, 0), (5554, 0), (5555, 10), (5556, 0), (5557, 0), (5558, 0), (5559, 0), (5560, 7), (5561, 0), (5562, 0), (5563, 0), (5564, 0), (5565, 0), (5566, 0), (5567, 0), (5568, 9), (5569, 0), (5570, 0), (5571, 0), (5572, 0), (5573, 0), (5574, 0), (5575, 0), (5576, 0), (5577, 4), (5578, 5), (5579, 0), (5580, 0), (5581, 0), (5582, 0), (5583, 0), (5584, 0), (5585, 0), (5586, 0), (5587, 0), (5588, 0), (5589, 0), (5590, 0), (5591, 0), (5592, 0), (5593, 0), (5594, 0), (5595, 7), (5596, 0), (5597, 0), (5599, 9), (5600, 0), (5601, 0), (5602, 0), (5603, 0), (5604, 0), (5605, 0), (5606, 0), (5607, 0), (5608, 0), (5609, 0), (5611, 8), (5612, 0), (5613, 6), (5614, 0), (5615, 6), (5616, 0), (5617, 0), (5618, 0), (5619, 0), (5620, 0), (5621, 0), (5622, 0), (5623, 0), (5624, 0), (5625, 0), (5626, 0), (5627, 1), (5628, 0), (5629, 0), (5630, 0), (5631, 0), (5632, 0), (5633, 0), (5634, 0), (5635, 0), (5636, 0), (5637, 0), (5638, 0), (5639, 0), (5640, 0), (5641, 0), (5642, 0), (5644, 0), (5646, 0), (5647, 0), (5648, 0), (5649, 0), (5650, 0), (5651, 0), (5652, 0), (5653, 0), (5654, 0), (5655, 0), (5656, 5), (5657, 5), (5658, 0), (5659, 0), (5660, 7), (5661, 0), (5662, 0), (5663, 0), (5664, 0), (5665, 0), (5666, 8), (5667, 8), (5668, 8), (5670, 0), (5672, 0), (5673, 0), (5674, 0), (5675, 0), (5676, 0), (5677, 0), (5678, 0), (5679, 0), (5680, 0), (5681, 0), (5682, 0), (5683, 0), (5684, 0), (5685, 0), (5686, 0), (5687, 0), (5688, 0), (5689, 0), (5690, 10), (5691, 0), (5692, 10), (5693, 0), (5694, 0), (5695, 10), (5696, 0), (5697, 0), (5698, 0), (5699, 0), (5700, 0), (5701, 0), (5702, 0), (5703, 0), (5704, 0), (5705, 0), (5706, 0), (5708, 0), (5709, 0), (5710, 5), (5711, 0), (5712, 0), (5713, 0), (5714, 0), (5715, 0), (5716, 0), (5717, 0), (5718, 0), (5719, 0), (5720, 9), (5721, 0), (5722, 0), (5723, 9), (5724, 9), (5725, 0), (5726, 0), (5727, 0), (5728, 0), (5729, 0), (5730, 10), (5731, 0), (5732, 0), (5734, 0), (5735, 9), (5736, 6), (5737, 8), (5738, 0), (5739, 7), (5740, 0), (5741, 3), (5742, 8), (5743, 0), (5744, 0), (5745, 0), (5746, 0), (5747, 0), (5748, 0), (5749, 0), (5750, 0), (5751, 0), (5752, 0), (5753, 0), (5754, 0), (5755, 0), (5756, 0), (5757, 0), (5758, 0), (5759, 9), (5760, 0), (5761, 0), (5762, 0), (5763, 0), (5764, 0), (5765, 0), (5766, 0), (5767, 0), (5768, 0), (5769, 0), (5770, 0), (5771, 0), (5772, 9), (5773, 0), (5774, 0), (5777, 0), (5778, 0), (5779, 0), (5780, 0), (5781, 8), (5782, 0), (5783, 0), (5784, 0), (5785, 0), (5786, 0), (5787, 0), (5788, 0), (5789, 5), (5790, 7), (5791, 0), (5792, 0), (5793, 0), (5794, 0), (5795, 0), (5796, 0), (5797, 0), (5798, 0), (5799, 10), (5800, 0), (5801, 5), (5802, 0), (5803, 0), (5804, 0), (5805, 0), (5806, 0), (5807, 0), (5808, 9), (5810, 0), (5811, 0), (5812, 0), (5813, 10), (5814, 0), (5815, 0), (5816, 0), (5817, 10), (5818, 0), (5819, 10), (5820, 0), (5821, 0), (5822, 0), (5823, 0), (5824, 5), (5825, 0), (5826, 0), (5827, 0), (5828, 0), (5829, 0), (5830, 0), (5831, 0), (5832, 0), (5833, 0), (5834, 0), (5835, 0), (5836, 0), (5837, 0), (5838, 0), (5840, 0), (5841, 0), (5842, 0), (5843, 0), (5844, 7), (5845, 0), (5846, 0), (5847, 0), (5848, 0), (5849, 0), (5850, 0), (5851, 0), (5852, 8), (5853, 0), (5854, 0), (5855, 0), (5856, 0), (5857, 7), (5858, 7), (5859, 0), (5860, 0), (5861, 0), (5862, 0), (5863, 0), (5864, 0), (5865, 0), (5866, 0), (5867, 0), (5868, 0), (5869, 0), (5870, 0), (5871, 0), (5873, 0), (5874, 0), (5875, 0), (5876, 0), (5877, 0), (5878, 0), (5879, 0), (5880, 0), (5881, 0), (5882, 0), (5883, 0), (5884, 0), (5885, 0), (5886, 0), (5887, 0), (5888, 0), (5889, 0), (5890, 9), (5891, 0), (5892, 0), (5893, 0), (5894, 0), (5895, 0), (5896, 8), (5897, 0), (5898, 0), (5900, 0), (5901, 0), (5902, 0), (5903, 0), (5904, 0), (5905, 0), (5906, 0), (5907, 0), (5908, 0), (5909, 0), (5910, 0), (5912, 0), (5913, 0), (5914, 0), (5915, 0), (5916, 0), (5917, 0), (5918, 0), (5920, 0), (5921, 0), (5922, 10), (5923, 0), (5924, 10), (5925, 0), (5926, 0), (5927, 0), (5928, 10), (5929, 6), (5930, 10), (5931, 0), (5932, 0), (5933, 0), (5934, 0), (5935, 0), (5936, 0), (5938, 0), (5940, 0), (5941, 0), (5944, 0), (5945, 0), (5947, 0), (5948, 0), (5949, 7), (5950, 0), (5951, 0), (5952, 0), (5955, 0), (5956, 0), (5957, 0), (5958, 0), (5959, 0), (5961, 0), (5962, 0), (5964, 0), (5965, 0), (5966, 0), (5968, 0), (5969, 0), (5970, 0), (5971, 0), (5973, 0), (5974, 0), (5975, 0), (5976, 0), (5978, 0), (5980, 0), (5983, 0), (5984, 0), (5986, 0), (5987, 0), (5988, 0), (5989, 0), (5991, 0), (5992, 0), (5993, 0), (5994, 0), (5995, 0), (5996, 10), (5997, 0), (5998, 6), (5999, 0), (6000, 0), (6001, 0), (6002, 0), (6003, 0), (6004, 0), (6005, 8), (6006, 6), (6007, 0), (6008, 0), (6009, 0), (6010, 10), (6011, 9), (6012, 0), (6013, 8), (6014, 0), (6015, 0), (6016, 0), (6017, 0), (6018, 0), (6019, 0), (6020, 0), (6021, 0), (6022, 0), (6023, 0), (6024, 0), (6025, 0), (6026, 0), (6027, 0), (6028, 0), (6029, 8), (6031, 9), (6032, 0), (6034, 0), (6035, 0), (6036, 0), (6038, 0), (6045, 0), (6046, 0), (6049, 0), (6050, 0), (6051, 0), (6053, 0), (6054, 7), (6056, 0), (6057, 4), (6059, 10), (6060, 0), (6061, 0), (6062, 0), (6063, 4), (6064, 7), (6065, 0), (6066, 0), (6067, 0), (6068, 0), (6069, 0), (6070, 0), (6071, 0), (6072, 0), (6073, 0), (6074, 0), (6075, 0), (6076, 0), (6077, 10), (6078, 10), (6079, 0), (6081, 0), (6082, 0), (6083, 0), (6084, 0), (6085, 0), (6086, 0), (6087, 0), (6088, 0), (6089, 0), (6090, 0), (6092, 0), (6093, 0), (6094, 0), (6095, 0), (6096, 0), (6097, 0), (6098, 0), (6099, 0), (6100, 9), (6101, 0), (6102, 0), (6103, 0), (6104, 9), (6105, 0), (6107, 10), (6108, 9), (6110, 0), (6111, 0), (6112, 0), (6113, 0), (6114, 8), (6115, 0), (6116, 10), (6117, 10), (6118, 0), (6119, 0), (6120, 0), (6121, 6), (6122, 0), (6123, 0), (6124, 0), (6125, 8), (6126, 0), (6127, 0), (6128, 0), (6129, 0), (6130, 0), (6131, 0), (6132, 0), (6133, 0), (6135, 0), (6136, 8), (6137, 0), (6138, 0), (6139, 0), (6140, 8), (6141, 0), (6142, 0), (6143, 0), (6144, 0), (6145, 0), (6146, 0), (6148, 0), (6149, 5), (6150, 0), (6151, 8), (6153, 0), (6154, 0), (6155, 8), (6156, 0), (6157, 0), (6158, 0), (6159, 0), (6160, 10), (6161, 0), (6162, 0), (6163, 0), (6164, 0), (6165, 0), (6167, 0), (6168, 0), (6169, 0), (6170, 0), (6171, 0), (6172, 0), (6173, 6), (6174, 0), (6176, 0), (6177, 0), (6178, 0), (6179, 0), (6180, 8), (6183, 0), (6184, 10), (6185, 0), (6186, 0), (6187, 0), (6188, 0), (6189, 0), (6190, 0), (6192, 0), (6194, 0), (6195, 0), (6197, 10), (6198, 0), (6199, 0), (6200, 0), (6201, 0), (6202, 0), (6203, 0), (6204, 0), (6205, 0), (6206, 0), (6207, 0), (6209, 9), (6210, 0), (6211, 0), (6212, 0), (6213, 0), (6214, 0), (6215, 0), (6216, 0), (6218, 0), (6219, 0), (6220, 0), (6221, 0), (6222, 0), (6223, 0), (6224, 0), (6225, 0), (6226, 0), (6227, 0), (6228, 1), (6229, 0), (6230, 0), (6231, 0), (6232, 0), (6233, 0), (6235, 0), (6236, 0), (6237, 0), (6238, 0), (6239, 8), (6240, 0), (6242, 0), (6243, 10), (6244, 5), (6245, 7), (6247, 0), (6248, 0), (6249, 0), (6250, 0), (6251, 0), (6252, 0), (6253, 7), (6254, 0), (6255, 0), (6256, 0), (6257, 0), (6258, 0), (6259, 0), (6260, 0), (6261, 0), (6262, 0), (6263, 8), (6265, 0), (6266, 0), (6267, 0), (6268, 0), (6269, 0), (6270, 0), (6271, 0), (6272, 0), (6273, 0), (6274, 0), (6275, 0), (6276, 0), (6277, 0), (6279, 0), (6280, 0), (6281, 7), (6282, 0), (6283, 0), (6285, 0), (6286, 0), (6287, 0), (6290, 0), (6291, 0), (6292, 0), (6293, 0), (6294, 0), (6295, 0), (6296, 0), (6297, 0), (6298, 0), (6299, 0), (6300, 0), (6301, 0), (6302, 0), (6303, 0), (6305, 0), (6306, 0), (6307, 0), (6308, 0), (6309, 0), (6310, 0), (6311, 0), (6312, 0), (6314, 0), (6315, 9), (6316, 0), (6317, 0), (6318, 0), (6319, 10), (6320, 0), (6321, 0), (6322, 0), (6323, 8), (6324, 0), (6325, 0), (6326, 7), (6327, 0), (6328, 0), (6329, 0), (6330, 0), (6331, 0), (6332, 7), (6333, 0), (6334, 0), (6335, 0), (6336, 0), (6337, 0), (6338, 0), (6339, 0), (6340, 0), (6341, 0), (6342, 0), (6343, 0), (6344, 0), (6345, 0), (6346, 0), (6347, 0), (6348, 7), (6349, 0), (6350, 0), (6351, 0), (6352, 0), (6353, 6), (6354, 0), (6355, 0), (6356, 0), (6357, 0), (6358, 0), (6359, 0), (6360, 0), (6361, 0), (6362, 10), (6363, 0), (6364, 0), (6365, 0), (6366, 0), (6367, 0), (6368, 0), (6369, 0), (6370, 0), (6371, 0), (6372, 0), (6373, 0), (6374, 0), (6375, 0), (6376, 0), (6377, 0), (6378, 9), (6379, 0), (6380, 0), (6384, 0), (6385, 0), (6386, 6), (6387, 0), (6388, 0), (6389, 0), (6390, 0), (6391, 0), (6392, 0), (6394, 0), (6395, 0), (6398, 0), (6400, 0), (6401, 0), (6402, 0), (6403, 0), (6405, 0), (6406, 0), (6407, 0), (6408, 0), (6409, 0), (6410, 0), (6411, 0), (6412, 0), (6414, 0), (6415, 0), (6417, 0), (6418, 0), (6419, 0), (6420, 0), (6421, 0), (6423, 0), (6424, 0), (6425, 0), (6426, 8), (6427, 0), (6428, 0), (6429, 0), (6430, 0), (6431, 0), (6432, 0), (6435, 0), (6436, 0), (6437, 0), (6439, 0), (6441, 0), (6442, 0), (6444, 0), (6445, 0), (6446, 0), (6447, 0), (6448, 0), (6449, 0), (6450, 0), (6452, 0), (6453, 0), (6455, 0), (6456, 0), (6457, 0), (6458, 0), (6459, 0), (6460, 0), (6461, 0), (6462, 0), (6464, 0), (6465, 0), (6466, 0), (6467, 0), (6469, 0), (6470, 0), (6471, 0), (6472, 0), (6473, 0), (6474, 0), (6475, 0), (6476, 0), (6477, 0), (6478, 0), (6480, 0), (6482, 0), (6483, 0), (6484, 0), (6485, 0), (6486, 0), (6487, 0), (6488, 0), (6489, 0), (6490, 0), (6491, 0), (6492, 0), (6493, 0), (6494, 0), (6495, 0), (6496, 0), (6497, 0), (6498, 0), (6499, 0), (6500, 0), (6501, 0), (6502, 0), (6503, 0), (6504, 0), (6505, 0), (6506, 0), (6507, 0), (6508, 0), (6509, 0), (6510, 0), (6511, 0), (6512, 0), (6513, 0), (6514, 0), (6515, 0), (6516, 0), (6517, 0), (6518, 10), (6520, 0), (6521, 0), (6522, 0), (6523, 0), (6524, 0), (6526, 0), (6527, 0), (6528, 0), (6529, 0), (6530, 0), (6531, 0), (6532, 0), (6533, 0), (6534, 0), (6537, 0), (6538, 0), (6539, 0), (6543, 0), (6545, 0), (6546, 0), (6547, 0), (6548, 0), (6549, 0), (6550, 0), (6551, 0), (6552, 0), (6554, 0), (6555, 0), (6556, 0), (6557, 0), (6558, 0), (6560, 0), (6561, 0), (6562, 0), (6563, 0), (6564, 0), (6565, 0), (6566, 0), (6567, 0), (6568, 0), (6569, 0), (6570, 0), (6571, 0), (6572, 0), (6574, 0), (6576, 0), (6577, 0), (6578, 0), (6579, 0), (6580, 0), (6581, 0), (6582, 0), (6583, 0), (6584, 0), (6588, 0), (6590, 0), (6591, 0), (6593, 0), (6594, 0), (6595, 0), (6596, 0), (6597, 0), (6599, 0), (6600, 0), (6601, 0), (6602, 0), (6603, 0), (6604, 0), (6605, 0), (6606, 0), (6607, 0), (6608, 0), (6610, 0), (6611, 0), (6613, 0), (6615, 0), (6617, 0), (6619, 0), (6622, 0), (6623, 0), (6625, 0), (6626, 0), (6627, 0), (6628, 0), (6629, 0), (6630, 0), (6631, 0), (6633, 0), (6637, 0), (6638, 0), (6639, 0), (6641, 0), (6642, 0), (6643, 0), (6644, 0), (6645, 0), (6646, 0), (6647, 0), (6648, 0), (6649, 0), (6650, 0), (6651, 0), (6652, 0), (6653, 0), (6654, 0), (6655, 0), (6656, 0), (6657, 0), (6658, 0), (6661, 0), (6662, 0), (6663, 0), (6664, 0), (6665, 0), (6666, 0), (6667, 0), (6668, 0), (6669, 0), (6670, 0), (6671, 0), (6673, 0), (6675, 0), (6676, 0), (6677, 0), (6678, 0), (6679, 0), (6680, 0), (6681, 0), (6683, 0), (6685, 0), (6686, 0), (6687, 0), (6688, 0), (6689, 0), (6690, 0), (6692, 0), (6693, 0), (6694, 0), (6695, 0), (6696, 0), (6697, 0), (6698, 0), (6699, 0), (6700, 0), (6701, 0), (6702, 0), (6703, 0), (6704, 0), (6705, 0), (6706, 0), (6707, 0), (6708, 0), (6709, 0), (6710, 0), (6711, 0), (6712, 0), (6714, 0), (6715, 0), (6716, 0), (6717, 0), (6718, 0), (6719, 0), (6720, 0), (6721, 0), (6722, 0), (6724, 0), (6725, 0), (6726, 0), (6727, 0), (6728, 0), (6729, 0), (6730, 0), (6731, 0), (6732, 0), (6733, 0), (6734, 0), (6735, 0), (6736, 0), (6737, 0), (6738, 0), (6739, 0), (6740, 0), (6741, 0), (6742, 0), (6743, 0), (6745, 0), (6746, 0), (6747, 0), (6748, 0), (6749, 0), (6750, 0), (6751, 0), (6752, 0), (6753, 0), (6754, 0), (6755, 0), (6756, 0), (6757, 0), (6758, 0), (6759, 0), (6760, 0), (6761, 0), (6762, 0), (6763, 0), (6764, 0), (6765, 0), (6766, 0), (6767, 0), (6768, 0), (6769, 0), (6770, 0), (6771, 0), (6772, 0), (6773, 0), (6774, 0), (6775, 0), (6777, 0), (6778, 10), (6779, 0), (6781, 0), (6782, 0), (6783, 0), (6784, 0), (6785, 0), (6786, 0), (6787, 0), (6789, 0), (6790, 0), (6792, 0), (6793, 0), (6794, 0), (6795, 0), (6796, 0), (6797, 0), (6798, 0), (6800, 0), (6801, 0), (6802, 0), (6803, 0), (6804, 0), (6806, 0), (6807, 0), (6808, 0), (6809, 0), (6810, 0), (6811, 0), (6812, 0), (6813, 0), (6815, 0), (6816, 0), (6817, 0), (6819, 0), (6820, 0), (6821, 0), (6822, 0), (6823, 0), (6824, 0), (6825, 0), (6826, 0), (6827, 0), (6828, 0), (6829, 0), (6830, 0), (6831, 0), (6832, 0), (6833, 0), (6834, 0), (6835, 0), (6836, 0), (6837, 0), (6838, 0), (6839, 0), (6840, 0), (6841, 0), (6842, 0), (6843, 0), (6844, 0), (6845, 0), (6846, 0), (6847, 0), (6848, 0), (6849, 0), (6850, 0), (6851, 0), (6852, 0), (6853, 0), (6854, 0), (6856, 0), (6857, 0), (6858, 0), (6860, 0), (6861, 0), (6862, 0), (6863, 0), (6865, 0), (6866, 0), (6867, 0), (6868, 0), (6869, 0), (6870, 0), (6871, 0), (6872, 0), (6873, 0), (6874, 0), (6875, 0), (6876, 0), (6877, 0), (6878, 0), (6879, 0), (6880, 0), (6881, 0), (6883, 0), (6884, 0), (6885, 0), (6886, 0), (6887, 0), (6888, 0), (6889, 0), (6890, 0), (6891, 0), (6892, 0), (6894, 0), (6895, 0), (6896, 0), (6897, 0), (6898, 0), (6899, 0), (6900, 0), (6901, 0), (6903, 0), (6904, 0), (6906, 0), (6907, 0), (6908, 0), (6909, 0), (6910, 5)]\n"
          ]
        }
      ],
      "source": [
        "print(bayesian_recommendation(matrix, user_vector))"
      ]
    },
    {
      "cell_type": "markdown",
      "metadata": {
        "id": "kXK1pcjZ5Vdq"
      },
      "source": [
        "KNN clustering"
      ]
    },
    {
      "cell_type": "code",
      "execution_count": 53,
      "metadata": {
        "id": "7sy3u8tX5Uo9"
      },
      "outputs": [],
      "source": [
        "k = 10"
      ]
    },
    {
      "cell_type": "code",
      "execution_count": 54,
      "metadata": {
        "id": "-_m9Yofz7UfQ",
        "colab": {
          "base_uri": "https://localhost:8080/"
        },
        "outputId": "21b30491-435e-4e19-b5f5-2ff8a8d3a028"
      },
      "outputs": [
        {
          "output_type": "stream",
          "name": "stdout",
          "text": [
            "Collecting scikit-surprise\n",
            "  Downloading scikit-surprise-1.1.3.tar.gz (771 kB)\n",
            "\u001b[2K     \u001b[90m━━━━━━━━━━━━━━━━━━━━━━━━━━━━━━━━━━━━━━━\u001b[0m \u001b[32m772.0/772.0 kB\u001b[0m \u001b[31m9.6 MB/s\u001b[0m eta \u001b[36m0:00:00\u001b[0m\n",
            "\u001b[?25h  Preparing metadata (setup.py) ... \u001b[?25l\u001b[?25hdone\n",
            "Requirement already satisfied: joblib>=1.0.0 in /usr/local/lib/python3.10/dist-packages (from scikit-surprise) (1.3.2)\n",
            "Requirement already satisfied: numpy>=1.17.3 in /usr/local/lib/python3.10/dist-packages (from scikit-surprise) (1.23.5)\n",
            "Requirement already satisfied: scipy>=1.3.2 in /usr/local/lib/python3.10/dist-packages (from scikit-surprise) (1.10.1)\n",
            "Building wheels for collected packages: scikit-surprise\n",
            "  Building wheel for scikit-surprise (setup.py) ... \u001b[?25l\u001b[?25hdone\n",
            "  Created wheel for scikit-surprise: filename=scikit_surprise-1.1.3-cp310-cp310-linux_x86_64.whl size=2811595 sha256=32df286f223777c0f9d821354f3e7225de498a06bf2f55f2f9e1fdd15a3fef39\n",
            "  Stored in directory: /root/.cache/pip/wheels/a5/ca/a8/4e28def53797fdc4363ca4af740db15a9c2f1595ebc51fb445\n",
            "Successfully built scikit-surprise\n",
            "Installing collected packages: scikit-surprise\n",
            "Successfully installed scikit-surprise-1.1.3\n"
          ]
        }
      ],
      "source": [
        "!pip install scikit-surprise"
      ]
    },
    {
      "cell_type": "code",
      "source": [
        "train_set_stacked = train_set.stack()\n",
        "train_set_stacked = train_set_stacked.reset_index()"
      ],
      "metadata": {
        "id": "9PjEs-PLC1OY"
      },
      "execution_count": 55,
      "outputs": []
    },
    {
      "cell_type": "code",
      "execution_count": 94,
      "metadata": {
        "id": "bvy0UyI26BCt"
      },
      "outputs": [],
      "source": [
        "from surprise import Dataset\n",
        "from surprise import Reader\n",
        "from surprise.dataset import DatasetAutoFolds\n",
        "\n",
        "reader = Reader(rating_scale=(1, 5))\n",
        "train_dataset = Dataset.load_from_df(train_set_stacked, reader)\n"
      ]
    },
    {
      "cell_type": "code",
      "source": [
        "train_dataset = pd.DataFrame(train_dataset.__dict__['raw_ratings'], columns=['user_id','item_id','rating','timestamp'])"
      ],
      "metadata": {
        "id": "2aQb0d8Rm5UF"
      },
      "execution_count": 95,
      "outputs": []
    },
    {
      "cell_type": "code",
      "source": [
        "train_dataset[train_dataset[\"rating\"] == 0] = 1e-5"
      ],
      "metadata": {
        "id": "sRwzs2UTm_na"
      },
      "execution_count": 98,
      "outputs": []
    },
    {
      "cell_type": "code",
      "source": [
        "train_dataset = train_dataset.drop(columns=[\"timestamp\"])"
      ],
      "metadata": {
        "id": "iNP3bd79njgc"
      },
      "execution_count": 99,
      "outputs": []
    },
    {
      "cell_type": "code",
      "source": [
        "train_dataset = Dataset.load_from_df(train_dataset, reader)"
      ],
      "metadata": {
        "id": "B34HNeBrnI29"
      },
      "execution_count": 100,
      "outputs": []
    },
    {
      "cell_type": "code",
      "execution_count": 101,
      "metadata": {
        "id": "BVd7sco-6FaH"
      },
      "outputs": [],
      "source": [
        "trainset = train_dataset.build_full_trainset()"
      ]
    },
    {
      "cell_type": "code",
      "execution_count": 102,
      "metadata": {
        "id": "XQ3wwHLc6L1O"
      },
      "outputs": [],
      "source": [
        "from surprise import KNNBasic\n",
        "model = KNNBasic(k=trainset.n_users, sim_options={\"name\": \"cosine\"})"
      ]
    },
    {
      "cell_type": "code",
      "execution_count": 103,
      "metadata": {
        "id": "x80edKDf6PSA",
        "colab": {
          "base_uri": "https://localhost:8080/"
        },
        "outputId": "bf64fbeb-ca65-40b6-bd05-9193e5eca446"
      },
      "outputs": [
        {
          "output_type": "stream",
          "name": "stdout",
          "text": [
            "Computing the cosine similarity matrix...\n",
            "Done computing similarity matrix.\n"
          ]
        },
        {
          "output_type": "execute_result",
          "data": {
            "text/plain": [
              "<surprise.prediction_algorithms.knns.KNNBasic at 0x7fbe173046d0>"
            ]
          },
          "metadata": {},
          "execution_count": 103
        }
      ],
      "source": [
        "model.fit(trainset)"
      ]
    },
    {
      "cell_type": "code",
      "execution_count": null,
      "metadata": {
        "id": "e-568j4E6UXu"
      },
      "outputs": [],
      "source": [
        "user0 = ratings.index[0]\n",
        "item0 = ratings.columns[0]\n",
        "pred = model.predict(user0, item0)"
      ]
    },
    {
      "cell_type": "code",
      "source": [],
      "metadata": {
        "id": "5Mkh2GRvlhnU"
      },
      "execution_count": null,
      "outputs": []
    }
  ],
  "metadata": {
    "colab": {
      "provenance": [],
      "gpuType": "T4",
      "include_colab_link": true
    },
    "kernelspec": {
      "display_name": "Python 3",
      "name": "python3"
    },
    "language_info": {
      "name": "python"
    },
    "accelerator": "GPU"
  },
  "nbformat": 4,
  "nbformat_minor": 0
}